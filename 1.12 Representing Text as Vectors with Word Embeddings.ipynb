{
 "cells": [
  {
   "cell_type": "markdown",
   "id": "fbb9943a-3a9a-4fba-bd61-dfdffd1a00e3",
   "metadata": {},
   "source": [
    "## Credit\n",
    "\n",
    "Notes are taken from NLPlanet Practical NLP with Python course section 1.12 Representing Texts as Vectors: Word Embeddings \n",
    "* https://www.nlplanet.org/course-practical-nlp/01-intro-to-nlp/11-text-as-vectors-embeddings\n",
    "\n",
    "Authored by Fabio Chiusano\n",
    "* https://medium.com/@chiusanofabio94\n",
    "\n",
    "**All quotes '' are sourced from the NLPlanet course.**"
   ]
  },
  {
   "attachments": {},
   "cell_type": "markdown",
   "id": "fcd44412-77a0-4235-934a-b9a22bfe1fd6",
   "metadata": {},
   "source": [
    "## Word Embeddings\n",
    "\n",
    "**<u>Word Embeddings:</u>**\n",
    "* A type of word representation using numerical vectors.\n",
    "* Similar words can be represented by similar numerical dimensions.\n",
    "* Vectors can be learned through ML algorithms using large natural language datasets (like corpus).\n",
    "\n",
    "**<u>Word Embedding Models:</u>**\n",
    "* Context-independent\n",
    "    * Word2Vec\n",
    "    * GloVe\n",
    "    * FastText\n",
    "* Context-dependent\n",
    "    * RNN based (Recurrent Neural Networks)\n",
    "        * ELMO\n",
    "        * CoVe\n",
    "    * Transformer-based\n",
    "        * BERT\n",
    "        * XLM\n",
    "        * RoBERTa\n",
    "        * ALBERT\n",
    " \n",
    "**<u>Context-independent Embedding:</u>**\n",
    "* The algorithmically learned word vectors are unique and specific to each word without considering the word's context.\n",
    "* Different definitions of a word based on context will NOT be differentiated in their vector representation.\n",
    "* <u>Example:</u>\n",
    "    * In these two texts:\n",
    "        * \"The chef needs to *season* his appetizers.\"\n",
    "        * \"The changing *season* brings frosty mornings.\"\n",
    "    * The word *season* has the same numerical representation.\n",
    "* <u>Models:</u>\n",
    "    * <u>Word2Vec:</u>\n",
    "        * 'Embeddings are learned by an algorithm involving a two-layer neural network trying to reconstruct linguistic contexts of words.'\n",
    "        * Can utilize both of these model architectures:\n",
    "            * <u>Continuous Bag-of-Words (CBOW):</u>\n",
    "                * 'Model predicts the current word from a window of surrounding context words.'\n",
    "            * <u>Continuous Skip-Gram:</u>\n",
    "                * 'Model uses the current word to predict the surrounding window of context words.'\n",
    "    * <u>GloVe (Global Vectors for Word Representation):</u>\n",
    "        * The training method learns word embeddings by analyzing how frequently words appear together in a text corpus.\n",
    "        * By analyzing the co-occurrence patterns of proximal words, the relationships and meanings between words are based on their statistical associations throughout the corpus.\n",
    "    * <u>FastText:</u>\n",
    "        * Develop word embeddings by treating words as being composed of character n-grams (each character being a gram/token) rather than a whole, existing word.\n",
    "        * Embedding in this fashion allows the model to learn unique, uncommon, or non-existent words.\n",
    "     \n",
    "**<u>Context-dependent Embedding:</u>**\n",
    "* Uses methods that 'learn different embeddings for the same word based on its context.'\n",
    "* <u>Example:</u>\n",
    "    * In these two texts:\n",
    "        * \"The chef needs to *season* his appetizers.\"\n",
    "        * \"The changing *season* brings frosty mornings.\"\n",
    "    * The word *season* will have a different numerical representation in each sentence.\n",
    "* <u>RNN based (Recurrent Neural Networks):</u>\n",
    "    * <u>ELMO (Embeddings from Language Model):</u>\n",
    "        * Acquires contextual word representations by employing a neural language model. This model processes text by their characters (character-based encoding layer) and integrates two BiLSTM layers for effective context understanding.\n",
    "            * <u>BiLSTM (Bidirectional Long Short-Term Memory network:</u>\n",
    "                * A recurrent neural network that processes data both forward and backward. This allows the network to gather information from past and future states relative to a word (Takes previous and upcoming words into account).\n",
    "    * <u>CoVe (Contextualized Word Vectors):</u>\n",
    "        * Uses a deep LSTM encoder (RNN used for processing sequential data) created from an attention-driven sequence-to-sequence model. The attention mechanism allows the model to dynamically focus on different parts of a sequence, providing contextualized word vectors.\n",
    "* <u>Transformer-based:</u>\n",
    "    * <u>BERT (Bidirectional Encoder Representations from Transformers):</u>\n",
    "        * 'Transformer-based language representation model trained on a large cross-domain corpus.'\n",
    "        * This model uses a Masked Language Model (MLM) to randomly mask (or hide) a word(s) in a sequence and train the model to predict the word based on their context in the sequence. Predicting the correct word allows the model to learn contextual understanding and relationships between words.\n",
    "        * This model also uses Next-Sentence-Prediction (NSP) which involves predicting whether a given pair of sentences are sequential or not. This teaches the model to associate pairs of sentences and understand their logical flow, helping learn relationships and connections between consecutive sentences.\n",
    "    * <u>XLM (Cross-lingual Language Model):</u>\n",
    "        * A transformer pre-trained using next-token prediction, a BERT-like MLM, and translation objective (from one language to another).\n",
    "    * <u>RoBERTa (Robustly Optimized BERT Pretraining Approach): </u>\n",
    "        * 'Builds on BERT and modifies key hyperparameters, removing the next-sentence pretraining objective and training with much larger mini-batches and learning rates.'\n",
    "    * <u>ALBERT (A Lite BERT for Self-supervised Learning and Language Representations):</u>\n",
    "        * 'Presents parameter-reduction techniques to lower memory consumption and increase the training speed of BERT'"
   ]
  },
  {
   "cell_type": "markdown",
   "id": "c46adc46-e372-47ba-bffe-f65b62492560",
   "metadata": {},
   "source": [
    "## Pre-trained Models and Finetuning\n",
    "\n",
    "<u>Fit from scratch models:</u>\n",
    "* CountVectorizer and TfidVectorizer must be trained from scratch to learn word embeddings\n",
    "\n",
    "<u>Pre-trained Models:</u>\n",
    "* Word embedding models that are trained once on a large corpus and reused without further training.\n",
    "* Works best for text that resembles that corpus text from training.\n",
    "* Open-source trained word embedding models can be found on the Hugging Face Hub.\n",
    "    * https://huggingface.co/docs/hub/index\n",
    " \n",
    "<u>Finetuning:</u>\n",
    "* Results in a finetuned model.\n",
    "* Performing a second training phase on a pre-trained embedding model.\n",
    "* Useful when the original model will encounter text different from what it was trained on.\n",
    "* New training material must resemble the text that will be encountered."
   ]
  },
  {
   "cell_type": "markdown",
   "id": "38553d2f-39f4-402f-ad2f-720eed5eb1c9",
   "metadata": {},
   "source": [
    "## Sentence Embeddings\n",
    "\n",
    "<u>Sentence Embedding:</u>\n",
    "* Developing embeddings to represent a sentence or full text.\n",
    "* One method is 'averaging the vectors of the words composing the sentence.'\n",
    "* <u>Sentence Transformers Models:</u>\n",
    "    * Advanced language models capable of producing word and sentence embeddings.\n",
    "    * Accessed through the *sentence_transformers* library"
   ]
  },
  {
   "cell_type": "markdown",
   "id": "b120de56-5d45-463c-b2f4-d17ec9b89f60",
   "metadata": {},
   "source": [
    "## Sentence Transformers in Python"
   ]
  },
  {
   "cell_type": "code",
   "execution_count": 29,
   "id": "72934add-48dd-4174-be50-48b3a3329c0b",
   "metadata": {},
   "outputs": [],
   "source": [
    "# Install sentence_transformers library\n",
    "!pip install sentence-transformers huggingface-hub\n",
    "\n",
    "# May require an updated or specific version of huggingface\n",
    "# Newest version --> pip install --upgrade huggingface-hub\n",
    "# Specific version --> pip install sentence-transformers huggingface-hub>=0.18.0"
   ]
  },
  {
   "cell_type": "code",
   "execution_count": 6,
   "id": "7c10dda3-97aa-4d5f-9e85-24e6a8f75acc",
   "metadata": {},
   "outputs": [
    {
     "data": {
      "application/vnd.jupyter.widget-view+json": {
       "model_id": "e2c50cc9722c45978583825297e7192c",
       "version_major": 2,
       "version_minor": 0
      },
      "text/plain": [
       "Downloading .gitattributes:   0%|          | 0.00/1.18k [00:00<?, ?B/s]"
      ]
     },
     "metadata": {},
     "output_type": "display_data"
    },
    {
     "data": {
      "application/vnd.jupyter.widget-view+json": {
       "model_id": "063a4700833c42b7b6bdaccc3c06940f",
       "version_major": 2,
       "version_minor": 0
      },
      "text/plain": [
       "Downloading 1_Pooling/config.json:   0%|          | 0.00/190 [00:00<?, ?B/s]"
      ]
     },
     "metadata": {},
     "output_type": "display_data"
    },
    {
     "data": {
      "application/vnd.jupyter.widget-view+json": {
       "model_id": "13df10602f3e4c6093490cd84379c435",
       "version_major": 2,
       "version_minor": 0
      },
      "text/plain": [
       "Downloading README.md:   0%|          | 0.00/10.6k [00:00<?, ?B/s]"
      ]
     },
     "metadata": {},
     "output_type": "display_data"
    },
    {
     "data": {
      "application/vnd.jupyter.widget-view+json": {
       "model_id": "46cb7aed9c5a44929b4c8d4ec01f74d9",
       "version_major": 2,
       "version_minor": 0
      },
      "text/plain": [
       "Downloading config.json:   0%|          | 0.00/612 [00:00<?, ?B/s]"
      ]
     },
     "metadata": {},
     "output_type": "display_data"
    },
    {
     "data": {
      "application/vnd.jupyter.widget-view+json": {
       "model_id": "43bae6364e88476b96a00a6aeeea26ae",
       "version_major": 2,
       "version_minor": 0
      },
      "text/plain": [
       "Downloading (…)ce_transformers.json:   0%|          | 0.00/116 [00:00<?, ?B/s]"
      ]
     },
     "metadata": {},
     "output_type": "display_data"
    },
    {
     "data": {
      "application/vnd.jupyter.widget-view+json": {
       "model_id": "257ce9a8231f4ad2a7ca14464937e2bb",
       "version_major": 2,
       "version_minor": 0
      },
      "text/plain": [
       "Downloading data_config.json:   0%|          | 0.00/39.3k [00:00<?, ?B/s]"
      ]
     },
     "metadata": {},
     "output_type": "display_data"
    },
    {
     "data": {
      "application/vnd.jupyter.widget-view+json": {
       "model_id": "8ca8e558fc054f4fb7474f5b09e623a0",
       "version_major": 2,
       "version_minor": 0
      },
      "text/plain": [
       "Downloading pytorch_model.bin:   0%|          | 0.00/90.9M [00:00<?, ?B/s]"
      ]
     },
     "metadata": {},
     "output_type": "display_data"
    },
    {
     "data": {
      "application/vnd.jupyter.widget-view+json": {
       "model_id": "f1d1be5e8c36476dbecb148a660977e1",
       "version_major": 2,
       "version_minor": 0
      },
      "text/plain": [
       "Downloading (…)nce_bert_config.json:   0%|          | 0.00/53.0 [00:00<?, ?B/s]"
      ]
     },
     "metadata": {},
     "output_type": "display_data"
    },
    {
     "data": {
      "application/vnd.jupyter.widget-view+json": {
       "model_id": "05538de949d9406c86d4363168a5714b",
       "version_major": 2,
       "version_minor": 0
      },
      "text/plain": [
       "Downloading (…)cial_tokens_map.json:   0%|          | 0.00/112 [00:00<?, ?B/s]"
      ]
     },
     "metadata": {},
     "output_type": "display_data"
    },
    {
     "data": {
      "application/vnd.jupyter.widget-view+json": {
       "model_id": "14538cf44b064f1580e0a8272cfeb63a",
       "version_major": 2,
       "version_minor": 0
      },
      "text/plain": [
       "Downloading tokenizer.json:   0%|          | 0.00/466k [00:00<?, ?B/s]"
      ]
     },
     "metadata": {},
     "output_type": "display_data"
    },
    {
     "data": {
      "application/vnd.jupyter.widget-view+json": {
       "model_id": "77b0272fefde4d6b97f7f917b9b5fcc3",
       "version_major": 2,
       "version_minor": 0
      },
      "text/plain": [
       "Downloading tokenizer_config.json:   0%|          | 0.00/350 [00:00<?, ?B/s]"
      ]
     },
     "metadata": {},
     "output_type": "display_data"
    },
    {
     "data": {
      "application/vnd.jupyter.widget-view+json": {
       "model_id": "84224a33e23146c2a7ff75b7ad2ef2e1",
       "version_major": 2,
       "version_minor": 0
      },
      "text/plain": [
       "Downloading train_script.py:   0%|          | 0.00/13.2k [00:00<?, ?B/s]"
      ]
     },
     "metadata": {},
     "output_type": "display_data"
    },
    {
     "data": {
      "application/vnd.jupyter.widget-view+json": {
       "model_id": "81d8c4c25e89477c9a8f38bbcdb6da85",
       "version_major": 2,
       "version_minor": 0
      },
      "text/plain": [
       "Downloading vocab.txt:   0%|          | 0.00/232k [00:00<?, ?B/s]"
      ]
     },
     "metadata": {},
     "output_type": "display_data"
    },
    {
     "data": {
      "application/vnd.jupyter.widget-view+json": {
       "model_id": "75f4c940c4f8417a96137ac9d7016041",
       "version_major": 2,
       "version_minor": 0
      },
      "text/plain": [
       "Downloading modules.json:   0%|          | 0.00/349 [00:00<?, ?B/s]"
      ]
     },
     "metadata": {},
     "output_type": "display_data"
    }
   ],
   "source": [
    "# Download an available sentence embedding model\n",
    "from sentence_transformers import SentenceTransformer, util\n",
    "\n",
    "model_name = 'all-MiniLM-L6-v2'\n",
    "model = SentenceTransformer(model_name)\n",
    "# Pretrained"
   ]
  },
  {
   "cell_type": "code",
   "execution_count": 13,
   "id": "1dae00cc-4217-4674-aa7e-94b84466e197",
   "metadata": {},
   "outputs": [
    {
     "name": "stdout",
     "output_type": "stream",
     "text": [
      "\n",
      "Embeddings as tensor:\n",
      "tensor([[-0.0344, -0.0788, -0.0801,  ..., -0.0172, -0.0044,  0.0199],\n",
      "        [ 0.0757,  0.0457, -0.0865,  ..., -0.0764,  0.0746,  0.0237],\n",
      "        [ 0.1798, -0.0634,  0.0161,  ...,  0.0321,  0.0378,  0.0459]])\n",
      "\n",
      "Embedding shape:\n",
      "torch.Size([3, 384])\n",
      "\n",
      "Note: Different models create vectors of different dimensions.\n",
      "This model creates vectors with 384 dimensions.\n",
      "\n"
     ]
    }
   ],
   "source": [
    "# Compute embeddings of given sentences\n",
    "sentences = [\n",
    "    \"Spiderman is a popular web-slinging superhero.\",\n",
    "    \"Batman is a rich martial artist vigilante.\",\n",
    "    \"New York is the most populated city in the nation.\"\n",
    "]\n",
    "\n",
    "# Compute embeddings\n",
    "embeddings = model.encode(sentences, convert_to_tensor=True)\n",
    "# .encode() takes in a list of sentences and represents the given text numerically (embeddings)\n",
    "# convert_to_tensor=True converts embeddings to tensors (numerical representations suitable for computation in frameworks like PyTorch or TensorFlow)\n",
    "\n",
    "print(f\"\"\"\n",
    "Embeddings as tensor:\n",
    "{embeddings}\n",
    "\n",
    "Embedding shape:\n",
    "{embeddings.shape}\n",
    "\n",
    "Note: Different models create vectors of different dimensions.\n",
    "This model creates vectors with 384 dimensions.\n",
    "\"\"\")"
   ]
  },
  {
   "cell_type": "markdown",
   "id": "8bf876a0-eb41-4aa9-91de-c9c2e6058b35",
   "metadata": {},
   "source": [
    "## Definition and Math Review\n",
    "\n",
    "<u>Cosine Similarity</u>\n",
    "* A measure used to determine how similar two non-zero vectors are.\n",
    "* Calculates the cosine angle between the two vectors in multidimensional space.\n",
    "* <u>Formula:</u>\n",
    "    * For vectors A and B,\n",
    "    * cosine similarity = (Dot product of vectors A and B) / (Product of the magnitudes of vectors A and B)\n",
    "    * OR\n",
    "    * cosine similarity = (A\\*B) / (|A|\\*|B|)\n",
    "* <u>Similarity Score:</u>\n",
    "    * Ranges from -1 to 1\n",
    "    * 1: vectors are in the same direction with same orientation\n",
    "    * 0: vectors are perpendicular and have no similarity\n",
    "    * -1: vectors are pointing in opposite directions\n",
    "\n",
    "<u>Dot Product Refresher:</u>\n",
    "* When multiplying the two vectors, use their dimensional coordinates (recall the x-y plane where coordinates are (x, y)).\n",
    "* Each coordinate is multiplied by its respective coordinate in the other vector.\n",
    "* Each product is added.\n",
    "* <u>Formula:</u>\n",
    "    * For vectors A and B with n dimensions\n",
    "        * (x, y): x and y are dimensions (2 dimensional)\n",
    "    * ((A's 1st dimension) * (B's 1st dimension) + ... + ((A's nth dimension) * (B's nth dimension))\n",
    "    * OR\n",
    "    * ∑(from i=1 to n) ((A of i) * (B of i))\r\n",
    "i\r\n",
    "​\r\n",
    "\n",
    "​\r\n",
    "\n",
    "* <u>Example: Three dimensional vectors</u>\n",
    "    * Three dimensional coordinates: (x, y, z)\n",
    "    * Vector A = (1, 5, 9)\n",
    "    * Vector B = (4, 6, 3)\n",
    "    * Dot product: (Ax\\*Bx) + (Ay\\*By) + (Az*Bz)\n",
    "    * (1\\*4) + (5\\*6) + (9\\*3)\n",
    "    * Dot product = 61\n",
    " \n",
    "<u>Magnitude Refresher:</u>\n",
    "* The size/length of a vector (typically from origin point to vector).\n",
    "* Derived from the Pythago theorem.rean\n",
    "    * For a vector with n dimensions:\n",
    "    * |v| = sqrt((vector's 1st dimension)^2 + ... + (vector's nth dimension)^2)\n",
    "* <u>Example: Three dimension vector</u>\n",
    "    * Three dimensional coordinates: (x, y, z)\n",
    "    * Vector = (7, 8, 2)\n",
    "    * |v| = sqrt(7^2 + 8^2 + 2^2)\n",
    "    * |v| = sqrt(49 + 64 + 4)\n",
    "    * |v| = sqrt(117)\n",
    "    * OR\n",
    "    * |v| = 3\\*sqrtorem.\n",
    "* <u>Formula</u>"
   ]
  },
  {
   "cell_type": "code",
   "execution_count": 21,
   "id": "16a0d522-2ecc-4c0e-bbe8-b35b2cfc157a",
   "metadata": {},
   "outputs": [
    {
     "name": "stdout",
     "output_type": "stream",
     "text": [
      "\n",
      "Sentence 0: Spiderman is a popular web-slinging superhero.\n",
      "Sentence 1: Batman is a rich martial artist vigilante.\n",
      "Similarity: 0.39904776215553284\n",
      "\n",
      "\n",
      "Sentence 0: Spiderman is a popular web-slinging superhero.\n",
      "Sentence 2: New York is the most populated city in the nation.\n",
      "Similarity: 0.03916462883353233\n",
      "\n"
     ]
    }
   ],
   "source": [
    "# Compute cosine similarity between embeddings\n",
    "\n",
    "similarity_0_1 = util.cos_sim(embeddings[0], embeddings[1])[0].item()\n",
    "# util.cos_sim(vector1, vector2) calculates the cosine similarity between two given vectors\n",
    "# Returns as a tensor\n",
    "# [0] Accesses the first item (This tensor only has 1 item)\n",
    "# .item() extracts the similarity score as a single floating-point number\n",
    "print(f\"\"\"\n",
    "Sentence 0: {sentences[0]}\n",
    "Sentence 1: {sentences[1]}\n",
    "Similarity: {similarity_0_1}\n",
    "\"\"\")\n",
    "\n",
    "similarity_0_2 = util.cos_sim(embeddings[0], embeddings[2])[0].item()\n",
    "print(f\"\"\"\n",
    "Sentence 0: {sentences[0]}\n",
    "Sentence 2: {sentences[2]}\n",
    "Similarity: {similarity_0_2}\n",
    "\"\"\")"
   ]
  },
  {
   "cell_type": "markdown",
   "id": "9af38921-f2f8-4d9b-815f-64589f4b667a",
   "metadata": {},
   "source": [
    "## Embeddings from Different Models\n",
    "\n",
    "<u>MTEB:</u>\n",
    "* A benchmark used for measuring the performance of an embedding model in various embedding tasks."
   ]
  },
  {
   "cell_type": "markdown",
   "id": "01b2750d-90b2-4ba1-b318-b388e1d1765e",
   "metadata": {},
   "source": [
    "## Deducing Information from Similarity Scores"
   ]
  },
  {
   "cell_type": "code",
   "execution_count": 26,
   "id": "f96da0d8-eba5-4c6d-9260-d6cb6624bf53",
   "metadata": {},
   "outputs": [
    {
     "name": "stdout",
     "output_type": "stream",
     "text": [
      "\n",
      "Similarity: 0.6289807558059692\n",
      "Returns a high score because 'White' and 'Red' are both colors, but different colors.\n",
      "\n"
     ]
    }
   ],
   "source": [
    "sentences = [\n",
    "    \"White\",\n",
    "    \"Red\"\n",
    "]\n",
    "\n",
    "embeddings = model.encode(sentences, convert_to_tensor=True)\n",
    "print(f\"\"\"\n",
    "Similarity: {util.cos_sim(*embeddings)[0].item()}\n",
    "Returns a high score because 'White' and 'Red' are both colors, but different colors.\n",
    "\"\"\")\n",
    "# *embeddings uses all embeddings inside of the embeddings tensor"
   ]
  },
  {
   "cell_type": "code",
   "execution_count": 28,
   "id": "ee07a73a-9094-4ce1-a8c6-e80eb55dabfb",
   "metadata": {},
   "outputs": [
    {
     "name": "stdout",
     "output_type": "stream",
     "text": [
      "\n",
      "Similarity: 0.8417174816131592\n",
      "Returns a high similarity even though the sentences convey contradictory information.\n",
      "This is because these embedding models are trained to learn representations based on the word's context.\n",
      "Words that appear in similar contexts in the training corpus will have high similarity scores.\n",
      "Therefore the embedding models base similarity more on sentence structure rather than logic.\n",
      "\n"
     ]
    }
   ],
   "source": [
    "sentences = [\n",
    "    \"Some people are heroes.\",\n",
    "    \"Some people are not heroes.\",\n",
    "]\n",
    "\n",
    "embeddings = model.encode(sentences, convert_to_tensor=True)\n",
    "print(f\"\"\"\n",
    "Similarity: {util.cos_sim(*embeddings)[0].item()}\n",
    "Returns a high similarity even though the sentences convey contradictory information.\n",
    "This is because these embedding models are trained to learn representations based on the word's context.\n",
    "Words that appear in similar contexts in the training corpus will have high similarity scores.\n",
    "Therefore the embedding models base similarity more on sentence structure rather than logic.\n",
    "\"\"\")"
   ]
  },
  {
   "cell_type": "markdown",
   "id": "d454f168-22c8-45d6-b300-75c9f0e99b2a",
   "metadata": {},
   "source": [
    "## Visualizing Embeddings"
   ]
  },
  {
   "cell_type": "code",
   "execution_count": 30,
   "id": "05234493-d0b5-4cde-90fd-67c6a01d03c6",
   "metadata": {},
   "outputs": [],
   "source": [
    "# Imports\n",
    "\n",
    "from huggingface_hub import hf_hub_download\n",
    "# Used for downloading files from the Hugging Face model hub\n",
    "\n",
    "from sentence_transformers import SentenceTransformer, util\n",
    "# SentenceTransformer is a sentence embedding model\n",
    "# util contains functions used to work with embeddings\n",
    "\n",
    "import pandas as pd\n",
    "# Used for data manipulation and analysis\n",
    "\n",
    "import numpy as np\n",
    "# Used for numerical computing and working with array and matrices\n",
    "\n",
    "from sklearn.decomposition import PCA \n",
    "# PCA (Principal Component Analysis) is a class\n",
    "# A technique for dimensionality reduce\n",
    "# Used to reduce high-dimensional data to its important information\n",
    "\n",
    "from sklearn.manifold import TSNE \n",
    "# TSNE (t-Distributed Stochastic Neighbor Embedding) is a class\n",
    "# Used for visualizing high-dimensional data\n",
    "\n",
    "# Visualization\n",
    "import plotly.express as px\n",
    "# High-level interface used for plots and charts\n",
    "import plotly.io as pio\n",
    "# Used for handling input and output for Plotly visualizations (including saving or displaying)"
   ]
  },
  {
   "cell_type": "code",
   "execution_count": null,
   "id": "9ab47039-36e6-46ba-8f4c-08bb4ec66578",
   "metadata": {},
   "outputs": [],
   "source": [
    "# May need to download dataset of Medium articles\n",
    "!git clone https://huggingface.co/datasets/fabiochiu/medium-articles"
   ]
  },
  {
   "cell_type": "code",
   "execution_count": 31,
   "id": "d7d13c15-8e52-4ff0-8bc4-8458b10bd9ac",
   "metadata": {},
   "outputs": [
    {
     "data": {
      "text/html": [
       "<div>\n",
       "<style scoped>\n",
       "    .dataframe tbody tr th:only-of-type {\n",
       "        vertical-align: middle;\n",
       "    }\n",
       "\n",
       "    .dataframe tbody tr th {\n",
       "        vertical-align: top;\n",
       "    }\n",
       "\n",
       "    .dataframe thead th {\n",
       "        text-align: right;\n",
       "    }\n",
       "</style>\n",
       "<table border=\"1\" class=\"dataframe\">\n",
       "  <thead>\n",
       "    <tr style=\"text-align: right;\">\n",
       "      <th></th>\n",
       "      <th>title</th>\n",
       "      <th>text</th>\n",
       "      <th>url</th>\n",
       "      <th>authors</th>\n",
       "      <th>timestamp</th>\n",
       "      <th>tags</th>\n",
       "    </tr>\n",
       "  </thead>\n",
       "  <tbody>\n",
       "    <tr>\n",
       "      <th>0</th>\n",
       "      <td>Essential OpenCV Functions to Get You Started ...</td>\n",
       "      <td>Reading, writing and displaying images\\n\\nBefo...</td>\n",
       "      <td>https://towardsdatascience.com/essential-openc...</td>\n",
       "      <td>['Juan Cruz Martinez']</td>\n",
       "      <td>2020-06-12 16:03:06.663000+00:00</td>\n",
       "      <td>['Artificial Intelligence', 'Python', 'Compute...</td>\n",
       "    </tr>\n",
       "    <tr>\n",
       "      <th>1</th>\n",
       "      <td>Data Science for Startups: R -&gt; Python</td>\n",
       "      <td>Source: Yuri_B at pixabay.com\\n\\nOne of the pi...</td>\n",
       "      <td>https://towardsdatascience.com/data-science-fo...</td>\n",
       "      <td>['Ben Weber']</td>\n",
       "      <td>2018-06-11 20:58:09.414000+00:00</td>\n",
       "      <td>['Startup', 'Python', 'Data Science', 'Towards...</td>\n",
       "    </tr>\n",
       "    <tr>\n",
       "      <th>2</th>\n",
       "      <td>How to Customize QuickSight Dashboards for Use...</td>\n",
       "      <td>We have been getting a lot of queries on how t...</td>\n",
       "      <td>https://medium.com/zenofai/how-to-customize-qu...</td>\n",
       "      <td>['Engineering Zenofai']</td>\n",
       "      <td>2019-12-04 11:46:34.298000+00:00</td>\n",
       "      <td>['Analytics', 'AWS', 'Big Data', 'Data Science...</td>\n",
       "    </tr>\n",
       "    <tr>\n",
       "      <th>3</th>\n",
       "      <td>The answer is blowing in the wind: Harnessing ...</td>\n",
       "      <td>By Glenn Fung, American Family Insurance data ...</td>\n",
       "      <td>https://medium.com/amfam/the-answer-is-blowing...</td>\n",
       "      <td>['American Family Insurance']</td>\n",
       "      <td>2020-06-12 16:41:36.697000+00:00</td>\n",
       "      <td>['Machine Learning', 'Data Science', 'AI', 'Ar...</td>\n",
       "    </tr>\n",
       "    <tr>\n",
       "      <th>4</th>\n",
       "      <td>Working Together to Build a Big Data Future</td>\n",
       "      <td>To leverage Big Data and build an effective Ar...</td>\n",
       "      <td>https://medium.com/edtech-trends/working-toget...</td>\n",
       "      <td>['Alice Bonasio']</td>\n",
       "      <td>2017-11-15 11:12:51.254000+00:00</td>\n",
       "      <td>['Fintech', 'Artificial Intelligence', 'AI', '...</td>\n",
       "    </tr>\n",
       "  </tbody>\n",
       "</table>\n",
       "</div>"
      ],
      "text/plain": [
       "                                               title  \\\n",
       "0  Essential OpenCV Functions to Get You Started ...   \n",
       "1             Data Science for Startups: R -> Python   \n",
       "2  How to Customize QuickSight Dashboards for Use...   \n",
       "3  The answer is blowing in the wind: Harnessing ...   \n",
       "4        Working Together to Build a Big Data Future   \n",
       "\n",
       "                                                text  \\\n",
       "0  Reading, writing and displaying images\\n\\nBefo...   \n",
       "1  Source: Yuri_B at pixabay.com\\n\\nOne of the pi...   \n",
       "2  We have been getting a lot of queries on how t...   \n",
       "3  By Glenn Fung, American Family Insurance data ...   \n",
       "4  To leverage Big Data and build an effective Ar...   \n",
       "\n",
       "                                                 url  \\\n",
       "0  https://towardsdatascience.com/essential-openc...   \n",
       "1  https://towardsdatascience.com/data-science-fo...   \n",
       "2  https://medium.com/zenofai/how-to-customize-qu...   \n",
       "3  https://medium.com/amfam/the-answer-is-blowing...   \n",
       "4  https://medium.com/edtech-trends/working-toget...   \n",
       "\n",
       "                         authors                         timestamp  \\\n",
       "0         ['Juan Cruz Martinez']  2020-06-12 16:03:06.663000+00:00   \n",
       "1                  ['Ben Weber']  2018-06-11 20:58:09.414000+00:00   \n",
       "2        ['Engineering Zenofai']  2019-12-04 11:46:34.298000+00:00   \n",
       "3  ['American Family Insurance']  2020-06-12 16:41:36.697000+00:00   \n",
       "4              ['Alice Bonasio']  2017-11-15 11:12:51.254000+00:00   \n",
       "\n",
       "                                                tags  \n",
       "0  ['Artificial Intelligence', 'Python', 'Compute...  \n",
       "1  ['Startup', 'Python', 'Data Science', 'Towards...  \n",
       "2  ['Analytics', 'AWS', 'Big Data', 'Data Science...  \n",
       "3  ['Machine Learning', 'Data Science', 'AI', 'Ar...  \n",
       "4  ['Fintech', 'Artificial Intelligence', 'AI', '...  "
      ]
     },
     "execution_count": 31,
     "metadata": {},
     "output_type": "execute_result"
    }
   ],
   "source": [
    "# Download and organize data\n",
    "\n",
    "df_articles = pd.read_csv(\n",
    "    hf_hub_download(\n",
    "        \"fabiochiu/medium-articles\", # Repository\n",
    "        repo_type=\"dataset\", # Type of content being fetched\n",
    "        filename=\"medium_articles.csv\" # File to be downloaded\n",
    "    ) \n",
    "    # Downloads dataset from the Hugging Face model hub\n",
    ")\n",
    "# Reads a csv file into a Pandas DataFrame\n",
    "\n",
    "# Keep 200 articles about Data Science and 200 articles about Business\n",
    "df_articles = pd.concat([\n",
    "    df_articles[df_articles[\"tags\"].apply(lambda taglist: \"Data Science\" in taglist)][:200],\n",
    "    df_articles[df_articles[\"tags\"].apply(lambda taglist: \"Business\" in taglist)][:200]\n",
    "]).reset_index(drop=True)\n",
    "# pd.concat concatenates subsets into a single DataFrame\n",
    "# .reset_index(drop=True) resets the index of the resulting DataFrame to start from 0 and drops the previous index\n",
    "# df_articles[\"tags\"] refers to the \"tags\" column of the DataFrame\n",
    "# .apply applies a function to each element in the specified column\n",
    "# lambda function takes the article's taglist and returns True if the string is in the taglist\n",
    "\n",
    "df_articles.head()"
   ]
  },
  {
   "cell_type": "code",
   "execution_count": 32,
   "id": "6886d2ae-4444-4b61-bd9a-7b124108252c",
   "metadata": {},
   "outputs": [],
   "source": [
    "# Download the sentence embedding model\n",
    "model = SentenceTransformer('all-MiniLM-L6-v2')"
   ]
  },
  {
   "cell_type": "code",
   "execution_count": 34,
   "id": "919b7e2c-1e99-4af1-9f33-c6bd0cc23ca1",
   "metadata": {},
   "outputs": [
    {
     "name": "stdout",
     "output_type": "stream",
     "text": [
      "torch.Size([400, 384])\n",
      "400 items, each embedded with 384 dimensions\n"
     ]
    }
   ],
   "source": [
    "# Simplify and embed\n",
    "\n",
    "# Concatenate title and text of articles\n",
    "df_articles[\"full_text\"] = df_articles[\"title\"] + \" \" + df_articles[\"text\"]\n",
    "\n",
    "# Compute embedding\n",
    "embeddings = model.encode(df_articles[\"full_text\"].values, convert_to_tensor=True)\n",
    "print(f\"{embeddings.shape}\\n400 items, each embedded with 384 dimensions\")\n"
   ]
  },
  {
   "cell_type": "code",
   "execution_count": 35,
   "id": "5f37e7fc-7dbf-4994-8252-2c6fc3ddcacd",
   "metadata": {},
   "outputs": [],
   "source": [
    "# Reduce the embedding's dimensionality\n",
    "\n",
    "# Reduce from 384 to 50 dimensions (fast)\n",
    "PCA_obj = PCA(n_components=50)\n",
    "# PCA() creates a PCA object that reduces the data to a specified number of dimensions\n",
    "# n_components=50 reduces the data to 50 dimensions\n",
    "embeddings_pca = PCA_obj.fit_transform(embeddings)\n",
    "# .fit_transform() fits the PCA model to the embeddings \n",
    "# and transforms it into a new set of data with reduced dimensions\n",
    "\n",
    "# Reduce from 50 dimensions to 2 dimensions (slow, but good for visualization)\n",
    "embeddings_tsne = TSNE(n_components=2, perplexity=6.0).fit_transform(embeddings_pca)\n",
    "# TSNE() creates a t-SNE object that reduces the dimensions for visualization\n",
    "# n_components=2 reduces the data to 2 dimensions\n",
    "# perplexity determines the number of neighbors to consider when reducing dimensionality\n",
    "# low perplexity values lead to a more local view of data\n",
    "# higher perplexity values lead to a more global view of data\n",
    "# .fit_transform() fits the t-SNE model to the input data"
   ]
  },
  {
   "cell_type": "code",
   "execution_count": 87,
   "id": "8b02fdad-0a81-4e9e-9e86-37a557238559",
   "metadata": {},
   "outputs": [
    {
     "name": "stdout",
     "output_type": "stream",
     "text": [
      "DataFrame Structure:\n",
      "             x          y                                              title  \\\n",
      "0    40.482689 -39.905319  Essential OpenCV Functions to Get You Started ...   \n",
      "1    39.288055   1.471333             Data Science for Startups: R -> Python   \n",
      "2    55.148682  13.244123  How to Customize QuickSight Dashboards for Use...   \n",
      "3    31.519981 -22.189631  The answer is blowing in the wind: Harnessing ...   \n",
      "4     8.129389  -9.644473        Working Together to Build a Big Data Future   \n",
      "..         ...        ...                                                ...   \n",
      "395 -40.878834  -9.919047  3 Meaningful Ways to Begin Your Business While...   \n",
      "396 -29.147718   0.730702  Why Startups Need To Follow the Hard Product Path   \n",
      "397 -55.668663   1.275517             How To Be A Successful Business Owner?   \n",
      "398 -39.964878 -13.823313  How I Launched a Successful Gig Business with ...   \n",
      "399   9.640692  -1.358822  A Layman’s Guide to Data Science: How to Becom...   \n",
      "\n",
      "     color  \n",
      "0    color  \n",
      "1    color  \n",
      "2    color  \n",
      "3    color  \n",
      "4    color  \n",
      "..     ...  \n",
      "395  color  \n",
      "396  color  \n",
      "397  color  \n",
      "398  color  \n",
      "399  color  \n",
      "\n",
      "[400 rows x 4 columns]\n"
     ]
    }
   ],
   "source": [
    "# Use Plotly to create a scatter plot using the 2 dimensional data Pt.1\n",
    "\n",
    "# Set Plotly Renderer\n",
    "pio.renderers.default = \"plotly_mimetype+notebook_connected\"\n",
    "\n",
    "# Data Preparation\n",
    "x_dimension, y_dimension = list(zip(*embeddings_tsne))\n",
    "# Separate embeddings into their elements\n",
    "titles = df_articles[\"title\"].values\n",
    "\n",
    "df_tsne = pd.DataFrame(data={\n",
    "    \"x\": x_dimension, # x coords\n",
    "    \"y\": y_dimension, # y coords\n",
    "    \"title\": titles, # plot title\n",
    "    \"color\": [\"color\" for _ in x_dimension] # Appends the string \"color\" to each x_dimension element\n",
    "    # Arbitrary placeholder \n",
    "}) \n",
    "# ^ contains all information to plot\n",
    "# ^ tells where each plot is and what to display\n",
    "\n",
    "print(f\"DataFrame Structure:\\n{df_tsne}\")"
   ]
  },
  {
   "cell_type": "code",
   "execution_count": 88,
   "id": "88e68b05-55b8-43ad-9dbe-ce9171ae636b",
   "metadata": {},
   "outputs": [
    {
     "data": {
      "text/html": [
       "        <script type=\"text/javascript\">\n",
       "        window.PlotlyConfig = {MathJaxConfig: 'local'};\n",
       "        if (window.MathJax && window.MathJax.Hub && window.MathJax.Hub.Config) {window.MathJax.Hub.Config({SVG: {font: \"STIX-Web\"}});}\n",
       "        if (typeof require !== 'undefined') {\n",
       "        require.undef(\"plotly\");\n",
       "        requirejs.config({\n",
       "            paths: {\n",
       "                'plotly': ['https://cdn.plot.ly/plotly-2.27.0.min']\n",
       "            }\n",
       "        });\n",
       "        require(['plotly'], function(Plotly) {\n",
       "            window._Plotly = Plotly;\n",
       "        });\n",
       "        }\n",
       "        </script>\n",
       "        "
      ]
     },
     "metadata": {},
     "output_type": "display_data"
    },
    {
     "data": {
      "application/vnd.plotly.v1+json": {
       "config": {
        "plotlyServerURL": "https://plot.ly"
       },
       "data": [
        {
         "customdata": [
          [
           "color"
          ],
          [
           "color"
          ],
          [
           "color"
          ],
          [
           "color"
          ],
          [
           "color"
          ],
          [
           "color"
          ],
          [
           "color"
          ],
          [
           "color"
          ],
          [
           "color"
          ],
          [
           "color"
          ],
          [
           "color"
          ],
          [
           "color"
          ],
          [
           "color"
          ],
          [
           "color"
          ],
          [
           "color"
          ],
          [
           "color"
          ],
          [
           "color"
          ],
          [
           "color"
          ],
          [
           "color"
          ],
          [
           "color"
          ],
          [
           "color"
          ],
          [
           "color"
          ],
          [
           "color"
          ],
          [
           "color"
          ],
          [
           "color"
          ],
          [
           "color"
          ],
          [
           "color"
          ],
          [
           "color"
          ],
          [
           "color"
          ],
          [
           "color"
          ],
          [
           "color"
          ],
          [
           "color"
          ],
          [
           "color"
          ],
          [
           "color"
          ],
          [
           "color"
          ],
          [
           "color"
          ],
          [
           "color"
          ],
          [
           "color"
          ],
          [
           "color"
          ],
          [
           "color"
          ],
          [
           "color"
          ],
          [
           "color"
          ],
          [
           "color"
          ],
          [
           "color"
          ],
          [
           "color"
          ],
          [
           "color"
          ],
          [
           "color"
          ],
          [
           "color"
          ],
          [
           "color"
          ],
          [
           "color"
          ],
          [
           "color"
          ],
          [
           "color"
          ],
          [
           "color"
          ],
          [
           "color"
          ],
          [
           "color"
          ],
          [
           "color"
          ],
          [
           "color"
          ],
          [
           "color"
          ],
          [
           "color"
          ],
          [
           "color"
          ],
          [
           "color"
          ],
          [
           "color"
          ],
          [
           "color"
          ],
          [
           "color"
          ],
          [
           "color"
          ],
          [
           "color"
          ],
          [
           "color"
          ],
          [
           "color"
          ],
          [
           "color"
          ],
          [
           "color"
          ],
          [
           "color"
          ],
          [
           "color"
          ],
          [
           "color"
          ],
          [
           "color"
          ],
          [
           "color"
          ],
          [
           "color"
          ],
          [
           "color"
          ],
          [
           "color"
          ],
          [
           "color"
          ],
          [
           "color"
          ],
          [
           "color"
          ],
          [
           "color"
          ],
          [
           "color"
          ],
          [
           "color"
          ],
          [
           "color"
          ],
          [
           "color"
          ],
          [
           "color"
          ],
          [
           "color"
          ],
          [
           "color"
          ],
          [
           "color"
          ],
          [
           "color"
          ],
          [
           "color"
          ],
          [
           "color"
          ],
          [
           "color"
          ],
          [
           "color"
          ],
          [
           "color"
          ],
          [
           "color"
          ],
          [
           "color"
          ],
          [
           "color"
          ],
          [
           "color"
          ],
          [
           "color"
          ],
          [
           "color"
          ],
          [
           "color"
          ],
          [
           "color"
          ],
          [
           "color"
          ],
          [
           "color"
          ],
          [
           "color"
          ],
          [
           "color"
          ],
          [
           "color"
          ],
          [
           "color"
          ],
          [
           "color"
          ],
          [
           "color"
          ],
          [
           "color"
          ],
          [
           "color"
          ],
          [
           "color"
          ],
          [
           "color"
          ],
          [
           "color"
          ],
          [
           "color"
          ],
          [
           "color"
          ],
          [
           "color"
          ],
          [
           "color"
          ],
          [
           "color"
          ],
          [
           "color"
          ],
          [
           "color"
          ],
          [
           "color"
          ],
          [
           "color"
          ],
          [
           "color"
          ],
          [
           "color"
          ],
          [
           "color"
          ],
          [
           "color"
          ],
          [
           "color"
          ],
          [
           "color"
          ],
          [
           "color"
          ],
          [
           "color"
          ],
          [
           "color"
          ],
          [
           "color"
          ],
          [
           "color"
          ],
          [
           "color"
          ],
          [
           "color"
          ],
          [
           "color"
          ],
          [
           "color"
          ],
          [
           "color"
          ],
          [
           "color"
          ],
          [
           "color"
          ],
          [
           "color"
          ],
          [
           "color"
          ],
          [
           "color"
          ],
          [
           "color"
          ],
          [
           "color"
          ],
          [
           "color"
          ],
          [
           "color"
          ],
          [
           "color"
          ],
          [
           "color"
          ],
          [
           "color"
          ],
          [
           "color"
          ],
          [
           "color"
          ],
          [
           "color"
          ],
          [
           "color"
          ],
          [
           "color"
          ],
          [
           "color"
          ],
          [
           "color"
          ],
          [
           "color"
          ],
          [
           "color"
          ],
          [
           "color"
          ],
          [
           "color"
          ],
          [
           "color"
          ],
          [
           "color"
          ],
          [
           "color"
          ],
          [
           "color"
          ],
          [
           "color"
          ],
          [
           "color"
          ],
          [
           "color"
          ],
          [
           "color"
          ],
          [
           "color"
          ],
          [
           "color"
          ],
          [
           "color"
          ],
          [
           "color"
          ],
          [
           "color"
          ],
          [
           "color"
          ],
          [
           "color"
          ],
          [
           "color"
          ],
          [
           "color"
          ],
          [
           "color"
          ],
          [
           "color"
          ],
          [
           "color"
          ],
          [
           "color"
          ],
          [
           "color"
          ],
          [
           "color"
          ],
          [
           "color"
          ],
          [
           "color"
          ],
          [
           "color"
          ],
          [
           "color"
          ],
          [
           "color"
          ],
          [
           "color"
          ],
          [
           "color"
          ],
          [
           "color"
          ],
          [
           "color"
          ],
          [
           "color"
          ],
          [
           "color"
          ],
          [
           "color"
          ],
          [
           "color"
          ],
          [
           "color"
          ],
          [
           "color"
          ],
          [
           "color"
          ],
          [
           "color"
          ],
          [
           "color"
          ],
          [
           "color"
          ],
          [
           "color"
          ],
          [
           "color"
          ],
          [
           "color"
          ],
          [
           "color"
          ],
          [
           "color"
          ],
          [
           "color"
          ],
          [
           "color"
          ],
          [
           "color"
          ],
          [
           "color"
          ],
          [
           "color"
          ],
          [
           "color"
          ],
          [
           "color"
          ],
          [
           "color"
          ],
          [
           "color"
          ],
          [
           "color"
          ],
          [
           "color"
          ],
          [
           "color"
          ],
          [
           "color"
          ],
          [
           "color"
          ],
          [
           "color"
          ],
          [
           "color"
          ],
          [
           "color"
          ],
          [
           "color"
          ],
          [
           "color"
          ],
          [
           "color"
          ],
          [
           "color"
          ],
          [
           "color"
          ],
          [
           "color"
          ],
          [
           "color"
          ],
          [
           "color"
          ],
          [
           "color"
          ],
          [
           "color"
          ],
          [
           "color"
          ],
          [
           "color"
          ],
          [
           "color"
          ],
          [
           "color"
          ],
          [
           "color"
          ],
          [
           "color"
          ],
          [
           "color"
          ],
          [
           "color"
          ],
          [
           "color"
          ],
          [
           "color"
          ],
          [
           "color"
          ],
          [
           "color"
          ],
          [
           "color"
          ],
          [
           "color"
          ],
          [
           "color"
          ],
          [
           "color"
          ],
          [
           "color"
          ],
          [
           "color"
          ],
          [
           "color"
          ],
          [
           "color"
          ],
          [
           "color"
          ],
          [
           "color"
          ],
          [
           "color"
          ],
          [
           "color"
          ],
          [
           "color"
          ],
          [
           "color"
          ],
          [
           "color"
          ],
          [
           "color"
          ],
          [
           "color"
          ],
          [
           "color"
          ],
          [
           "color"
          ],
          [
           "color"
          ],
          [
           "color"
          ],
          [
           "color"
          ],
          [
           "color"
          ],
          [
           "color"
          ],
          [
           "color"
          ],
          [
           "color"
          ],
          [
           "color"
          ],
          [
           "color"
          ],
          [
           "color"
          ],
          [
           "color"
          ],
          [
           "color"
          ],
          [
           "color"
          ],
          [
           "color"
          ],
          [
           "color"
          ],
          [
           "color"
          ],
          [
           "color"
          ],
          [
           "color"
          ],
          [
           "color"
          ],
          [
           "color"
          ],
          [
           "color"
          ],
          [
           "color"
          ],
          [
           "color"
          ],
          [
           "color"
          ],
          [
           "color"
          ],
          [
           "color"
          ],
          [
           "color"
          ],
          [
           "color"
          ],
          [
           "color"
          ],
          [
           "color"
          ],
          [
           "color"
          ],
          [
           "color"
          ],
          [
           "color"
          ],
          [
           "color"
          ],
          [
           "color"
          ],
          [
           "color"
          ],
          [
           "color"
          ],
          [
           "color"
          ],
          [
           "color"
          ],
          [
           "color"
          ],
          [
           "color"
          ],
          [
           "color"
          ],
          [
           "color"
          ],
          [
           "color"
          ],
          [
           "color"
          ],
          [
           "color"
          ],
          [
           "color"
          ],
          [
           "color"
          ],
          [
           "color"
          ],
          [
           "color"
          ],
          [
           "color"
          ],
          [
           "color"
          ],
          [
           "color"
          ],
          [
           "color"
          ],
          [
           "color"
          ],
          [
           "color"
          ],
          [
           "color"
          ],
          [
           "color"
          ],
          [
           "color"
          ],
          [
           "color"
          ],
          [
           "color"
          ],
          [
           "color"
          ],
          [
           "color"
          ],
          [
           "color"
          ],
          [
           "color"
          ],
          [
           "color"
          ],
          [
           "color"
          ],
          [
           "color"
          ],
          [
           "color"
          ],
          [
           "color"
          ],
          [
           "color"
          ],
          [
           "color"
          ],
          [
           "color"
          ],
          [
           "color"
          ],
          [
           "color"
          ],
          [
           "color"
          ],
          [
           "color"
          ],
          [
           "color"
          ],
          [
           "color"
          ],
          [
           "color"
          ],
          [
           "color"
          ],
          [
           "color"
          ],
          [
           "color"
          ],
          [
           "color"
          ],
          [
           "color"
          ],
          [
           "color"
          ],
          [
           "color"
          ],
          [
           "color"
          ],
          [
           "color"
          ],
          [
           "color"
          ],
          [
           "color"
          ],
          [
           "color"
          ],
          [
           "color"
          ],
          [
           "color"
          ],
          [
           "color"
          ],
          [
           "color"
          ],
          [
           "color"
          ],
          [
           "color"
          ],
          [
           "color"
          ],
          [
           "color"
          ],
          [
           "color"
          ],
          [
           "color"
          ],
          [
           "color"
          ],
          [
           "color"
          ],
          [
           "color"
          ],
          [
           "color"
          ],
          [
           "color"
          ],
          [
           "color"
          ],
          [
           "color"
          ],
          [
           "color"
          ],
          [
           "color"
          ],
          [
           "color"
          ],
          [
           "color"
          ],
          [
           "color"
          ],
          [
           "color"
          ],
          [
           "color"
          ],
          [
           "color"
          ],
          [
           "color"
          ],
          [
           "color"
          ],
          [
           "color"
          ],
          [
           "color"
          ],
          [
           "color"
          ],
          [
           "color"
          ],
          [
           "color"
          ],
          [
           "color"
          ],
          [
           "color"
          ],
          [
           "color"
          ],
          [
           "color"
          ],
          [
           "color"
          ],
          [
           "color"
          ]
         ],
         "hovertemplate": "<b>%{hovertext}</b><br><br>=%{customdata[0]}<extra></extra>",
         "hovertext": [
          "Essential OpenCV Functions to Get You Started into Computer Vision",
          "Data Science for Startups: R -> Python",
          "How to Customize QuickSight Dashboards for User Specific Data",
          "The answer is blowing in the wind: Harnessing real-time data to predict storm damage",
          "Working Together to Build a Big Data Future",
          "Identifying Outliers",
          "What Are The Benefits Of Cloud Data Warehousing?",
          "Streaming Data from the Universe with Apache Kafka",
          "An Introduction to t-SNE with Python Example",
          "Who is Nightingale for?",
          "Facebook AI Research Found Intersections In Popular QA Datasets",
          "Warning! Unsupervised Neuroscience Ahead",
          "Duck Typing in Python — 3 Practical Examples",
          "Tutorial: Exploratory Data Analysis (EDA) with Categorical Variables",
          "Data Science Reading List for May 2020",
          "Covid-19 Interactive Visualization",
          "Viewing the E.Coli imbalance dataset in 3D with Python",
          "Catching Up With Giovanni Magni of Accurat Design Studio",
          "Creative and Critical Use of Complex Networks",
          "5 Ways We Misunderstand the Mechanics of COVID-19 Infection",
          "Optimized World. Optimized World: Part 1",
          "A neural data science: how and why",
          "Happy data scientist: How to build a business intelligence app with 10 lines of python code",
          "What is the data science community’s favourite media source?",
          "Python Project To Improve Your Productivity For The New Year",
          "Tutorial on Data Visualization: Weather Data",
          "How to build an MP3 Music Player with Python",
          "Data Science, Alexander of the Times Ahead",
          "Hyperkops: Scaleable Hyperparameter Tuning of Machine Learning Models Using Bayesian optimisation in Kubernetes",
          "Debug Google Colab and Kaggle",
          "Data Storytelling: Appealing to Logic and Perspective",
          "Designing for AI: Trust",
          "Apache Spark-3.0 Sneek peak",
          "Depth-First Search vs. Breadth-First Search in Python",
          "Getting Started with Plot.ly",
          "Making Grids in Python",
          "Interesting AI/ML Articles On Medium This Week (Dec 5)",
          "Handling Outliers in Clusters using Silhouette Analysis",
          "Exploring the question of whether submarines can swim",
          "Build a Natural Language Classifier With Bert and Tensorflow",
          "Advantages and Disadvantages of Artificial Intelligence",
          "AI Speeds Drug Discovery to fight COVID-19",
          "Stay Healthy. Stay Data-Informed.",
          "RAPIDS Anywhere with Tailscale. It’s never been easier to get started…",
          "Transcribe Your Zoom Meetings For Free with AWS!",
          "Applying Deep Learning To Airbnb Search",
          "A Guide to Logistic Regression in SAS",
          "Python Pandas: A Complete Guide for Beginners",
          "Investing in Data and AI — When and Why",
          "Class 3: Becoming an AI design expert starts with becoming a data-driven designer",
          "Batch normalization in Neural Networks",
          "Analyzing Data Distributions with Seaborn",
          "DialogRPT With 🤗 Huggingface Transformers: Which Comments Get More Likes, More Replies and Are More Engaging?",
          "Creating Custom Face Datasets: From Zero To Hero",
          "Image Processing with OpenCV",
          "6 Things to Know to Get Started With Python Data Classes",
          "Creating Python Functions for Exploratory Data Analysis and Data Cleaning",
          "6 Pandas Operations You Should Not Miss",
          "PAIRWISE RANKING : EPL PREDICTION — Part2",
          "A gentle introduction to the 5 Google Cloud BigQuery APIs",
          "A guide to IBM’s complete set of data & AI tools and services",
          "Selling Russian Hackers",
          "General Purpose Tensorflow 2.x Script to train any CSV file",
          "The most impressive Youtube Channels for you to Learn AI, Machine Learning, and Data Science.",
          "53 Python Interview Questions and Answers",
          "Quantum Computing And The Meaning Of Life—Not Just ‘42’",
          "How to facilitate understanding of data? Data visualization [Examples and tools]",
          "An Ultimate Cheat Sheet for Data Visualization in Pandas",
          "From Utopia to Reality: Marketing and the Big Data Revolution",
          "History Warns of the Deadly Threat to Humanity from Artificial Intelligence",
          "Machine Learning — How it works. Definitions of AI and ML. What their…",
          "Best practices for combining data science and design",
          "QC — Quantum programming: implementation issues",
          "How To Get Hired At Your Dream Job In Just 11 Lines Of Python Code",
          "Visualising high-dimensional datasets using PCA and t-SNE in Python",
          "The NLP Cypher | 12.20.20",
          "Quantifying hard retinal exudates using Growing Neural Gas algorithms",
          "Create Interactive Dashboards with Panel & Python",
          "Understanding Cosine Similarity And Its Application",
          "How to Master the Art of Storytelling as a Data Scientist?",
          "Here’s How I Use Natural Language Processing In Stock Price Analysis",
          "Welcoming Dash 1.0.0",
          "Python HOW: Farewell Anaconda! Take Full Control of Your Development Environment",
          "Turing Test vs Chinese Room Argument",
          "Data Visualization with Python HoloViz: Interactive Plots and Widgets in Jupyter",
          "FrankMocap — New SOTA for Fast 3D Pose Estimation",
          "Tools for using Kubernetes",
          "🌟Introducing Dash Cytoscape🌟",
          "The Danger of Humanizing Algorithms",
          "Finally, an intuitive explanation of why ReLU works",
          "What is Deep Learning and How Deep Learning Works?",
          "Python Dash Data Visualization Dashboard Web App Template",
          "Finland’s New Free AI Courses",
          "Hierarchical Clustering on Categorical Data in R",
          "Dispelling Three Common Myths of Machine Learning Personalization",
          "How to Implement Logging in Your Python Application",
          "GAN — CycleGAN (Playing magic with pictures)",
          "How to manage files in Google Drive with Python",
          "Creating awesome (and ethical) experiences with big data",
          "Ten Ways Cognitive Biases Impact Data Design Work",
          "An intro to Cloud Computing for Data Scientists and Data Engineers",
          "Format function in Python",
          "Using FIPS to Visualize in Plotly",
          "Using GCP AI Platform Notebooks as Reproducible Data Science Environments",
          "Interactive Election Visualisations in Python with Altair",
          "No More Basic Plots Please",
          "Introducing you to Big Data and AI",
          "Hierarchical Clustering in Python using Dendrogram and Cophenetic Correlation",
          "Behind the Coronavirus Mortality Rate",
          "Different Types of Normalization in Tensorflow",
          "“Hot’n’Pop Song Machine”: end-to-end Machine Learning classificator project",
          "Transfer Learning SOTA— Do Adversarially Robust ImageNet Models Transfer Better?",
          "How Big Data is Helping in Big COVID-19 Pandemic Situation",
          "The best tools for Dashboarding in Python",
          "How I solved a class imbalance problem",
          "11 Visualization Examples to Practice Matplotlib",
          "Exploratory Data Analysis(EDA) From Scratch in Python",
          "Big Data 3 V’s and 5 V’s",
          "Too little, too late. COVID-19 is on track to be more severe in the United States",
          "Label Smarter Not More",
          "Silhouette Method — Better than Elbow Method to find Optimal Clusters",
          "Data visualization using Pandas",
          "Web scraping com Python",
          "Kannada-MNIST:A new handwritten digits dataset in ML town",
          "Estimating AI Project Costs & Timescales: 4 Rules of Thumb",
          "10 Efficient Ways to Use Python Lists",
          "The Cardio of Audio",
          "Data Journalism Crash Course #5: Advanced Data Search — Google",
          "SigNet (Detecting Signature Similarity Using Machine Learning/Deep Learning): Is This the End of Human Forensic Analysis?",
          "MLOps In Action: Training-serving skew",
          "How to Create Eye-Catching Maps With Python and Kepler.gl",
          "Forecasting with Stochastic Models",
          "Prefect Cloud has Launched! 🎉",
          "PI and Simulation Art in R",
          "Practical Data Analysis with Pandas and Seaborn",
          "PAKISTAN’S COVID-19 VISUALIZATION USING POWER BI",
          "How to run Spark/Scala code in Jupyter Notebook",
          "Artificial Intelligence (AI), Data Science, and Analytics",
          "Deepfakes Detection by Heart Rate Prediction",
          "Hadoop Distributed File System",
          "The Why and How of MapReduce",
          "In the brain of Computer vision? (Eng)",
          "Artificiality Bites 💊 Issue #10",
          "New beta features of AutoAI in IBM Watson Studio automates feature engineering on multiple datasets",
          "Edge Detection in Python",
          "Building Dashboards using Dash (< 200 lines of code)",
          "Better Iteration in Python— 6 Ways to Filter Iterables",
          "Why Integrate Diversity in the Energy Sector with AI and more?",
          "PixieDust 1.0 is here!",
          "8 Things to Know to Master Python Function Arguments",
          "Bokeh 2.2",
          "Work with private repositories and other updates of the FlyElephant platform",
          "Resources to Supercharge your Data Science in 2021",
          "Best Machine Learning Blogs to Follow in 2020",
          "User Management With Firebase and Python",
          "What I’ve learnt building a Machine Learning project for a medium-sized enterprise",
          "Getting Started with Applied ML Research",
          "The Reason Behind if __name__ == ‘__main__’ in Python",
          "Why Pandas itertuples() Is Faster Than iterrows() and How To Make It Even Faster",
          "Introduction to Technology Hits",
          "Use C# And ML.NET Machine Learning To Predict Taxi Fares In New York",
          "Data science-Create Tailored Algorithms",
          "Building scalable and efficient ML Pipelines",
          "Lesser-known techniques for data exploration",
          "Open Source Dataset for NLP Beginners",
          "Space Science with Python — A Data Science Tutorial Series",
          "A Beginner’s Look at Kaggle",
          "Increasing Accuracy by Converting to a Multivariate Dataset",
          "April Fools’ 2019: Perception-driven data visualization",
          "Training multiple machine learning models and running data tasks in parallel via YARN + Spark + multithreading",
          "A Layman’s Guide to Data Science: How to Become a (Good) Data Scientist",
          "3 Open Source Tools for Ethical AI",
          "3rd Annual Global Artificial Intelligence Conference [January 23–25th, 2019]",
          "Detect Spam Messages with C# And A CNTK Deep Neural Network",
          "Why Learning Java is a Starting Point For Big Data Developers Of The Future",
          "How much can one make with Airbnb in Bristol, UK: an exploratory analysis",
          "[Chapter-1] The Machine Learning Landscape — Part-1🧙🏻‍♂️",
          "My data science template for Python",
          "30 Magical Python Tricks to Write Better Code",
          "Draw insights from fiction books with Text Mining",
          "Principal Components Analysis (PCA), Fundamentals, Benefits & Insights for Industry",
          "Image Compression using K-Means Clustering",
          "Using Machine Learning to Predict Subscription to Bank Term Deposits for Clients with Python",
          "How To Build a Payments Data Team",
          "CatBoost: Cross-Validated Bayesian Hyperparameter Tuning",
          "Resampling Methods for Inference Analysis",
          "Why Data Science might just not be worth it",
          "What happened when I predicted on the Titanic dataset with a made from scratch Logistic Regression function",
          "Pangeo 2.0",
          "What is ETL?",
          "Getting started with Google Maps in Python",
          "The Co-op Close-up: Procter & Gamble",
          "13 Conda Commands for Data Scientists",
          "How a beginner should approach Kaggle?",
          "17 Strategies for Dealing with Data, Big Data, and Even Bigger Data",
          "5 Pairs of Magic Methods in Python That You Should Know",
          "Natural Language Processing with spaCy — Steps and Examples",
          "From Insight to Action to Stranger Things — Acrotrend Solutions",
          "Give it a SPIN!",
          "4 Top AI/ML Github Repositories in November 2020",
          "Loss Aversion — how fear influences customer choice",
          "Your Brand is What People Expect From You",
          "Tech Execs Face Congress: 9 Big Takeaways",
          "A Goodbye to Golden Muzzles: Internal Dissent and the Cautionary Tale of Facebook",
          "How are Big Tech Companies Dominating the Markets in the Global Arena?",
          "5 Simple yet Effective Tips for Creating High-Quality Content for Your Content Marketing Strategy",
          "Why Word Placement Is Important in Headlines",
          "Thought Plagiarism and How It Threatens Creative Platforms",
          "10 Easy Fixes for Common Headline Mistakes",
          "How to come up with a name for your new business",
          "The First Time Entrepreneur Myth",
          "23 Traits of Successful Entrepreneurs",
          "Know What Your Audience Wants With Quality Market Research",
          "10 Steps to Win with Blogging in 2021",
          "Supreme, Wegmans and the benefits of resisting greed for your own good",
          "Why You Need to Write More Than One Headline",
          "Could Cloud Computing Be the Missing Piece of the Puzzle That Your Business Needs?",
          "Why Your First Thoughts Make the Best Headlines",
          "How Startups Get Out Of Survival Mode and Into Growth Mode",
          "Not Taking Marketing Seriously Taught Me a Bitter Lesson in my Entrepreneur Journey",
          "Substack Formatting",
          "How to Initiate Innovative Business Collaboration",
          "5 Top Tips for Creating Business Card Designs",
          "I Survived Toxic Startup, Here’s the Antidote",
          "7 Things I Gave up to Pursue My Entrepreneurial Endeavors",
          "What Being Broke Taught Me About Launching a Successful Business",
          "5 Hats You Need to Wear to Crush Your Entrepreneurial Goals",
          "How To Be Productive and Effective During Social Distancing",
          "The 7 Most Common Analysis Mistakes New Marketers Make",
          "The 3 Most Important Things I Know About Consumers I Learned From Bartending",
          "How Startups Outsource Their Tech Without Going Broke or Getting Screwed",
          "Welcome New Writers",
          "Tips for Startups From Peter Thiel",
          "Essential Roles and Responsibilities of Successful Business Leaders",
          "Why I Write By Hand",
          "32 Headline Tips Every Good Writer Needs to Know",
          "Now Is the Time to Discuss Order Fulfilment",
          "3 Steps to Run Better and More Effective Meetings",
          "5 Quotes by Rick Riordan to Make You a Better Writer",
          "How to use behavioral science to improve your experience",
          "How to Build an Email List of 500 Subscribers in a Month",
          "Should YouTube Have a Dislike Button?",
          "Long or Short: Which Headlines Are Better?",
          "How I Use Data To Build Better Products",
          "5 Powerful Lessons My Dog Taught Me About Writing",
          "11 Book Recommendations from Mark Cuban to Stay at the Top of the Game",
          "My First Product ‘Broke’ Twitter and Then Crashed Hard",
          "How Walmart used psychology to become the world’s largest retailer",
          "The Evolution of the Business Buzzword, ‘AI’",
          "The Logo Comes Last: Developing an Effective Brand Identity",
          "How Startups Fill Leadership Gaps With Expert Resources",
          "The Two Things You Need to Build an Email List",
          "How to Recover After a Failed Startup",
          "How to Build a No Code Startup Around Your MVP",
          "4 Things Brands Must do Right Now to Prepare for 2021",
          "6 Powerful Headline Principles Inspired by Claude Hopkins",
          "What Words Should Be Capitalized in a Headline?",
          "Tony Hsieh is Dead and Nobody Knows What to Say",
          "How Apps Are Helping Us With Our Mental Health",
          "What Famous Startup Taglines Can Teach You About Headlines",
          "A Cheat Sheet for Choosing the Right Data Visualizations",
          "The Genius Formula of BTS- The K-Pop Phenomenon That Took The World By Storm",
          "A stunning Japanese philosophy that will make you a better marketer, entrepreneur and human.",
          "How to Make Google Love You (Even if You Don’t Love Google)",
          "Building a Team as a Model for Cooperative Work",
          "How to Make Your Work Stand Out Online",
          "Use the Decoy Effect to Sell More",
          "How to Find Inspiration for Your Business Even in Toughest Times",
          "Think Ahead: Boost Your BI with AI",
          "5 minutes to understand data storytelling!",
          "How To Quit Your Job and Start a Business That Lasts",
          "3 Trends That Are Putting the Power of Business Intelligence in More Hands",
          "3 Engineering Mistakes That Will Botch Scale",
          "How Coursera uses psychology to make education addictive",
          "How I Sold More Membership Cards Than Any Other Store Clerk",
          "Time Management: The Single Most Important Component to My Productivity",
          "Try These 20 CNN Headline Templates to Draw in Readers",
          "7 Business Lessons You Can Learn from Amazon Founder Jeff Bezos",
          "Purge your Followers, Bring an Instagram Account Back to Life",
          "How Unsplash Went From a Tumblr Page To Fully-Fledged Platform",
          "Definitive Guide To Creating Profitable Online Courses",
          "How Technology is Hijacking Your Mind — from a Magician and Google Design Ethicist",
          "How ‘& Sons’ Became a Retail Trope — and the Cruelest Lie in Branding",
          "Why Psychopaths Outperform Us",
          "The Scam Catching LinkedIn Users Off Guard — The Fast Path to 1 Million Followers Which Exploits Jobseekers",
          "Hacking software sales by rethinking team structure",
          "Apple Is Crushing Deep Links That Were Used As Ad-Tracking Devices",
          "Back to basics — company law 101 for startups",
          "How Ego Almost Killed My Company",
          "3 Ways To Measure The Effectiveness of Your Leadership",
          "How Failing in Building a Company Heightened my Intellect",
          "A good designer is a good businessperson",
          "How We Increased Revenue By $100k Every Month",
          "From $0 to $100,000: The Business Side of Writing Is the Hardest to Learn and the Easiest to Implement",
          "Two Weeks with a Teen Entrepreneur",
          "How to Not Suck at Design, a 5 Minute Guide for the Non-Designer.",
          "Why Most Entrepreneurs Struggle",
          "BI in Startups",
          "You Need a Co-Founder For Your Startup.",
          "Public Relations: Using the Media as a Third-Party to Influence Your Audience",
          "I Published Six Articles on Vocal",
          "Let’s Help Each Other Grow",
          "Marketing Fear, Uncertainty, Doubt and, Ultimately, Positivity for Profit",
          "Watch Out!!",
          "Freelance Writing Business: How to Have Early Success",
          "We designers serve others",
          "How to Thrive as a Freelancer Working From Home",
          "Setting Up Your Home Office as a New Freelancer",
          "Would You Buy A Book For $117? Here’s How I’ll Sell It",
          "My Favorite Pro Creative Apps for 2021",
          "How to Start a New Brand",
          "Your Punctuality is Reflecting More Than You Know",
          "How Kanye West Built A Multi-Billion Dollar Sneaker Brand",
          "Direct from the investor: 5 lessons for entrepreneurs in 2021",
          "Three Stories Every Entrepreneur Should Know",
          "How To Get Hired At Your Dream Job In Just 11 Lines Of Python Code",
          "How Coronavirus Re-Crowned Corona Beer as the World’s Leading Lager",
          "Three Types of Business Opportunities with Machine Learning",
          "5 elements of high converting ecommerce product pages",
          "We need 2 things to be great at what we do.",
          "Integrate machine learning and big data into real-time business intelligence with Snowflake and Plotly’s Dash",
          "Ford is known as one of the greatest entrepreneurs of all time. But was he such a great leader at all? How do you spot a weak leader?Was Henry Ford a Good Leader?",
          "Make LinkedIn Part of Your Content Promotion Strategy to Increase Your Reach",
          "How to Start a Business in an Afternoon Using Python and Dash",
          "Importance and Value of Cross-Pollination in the Workplace",
          "Why I Became a Writer",
          "Stories on ILLUMINATION-Curated — All Volumes",
          "Freelance Writer? How to Know When It’s Time to Fire a Client",
          "Why Startups Need Affordable Help",
          "How to create better Email Signatures",
          "Why Your Startup Isn’t Cashflow Positive Until You Make A Living Wage",
          "The 7 best business books of 2020 (that I read)",
          "Entrepreneurs: If You’re Looking for Podcasts in 2020, Pick These",
          "How I “Sanity Check” Financials For a B2C Business Idea",
          "The Dark Side of Attending an Elite College",
          "How Many Startups Can You Manage At Once?",
          "5 Skills You Need To Perfect To Create Wealth",
          "How Persuasion Knowledge Provides a Defense Mechanism Against Marketing",
          "5 Reasons Why Meetings Are Killing Your Company",
          "Why Startups Fail to Generate Revenue Quickly — And What to Do Instead",
          "Video Marketing for Beginners",
          "Why/How Should You Treat Your Open-Source Project As a Business",
          "Shoe Dog: A Memoir by the Creator of NIKE — a review",
          "Prioritizing Customer Results With A Live Course: What Works For Yes and Yes’s Sarah Von Bargen",
          "Is it Expected to Work Overtime in a Startup?",
          "What to expect for the rest of 2020, or how will outsourcing save your business?",
          "How To Know You Have a Successful Product Before You Build It",
          "5 Books to Read to Be a Better Entrepreneur",
          "Meeting Jerry Lieber",
          "My Founding of Taski, at 19, and Its Growth Into a Six-Figure Business",
          "How Tolstoy Prepared Me For Running a Startup",
          "Everyone Deserves a Piece of the Profit",
          "How Amazon Innovates",
          "What I learned from Damon Dash",
          "6 Marketing ‘Post-COVID’ trends in 2021.",
          "Head-on collisions: Lessons from the storage industry",
          "The History Of Your QWERTY Keyboard",
          "The Ultimate Shortcut to Entrepreneurial Success",
          "How To Launch Your Brand Like a Successful Instagram Influencer",
          "Ikigai For Entrepreneurs",
          "What Works for Spaceship Builder & Herbalist Lisa Akers: How She Melds Disparate Passions And Manages Her Workload",
          "How O2 Conditioned Its Customers With Emotions",
          "Plotly and NVIDIA Partner to Integrate Dash and RAPIDS",
          "The evolution of consumer behavior in the digital age",
          "How To Properly Vet Vendors for a Two-Sided Marketplace Startup",
          "How To Do Less and Still Grow Your Business",
          "How Much Does It Cost To Make An Mobile App Like UberEats and Deliveroo",
          "I Strived to Be an Instagram Influencer, Now I Write",
          "5 Things You’ll Never Hear From a Successful Entrepreneur",
          "The Four Words That Made Her a Billionaire",
          "Self-employed vs. Employed: Pros & Cons",
          "Joining a Professional Association as a Freelancer",
          "Why Flutter is the Future Trend in Mobile App Development?",
          "Everything You Know About Productivity is a Lie",
          "Machine Learning Classification Models",
          "Top A/B Mobile Testing Services and Tools to Adopt in 2020–21",
          "This 20 Year Old Made 1 Million in 8 Minutes. How Can You Replicate That?",
          "How to Raise Your First Fund With Right Side Capital Management’s Dave Lambert",
          "A Template for Writing Blog Posts That Earn Passive Income",
          "Artificial Intelligence (AI), Data Science, and Analytics",
          "First Rule of Entrepreneurship: Always Have Multiple Revenue Streams",
          "Why Domino’s Pizza Was Ready to Give Free Pizza for 100 Years",
          "How to Make Your First $10,000 as a Freelance Writer",
          "How I Make an Extra $1,344 Passive Income a Month Online —Even Though I Started Out Clueless",
          "RFPs done right",
          "5 Email Marketing Metrics Every Ecommerce Business Should Track",
          "Why Do Most Prices End in 99?",
          "How a Good Night’s Sleep Boosts Productivity",
          "Here’s All You Need To Know About How to Market to Your Audience",
          "New beta features of AutoAI in IBM Watson Studio automates feature engineering on multiple datasets",
          "Why I Rebranded my Company 4 months After Launching It",
          "5 Powerful Lessons I Learned Teaching A Blogging Workshop For a Year",
          "The Best Platforms to Build Your Personal Brand",
          "The Biggest Hurdle for Young Entrepreneurs",
          "‘You’ve Done The Impossible!’ Declares Bitcoin.com Host to Richard Heart, Founder of HEX",
          "3 Meaningful Ways to Begin Your Business While Working a Full-Time Job",
          "Why Startups Need To Follow the Hard Product Path",
          "How To Be A Successful Business Owner?",
          "How I Launched a Successful Gig Business with Only Gig Workers",
          "A Layman’s Guide to Data Science: How to Become a (Good) Data Scientist"
         ],
         "legendgroup": "color",
         "marker": {
          "color": [
           "#19D3F3",
           "#19D3F3",
           "#19D3F3",
           "#19D3F3",
           "#19D3F3",
           "#19D3F3",
           "#19D3F3",
           "#19D3F3",
           "#19D3F3",
           "#19D3F3",
           "#19D3F3",
           "#19D3F3",
           "#19D3F3",
           "#19D3F3",
           "#19D3F3",
           "#19D3F3",
           "#19D3F3",
           "#19D3F3",
           "#19D3F3",
           "#19D3F3",
           "#19D3F3",
           "#19D3F3",
           "#19D3F3",
           "#19D3F3",
           "#19D3F3",
           "#19D3F3",
           "#19D3F3",
           "#19D3F3",
           "#19D3F3",
           "#19D3F3",
           "#19D3F3",
           "#19D3F3",
           "#19D3F3",
           "#19D3F3",
           "#19D3F3",
           "#19D3F3",
           "#19D3F3",
           "#19D3F3",
           "#19D3F3",
           "#19D3F3",
           "#19D3F3",
           "#19D3F3",
           "#19D3F3",
           "#19D3F3",
           "#19D3F3",
           "#19D3F3",
           "#19D3F3",
           "#19D3F3",
           "#19D3F3",
           "#19D3F3",
           "#19D3F3",
           "#19D3F3",
           "#19D3F3",
           "#19D3F3",
           "#19D3F3",
           "#19D3F3",
           "#19D3F3",
           "#19D3F3",
           "#19D3F3",
           "#19D3F3",
           "#19D3F3",
           "#19D3F3",
           "#19D3F3",
           "#19D3F3",
           "#19D3F3",
           "#19D3F3",
           "#19D3F3",
           "#19D3F3",
           "#19D3F3",
           "#19D3F3",
           "#19D3F3",
           "#19D3F3",
           "#19D3F3",
           "#19D3F3",
           "#19D3F3",
           "#19D3F3",
           "#19D3F3",
           "#19D3F3",
           "#19D3F3",
           "#19D3F3",
           "#19D3F3",
           "#19D3F3",
           "#19D3F3",
           "#19D3F3",
           "#19D3F3",
           "#19D3F3",
           "#19D3F3",
           "#19D3F3",
           "#19D3F3",
           "#19D3F3",
           "#19D3F3",
           "#19D3F3",
           "#19D3F3",
           "#19D3F3",
           "#19D3F3",
           "#19D3F3",
           "#19D3F3",
           "#19D3F3",
           "#19D3F3",
           "#19D3F3",
           "#19D3F3",
           "#19D3F3",
           "#19D3F3",
           "#19D3F3",
           "#19D3F3",
           "#19D3F3",
           "#19D3F3",
           "#19D3F3",
           "#19D3F3",
           "#19D3F3",
           "#19D3F3",
           "#19D3F3",
           "#19D3F3",
           "#19D3F3",
           "#19D3F3",
           "#19D3F3",
           "#19D3F3",
           "#19D3F3",
           "#19D3F3",
           "#19D3F3",
           "#19D3F3",
           "#19D3F3",
           "#19D3F3",
           "#19D3F3",
           "#19D3F3",
           "#19D3F3",
           "#19D3F3",
           "#19D3F3",
           "#19D3F3",
           "#19D3F3",
           "#19D3F3",
           "#19D3F3",
           "#19D3F3",
           "#19D3F3",
           "#19D3F3",
           "#19D3F3",
           "#19D3F3",
           "#19D3F3",
           "#19D3F3",
           "#19D3F3",
           "#19D3F3",
           "#19D3F3",
           "#19D3F3",
           "#19D3F3",
           "#19D3F3",
           "#19D3F3",
           "#19D3F3",
           "#19D3F3",
           "#19D3F3",
           "#19D3F3",
           "#19D3F3",
           "#19D3F3",
           "#19D3F3",
           "#19D3F3",
           "#19D3F3",
           "#19D3F3",
           "#19D3F3",
           "#19D3F3",
           "#19D3F3",
           "#19D3F3",
           "#19D3F3",
           "#19D3F3",
           "#19D3F3",
           "#19D3F3",
           "#19D3F3",
           "#19D3F3",
           "#19D3F3",
           "#19D3F3",
           "#19D3F3",
           "#19D3F3",
           "#19D3F3",
           "#19D3F3",
           "#19D3F3",
           "#19D3F3",
           "#19D3F3",
           "#19D3F3",
           "#19D3F3",
           "#19D3F3",
           "#19D3F3",
           "#19D3F3",
           "#19D3F3",
           "#19D3F3",
           "#19D3F3",
           "#19D3F3",
           "#19D3F3",
           "#19D3F3",
           "#19D3F3",
           "#19D3F3",
           "#19D3F3",
           "#19D3F3",
           "#19D3F3",
           "#19D3F3",
           "#19D3F3",
           "#19D3F3",
           "#19D3F3",
           "#19D3F3",
           "#19D3F3",
           "#19D3F3",
           "#19D3F3",
           "#19D3F3",
           "#EF553B",
           "#EF553B",
           "#EF553B",
           "#EF553B",
           "#EF553B",
           "#EF553B",
           "#EF553B",
           "#EF553B",
           "#EF553B",
           "#EF553B",
           "#EF553B",
           "#EF553B",
           "#EF553B",
           "#EF553B",
           "#EF553B",
           "#EF553B",
           "#EF553B",
           "#EF553B",
           "#EF553B",
           "#EF553B",
           "#EF553B",
           "#EF553B",
           "#EF553B",
           "#EF553B",
           "#EF553B",
           "#EF553B",
           "#EF553B",
           "#EF553B",
           "#EF553B",
           "#EF553B",
           "#EF553B",
           "#EF553B",
           "#EF553B",
           "#EF553B",
           "#EF553B",
           "#EF553B",
           "#EF553B",
           "#EF553B",
           "#EF553B",
           "#EF553B",
           "#EF553B",
           "#EF553B",
           "#EF553B",
           "#EF553B",
           "#EF553B",
           "#EF553B",
           "#EF553B",
           "#EF553B",
           "#EF553B",
           "#EF553B",
           "#EF553B",
           "#EF553B",
           "#EF553B",
           "#EF553B",
           "#EF553B",
           "#EF553B",
           "#EF553B",
           "#EF553B",
           "#EF553B",
           "#EF553B",
           "#EF553B",
           "#EF553B",
           "#EF553B",
           "#EF553B",
           "#EF553B",
           "#EF553B",
           "#EF553B",
           "#EF553B",
           "#EF553B",
           "#EF553B",
           "#EF553B",
           "#EF553B",
           "#EF553B",
           "#EF553B",
           "#EF553B",
           "#EF553B",
           "#EF553B",
           "#EF553B",
           "#EF553B",
           "#EF553B",
           "#EF553B",
           "#EF553B",
           "#EF553B",
           "#EF553B",
           "#EF553B",
           "#EF553B",
           "#EF553B",
           "#EF553B",
           "#EF553B",
           "#EF553B",
           "#EF553B",
           "#EF553B",
           "#EF553B",
           "#EF553B",
           "#EF553B",
           "#EF553B",
           "#EF553B",
           "#EF553B",
           "#EF553B",
           "#EF553B",
           "#EF553B",
           "#EF553B",
           "#EF553B",
           "#EF553B",
           "#EF553B",
           "#EF553B",
           "#EF553B",
           "#EF553B",
           "#EF553B",
           "#EF553B",
           "#EF553B",
           "#EF553B",
           "#EF553B",
           "#EF553B",
           "#EF553B",
           "#EF553B",
           "#EF553B",
           "#EF553B",
           "#EF553B",
           "#EF553B",
           "#EF553B",
           "#EF553B",
           "#EF553B",
           "#EF553B",
           "#EF553B",
           "#EF553B",
           "#EF553B",
           "#EF553B",
           "#EF553B",
           "#EF553B",
           "#EF553B",
           "#EF553B",
           "#EF553B",
           "#EF553B",
           "#EF553B",
           "#EF553B",
           "#EF553B",
           "#EF553B",
           "#EF553B",
           "#EF553B",
           "#EF553B",
           "#EF553B",
           "#EF553B",
           "#EF553B",
           "#EF553B",
           "#EF553B",
           "#EF553B",
           "#EF553B",
           "#EF553B",
           "#EF553B",
           "#EF553B",
           "#EF553B",
           "#EF553B",
           "#EF553B",
           "#EF553B",
           "#EF553B",
           "#EF553B",
           "#EF553B",
           "#EF553B",
           "#EF553B",
           "#EF553B",
           "#EF553B",
           "#EF553B",
           "#EF553B",
           "#EF553B",
           "#EF553B",
           "#EF553B",
           "#EF553B",
           "#EF553B",
           "#EF553B",
           "#EF553B",
           "#EF553B",
           "#EF553B",
           "#EF553B",
           "#EF553B",
           "#EF553B",
           "#EF553B",
           "#EF553B",
           "#EF553B",
           "#EF553B",
           "#EF553B",
           "#EF553B",
           "#EF553B",
           "#EF553B",
           "#EF553B",
           "#EF553B",
           "#EF553B",
           "#EF553B",
           "#EF553B",
           "#EF553B",
           "#EF553B",
           "#EF553B",
           "#EF553B",
           "#EF553B",
           "#EF553B",
           "#EF553B",
           "#EF553B",
           "#EF553B",
           "#EF553B",
           "#EF553B"
          ],
          "symbol": "circle"
         },
         "mode": "markers",
         "name": "color",
         "orientation": "v",
         "showlegend": true,
         "type": "scatter",
         "x": [
          40.482688903808594,
          39.288055419921875,
          55.148681640625,
          31.519981384277344,
          8.129388809204102,
          60.700584411621094,
          18.64121437072754,
          37.98723220825195,
          40.126014709472656,
          -0.33480599522590637,
          21.075464248657227,
          55.37965774536133,
          73.99774932861328,
          61.58388137817383,
          10.184697151184082,
          4.912699222564697,
          50.57394027709961,
          -2.332820177078247,
          -0.4233590364456177,
          1.1368969678878784,
          73.83975982666016,
          39.44105529785156,
          38.884395599365234,
          17.306501388549805,
          72.85176086425781,
          53.13147735595703,
          68.6059799194336,
          10.941740036010742,
          37.5272216796875,
          27.778823852539062,
          -2.9363901615142822,
          2.9002106189727783,
          37.8788948059082,
          69.7612533569336,
          55.3400764465332,
          57.82084655761719,
          15.987706184387207,
          52.670143127441406,
          14.918209075927734,
          26.863750457763672,
          -1.7976539134979248,
          2.532827138900757,
          -19.0085391998291,
          26.088520050048828,
          -49.94993209838867,
          9.234041213989258,
          44.958038330078125,
          59.53876876831055,
          9.081968307495117,
          6.476773738861084,
          44.59020233154297,
          54.59264373779297,
          27.301204681396484,
          38.48215103149414,
          39.596561431884766,
          71.9384994506836,
          68.31502532958984,
          61.63669967651367,
          38.31053924560547,
          27.78394317626953,
          -12.94377613067627,
          -28.16071319580078,
          34.79647445678711,
          13.200385093688965,
          73.19147491455078,
          -3.6760799884796143,
          6.833951950073242,
          56.758140563964844,
          -14.722572326660156,
          -3.146819591522217,
          6.582257270812988,
          1.5670899152755737,
          -3.468806266784668,
          -36.82392501831055,
          51.67933654785156,
          21.144243240356445,
          42.185874938964844,
          56.32295608520508,
          32.40334701538086,
          -4.128169059753418,
          32.62537384033203,
          52.7253532409668,
          31.14634895324707,
          -1.9344830513000488,
          47.764305114746094,
          37.227134704589844,
          31.255319595336914,
          58.44940185546875,
          9.846522331237793,
          41.297706604003906,
          5.555051803588867,
          57.45222473144531,
          12.248662948608398,
          54.52668762207031,
          11.838288307189941,
          72.73440551757812,
          39.58661651611328,
          28.7060546875,
          5.910155296325684,
          -3.28139066696167,
          20.37241554260254,
          76.173583984375,
          52.95094299316406,
          28.616107940673828,
          53.89567565917969,
          57.38762283325195,
          11.413529396057129,
          54.01467514038086,
          2.0666987895965576,
          45.18185806274414,
          17.155925750732422,
          38.911590576171875,
          1.7837938070297241,
          54.99037551879883,
          18.71035385131836,
          55.88291931152344,
          63.1739387512207,
          12.584742546081543,
          1.1227132081985474,
          -20.249378204345703,
          52.41160202026367,
          57.496761322021484,
          59.8712158203125,
          38.24211120605469,
          6.4792704582214355,
          74.7747573852539,
          16.58514976501465,
          19.890090942382812,
          31.93335723876953,
          36.70624542236328,
          53.28655242919922,
          32.07208251953125,
          23.917577743530273,
          44.656883239746094,
          57.441795349121094,
          4.1971564292907715,
          37.61984634399414,
          7.4190592765808105,
          38.418190002441406,
          36.573211669921875,
          35.94184112548828,
          38.62187194824219,
          14.407011985778809,
          37.41291427612305,
          40.879417419433594,
          57.47246170043945,
          75.6548080444336,
          -4.405411243438721,
          55.81954574584961,
          72.54113006591797,
          49.94844055175781,
          26.242298126220703,
          46.52162551879883,
          16.33559226989746,
          28.02055549621582,
          15.216849327087402,
          15.684508323669434,
          70.63880920410156,
          69.4960708618164,
          -37.860145568847656,
          14.527867317199707,
          9.14590835571289,
          31.702547073364258,
          53.749820709228516,
          18.29711151123047,
          44.533626556396484,
          60.98894500732422,
          59.05339431762695,
          -2.1762378215789795,
          36.56962203979492,
          10.042386054992676,
          3.5203096866607666,
          9.871145248413086,
          22.305368423461914,
          16.902761459350586,
          8.232051849365234,
          7.671723365783691,
          45.14188766479492,
          75.89278411865234,
          15.644489288330078,
          50.72138214111328,
          52.02940368652344,
          15.719343185424805,
          -27.92969512939453,
          37.96734619140625,
          63.11283874511719,
          10.366385459899902,
          43.663330078125,
          26.172510147094727,
          15.047319412231445,
          30.26957893371582,
          -49.3519287109375,
          30.248287200927734,
          42.316749572753906,
          70.19388580322266,
          71.2988510131836,
          26.594697952270508,
          6.0447845458984375,
          51.857643127441406,
          18.07026481628418,
          -17.9293155670166,
          -37.280982971191406,
          -24.592365264892578,
          -25.35976791381836,
          -23.840160369873047,
          -52.77406311035156,
          -45.5897102355957,
          -30.47296905517578,
          -43.578346252441406,
          -21.634084701538086,
          -49.89158248901367,
          -54.09523391723633,
          -38.62939453125,
          -19.944927215576172,
          -15.958356857299805,
          -42.12985610961914,
          21.609766006469727,
          -42.96706771850586,
          -51.66344451904297,
          -42.431373596191406,
          72.7641830444336,
          -31.83201789855957,
          -19.537939071655273,
          -48.03105926513672,
          -39.81949234008789,
          -42.315330505371094,
          -52.99798583984375,
          -33.24596405029297,
          -5.1922454833984375,
          -20.894367218017578,
          -43.552467346191406,
          -37.10634231567383,
          -48.332763671875,
          -58.29463577270508,
          -36.261436462402344,
          -41.66466522216797,
          -13.18710994720459,
          -59.86128616333008,
          -34.0699462890625,
          -20.160400390625,
          -40.44610595703125,
          -10.518752098083496,
          -45.4945182800293,
          8.527478218078613,
          -44.731407165527344,
          -39.10008239746094,
          -30.44541358947754,
          -16.0775089263916,
          15.20263385772705,
          -22.597986221313477,
          -56.73967361450195,
          -41.81302261352539,
          -54.44678497314453,
          -30.069021224975586,
          -48.916507720947266,
          -44.169063568115234,
          -47.23971939086914,
          -49.14493942260742,
          -32.389522552490234,
          -42.714569091796875,
          51.411800384521484,
          -14.890352249145508,
          -19.936996459960938,
          -10.189990997314453,
          -46.95454025268555,
          -34.04646301269531,
          -13.95909309387207,
          -40.63364028930664,
          16.526601791381836,
          -1.3359280824661255,
          -41.99766159057617,
          17.96315574645996,
          -20.892244338989258,
          -22.55506706237793,
          -33.823089599609375,
          -34.704559326171875,
          -39.83427047729492,
          -35.130184173583984,
          -27.447967529296875,
          -32.032249450683594,
          -21.877920150756836,
          -5.106749057769775,
          -28.892826080322266,
          -47.13625717163086,
          -23.458972930908203,
          -32.80701446533203,
          4.860778331756592,
          -55.83637237548828,
          -45.613067626953125,
          -53.258060455322266,
          -54.51296615600586,
          -14.714790344238281,
          -43.22373580932617,
          -53.90821838378906,
          -37.60821533203125,
          -18.00275993347168,
          -48.743526458740234,
          15.49353313446045,
          -55.31929016113281,
          -22.693073272705078,
          -39.82386779785156,
          -29.335567474365234,
          -17.251220703125,
          -43.06840896606445,
          -53.68016815185547,
          -15.388656616210938,
          -36.89232635498047,
          -38.333534240722656,
          -45.9989128112793,
          72.8741683959961,
          -22.553661346435547,
          -44.77587890625,
          -34.16552734375,
          -49.7563362121582,
          -49.55653762817383,
          -36.82392501831055,
          -2.050605058670044,
          16.098867416381836,
          -11.821895599365234,
          -33.16292953491211,
          16.175519943237305,
          -59.56793975830078,
          -22.424150466918945,
          58.633636474609375,
          -5.107669830322266,
          -46.113773345947266,
          -36.614234924316406,
          -54.20760726928711,
          -50.44624710083008,
          -43.014610290527344,
          -49.499454498291016,
          -42.67481994628906,
          -37.205257415771484,
          -13.35531234741211,
          -57.0341796875,
          -53.47919845581055,
          -56.42142105102539,
          -21.108501434326172,
          -60.31002426147461,
          -49.825313568115234,
          -20.88681983947754,
          -28.237863540649414,
          -42.87007522583008,
          -22.909223556518555,
          -43.25691604614258,
          -42.798553466796875,
          -49.163333892822266,
          -43.5937614440918,
          -16.13147735595703,
          -40.811424255371094,
          -44.86663055419922,
          -50.42467498779297,
          -34.620582580566406,
          -15.68729019165039,
          -10.39359188079834,
          -19.164026260375977,
          -2.8422060012817383,
          -44.90962600708008,
          -29.600360870361328,
          -53.16989517211914,
          -21.26521873474121,
          -17.685888290405273,
          54.191917419433594,
          -20.640056610107422,
          -20.081937789916992,
          -43.60634231567383,
          2.4601035118103027,
          -29.137800216674805,
          -51.71488571166992,
          -44.686126708984375,
          -37.64297866821289,
          -53.10800552368164,
          3.5956368446350098,
          -31.634572982788086,
          17.368139266967773,
          3.4495184421539307,
          -32.5255012512207,
          -52.83232116699219,
          -18.319961547851562,
          7.003493309020996,
          -48.7237663269043,
          -27.37832260131836,
          -53.869937896728516,
          -17.20075225830078,
          -54.53506851196289,
          -12.044964790344238,
          -17.36387825012207,
          -36.935001373291016,
          -45.242435455322266,
          37.41291427612305,
          -44.21914291381836,
          -45.97714614868164,
          -21.337203979492188,
          -54.238983154296875,
          -34.72364044189453,
          -40.87883377075195,
          -29.14771842956543,
          -55.668663024902344,
          -39.96487808227539,
          9.640691757202148
         ],
         "xaxis": "x",
         "y": [
          -39.90531921386719,
          1.4713330268859863,
          13.244123458862305,
          -22.18963050842285,
          -9.6444730758667,
          -13.427730560302734,
          -1.1258796453475952,
          8.158690452575684,
          -27.606109619140625,
          -4.424928188323975,
          22.953536987304688,
          -39.06639862060547,
          -5.096567630767822,
          -17.013540267944336,
          4.240076065063477,
          18.391380310058594,
          -15.323907852172852,
          -3.556358814239502,
          -8.808035850524902,
          18.396215438842773,
          -1.4211010932922363,
          -26.229440689086914,
          0.08858267217874527,
          -22.71472930908203,
          5.524372577667236,
          -7.43110466003418,
          1.8926701545715332,
          -0.19272401928901672,
          -10.331951141357422,
          -2.085082769393921,
          -6.686169624328613,
          2.9538440704345703,
          5.417189598083496,
          -1.8967093229293823,
          -8.099509239196777,
          0.473921537399292,
          -25.334436416625977,
          -41.500850677490234,
          23.87495231628418,
          24.62748146057129,
          -21.532915115356445,
          15.633877754211426,
          -0.9203172922134399,
          3.9995005130767822,
          12.604168891906738,
          -37.19804763793945,
          -4.140969276428223,
          -12.698563575744629,
          -9.148094177246094,
          28.367984771728516,
          -30.63397979736328,
          -14.262680053710938,
          25.84239387512207,
          -37.34084701538086,
          -39.042076110839844,
          -6.524467468261719,
          -12.296039581298828,
          -16.134658813476562,
          -12.802685737609863,
          -4.931527614593506,
          -3.853516101837158,
          14.270782470703125,
          2.7893128395080566,
          -23.30013656616211,
          -4.472960472106934,
          -27.073347091674805,
          -2.2864742279052734,
          -9.43370246887207,
          8.306346893310547,
          -19.239700317382812,
          -20.72211265563965,
          -3.8717734813690186,
          -26.42853355407715,
          -27.302562713623047,
          -15.841022491455078,
          21.745569229125977,
          -27.526830673217773,
          8.904611587524414,
          -41.03225326538086,
          -6.995993137359619,
          -20.694721221923828,
          11.597240447998047,
          1.2965377569198608,
          -22.38511848449707,
          -5.1677446365356445,
          -35.686275482177734,
          7.3427934646606445,
          1.568450689315796,
          -16.483877182006836,
          -28.16729736328125,
          -20.80352783203125,
          9.46165657043457,
          -23.24827003479004,
          -37.905330657958984,
          -17.69584083557129,
          3.9401800632476807,
          -32.487525939941406,
          -5.592885494232178,
          -1.6666908264160156,
          -2.538299798965454,
          -0.46804389357566833,
          0.7045639157295227,
          -3.5129947662353516,
          0.8850622177124023,
          -4.535772323608398,
          -8.274389266967773,
          -16.253618240356445,
          -38.50981140136719,
          19.82102394104004,
          -30.764339447021484,
          18.519067764282227,
          -32.63151168823242,
          17.016965866088867,
          9.833227157592773,
          -33.61435317993164,
          -9.783620834350586,
          -15.908175468444824,
          0.014713520184159279,
          19.848241806030273,
          -20.86009407043457,
          -40.609561920166016,
          -10.689918518066406,
          2.8745944499969482,
          -30.076574325561523,
          -10.005857467651367,
          -6.499456882476807,
          17.045228958129883,
          22.055845260620117,
          -40.69783020019531,
          -8.976086616516113,
          -6.278880596160889,
          -21.827037811279297,
          0.48874345421791077,
          -21.950347900390625,
          -14.963295936584473,
          17.99738121032715,
          3.8694586753845215,
          -17.468534469604492,
          -34.85478973388672,
          9.420310974121094,
          9.143414497375488,
          -39.213748931884766,
          -20.62839698791504,
          19.736465454101562,
          -41.01165008544922,
          11.034608840942383,
          -4.430790901184082,
          -17.426223754882812,
          -4.607771396636963,
          -0.6584067344665527,
          -18.99048614501953,
          1.9852617979049683,
          3.805814266204834,
          -23.910133361816406,
          -6.303731441497803,
          -31.632349014282227,
          -27.47284698486328,
          0.9749650359153748,
          -12.182039260864258,
          30.997819900512695,
          -34.96315002441406,
          -15.171738624572754,
          6.889054298400879,
          -14.231411933898926,
          20.324787139892578,
          4.750724792480469,
          -18.522180557250977,
          -20.279571533203125,
          -0.7060285806655884,
          3.6724469661712646,
          -1.7697525024414062,
          2.4042437076568604,
          -11.193833351135254,
          20.0227108001709,
          -1.129525065422058,
          -37.594215393066406,
          -20.71144676208496,
          4.450597286224365,
          0.015363454818725586,
          23.18222999572754,
          -17.435029983520508,
          -39.436824798583984,
          -33.93136978149414,
          1.6771981716156006,
          -11.725552558898926,
          -18.876415252685547,
          3.1740493774414062,
          -3.1911191940307617,
          0.5064761638641357,
          -5.863956451416016,
          -5.562830924987793,
          -21.391427993774414,
          1.2328550815582275,
          -1.7855135202407837,
          -12.60793399810791,
          0.2822100818157196,
          23.98016929626465,
          28.93979835510254,
          -1.7615536451339722,
          -23.678037643432617,
          33.7196044921875,
          33.40476989746094,
          13.42750358581543,
          14.411031723022461,
          12.33724308013916,
          35.49634552001953,
          47.22471237182617,
          25.119285583496094,
          42.267547607421875,
          -8.334577560424805,
          -3.3416385650634766,
          1.8680142164230347,
          32.42167663574219,
          23.310428619384766,
          10.147838592529297,
          41.099876403808594,
          -0.0932532325387001,
          43.34171676635742,
          -11.892541885375977,
          -3.5083959102630615,
          9.105621337890625,
          21.00840950012207,
          -7.686971664428711,
          9.719139099121094,
          -8.706839561462402,
          0.7674432396888733,
          -4.8736371994018555,
          46.050662994384766,
          -7.2039384841918945,
          0.9506902694702148,
          -18.732900619506836,
          28.764501571655273,
          -0.736133873462677,
          2.9915266036987305,
          44.70197296142578,
          44.214115142822266,
          22.80519676208496,
          39.033145904541016,
          41.28731155395508,
          33.710811614990234,
          29.581323623657227,
          27.157615661621094,
          47.866214752197266,
          -4.52650260925293,
          22.18474006652832,
          9.508626937866211,
          19.479026794433594,
          11.035760879516602,
          -9.50327205657959,
          -7.2692413330078125,
          -0.5305534601211548,
          28.9075927734375,
          -10.898859977722168,
          0.4706927537918091,
          -8.676594734191895,
          41.049591064453125,
          47.982154846191406,
          10.91140079498291,
          46.673309326171875,
          45.184391021728516,
          -1.0298904180526733,
          38.061119079589844,
          -0.8235673904418945,
          26.277711868286133,
          22.351404190063477,
          15.087348937988281,
          20.275102615356445,
          1.2413963079452515,
          -10.608918190002441,
          -6.473566055297852,
          -10.159944534301758,
          -7.7992262840271,
          5.544017791748047,
          -21.22068214416504,
          -0.5232791900634766,
          44.96968460083008,
          44.47501754760742,
          9.346141815185547,
          25.85429573059082,
          26.458274841308594,
          -19.460201263427734,
          -1.9196257591247559,
          13.859465599060059,
          5.845060348510742,
          25.59486961364746,
          -0.4077993631362915,
          30.818567276000977,
          -14.518598556518555,
          -4.50408935546875,
          36.001800537109375,
          -10.049830436706543,
          -3.9570980072021484,
          -10.440611839294434,
          27.566816329956055,
          45.77137756347656,
          -7.313633441925049,
          -2.6195497512817383,
          -7.690016269683838,
          -13.053598403930664,
          33.011905670166016,
          32.9122314453125,
          20.600439071655273,
          8.491727828979492,
          1.2738304138183594,
          25.110063552856445,
          -4.236470699310303,
          -11.742067337036133,
          -13.790976524353027,
          38.03643035888672,
          6.94156551361084,
          -8.351140975952148,
          3.897019147872925,
          13.399285316467285,
          0.7681893706321716,
          -11.642858505249023,
          -27.302562713623047,
          19.536537170410156,
          -32.05670166015625,
          21.794761657714844,
          41.12839126586914,
          -9.319602966308594,
          3.766080856323242,
          25.30323600769043,
          9.166650772094727,
          -16.855600357055664,
          19.750879287719727,
          28.215713500976562,
          28.784711837768555,
          -14.598343849182129,
          28.45585823059082,
          -16.222379684448242,
          7.981578350067139,
          11.075530052185059,
          18.821020126342773,
          -3.5937588214874268,
          -19.07206916809082,
          2.059447765350342,
          33.547176361083984,
          38.75593566894531,
          -13.701346397399902,
          -17.918458938598633,
          -2.98087215423584,
          11.404144287109375,
          -19.55257225036621,
          -17.755733489990234,
          -20.58333396911621,
          -6.678628444671631,
          9.878216743469238,
          39.9960823059082,
          -16.65435791015625,
          10.042011260986328,
          -19.564931869506836,
          8.436952590942383,
          38.52706527709961,
          22.804414749145508,
          8.009986877441406,
          -24.5261287689209,
          -5.395384788513184,
          22.349897384643555,
          -2.370738983154297,
          -2.3482487201690674,
          34.63819885253906,
          11.272209167480469,
          10.10228443145752,
          7.869510173797607,
          2.4740378856658936,
          35.41691207885742,
          23.729578018188477,
          -2.8982114791870117,
          15.878471374511719,
          -9.116782188415527,
          23.419179916381836,
          35.76829528808594,
          40.54032516479492,
          -32.965702056884766,
          34.79909896850586,
          11.328131675720215,
          -19.437211990356445,
          21.86672019958496,
          -17.12547492980957,
          -14.118491172790527,
          23.23941421508789,
          25.901220321655273,
          21.21724510192871,
          31.15740966796875,
          18.522130966186523,
          11.947672843933105,
          -10.812908172607422,
          39.359962463378906,
          19.736465454101562,
          -2.7970540523529053,
          21.590301513671875,
          24.6809139251709,
          -3.017115592956543,
          11.022212982177734,
          -9.919047355651855,
          0.7307019829750061,
          1.2755166292190552,
          -13.823312759399414,
          -1.3588224649429321
         ],
         "yaxis": "y"
        }
       ],
       "layout": {
        "autosize": true,
        "legend": {
         "title": {
          "text": ""
         },
         "tracegroupgap": 0
        },
        "paper_bgcolor": "black",
        "plot_bgcolor": "black",
        "showlegend": false,
        "template": {
         "data": {
          "bar": [
           {
            "error_x": {
             "color": "#f2f5fa"
            },
            "error_y": {
             "color": "#f2f5fa"
            },
            "marker": {
             "line": {
              "color": "rgb(17,17,17)",
              "width": 0.5
             },
             "pattern": {
              "fillmode": "overlay",
              "size": 10,
              "solidity": 0.2
             }
            },
            "type": "bar"
           }
          ],
          "barpolar": [
           {
            "marker": {
             "line": {
              "color": "rgb(17,17,17)",
              "width": 0.5
             },
             "pattern": {
              "fillmode": "overlay",
              "size": 10,
              "solidity": 0.2
             }
            },
            "type": "barpolar"
           }
          ],
          "carpet": [
           {
            "aaxis": {
             "endlinecolor": "#A2B1C6",
             "gridcolor": "#506784",
             "linecolor": "#506784",
             "minorgridcolor": "#506784",
             "startlinecolor": "#A2B1C6"
            },
            "baxis": {
             "endlinecolor": "#A2B1C6",
             "gridcolor": "#506784",
             "linecolor": "#506784",
             "minorgridcolor": "#506784",
             "startlinecolor": "#A2B1C6"
            },
            "type": "carpet"
           }
          ],
          "choropleth": [
           {
            "colorbar": {
             "outlinewidth": 0,
             "ticks": ""
            },
            "type": "choropleth"
           }
          ],
          "contour": [
           {
            "colorbar": {
             "outlinewidth": 0,
             "ticks": ""
            },
            "colorscale": [
             [
              0,
              "#0d0887"
             ],
             [
              0.1111111111111111,
              "#46039f"
             ],
             [
              0.2222222222222222,
              "#7201a8"
             ],
             [
              0.3333333333333333,
              "#9c179e"
             ],
             [
              0.4444444444444444,
              "#bd3786"
             ],
             [
              0.5555555555555556,
              "#d8576b"
             ],
             [
              0.6666666666666666,
              "#ed7953"
             ],
             [
              0.7777777777777778,
              "#fb9f3a"
             ],
             [
              0.8888888888888888,
              "#fdca26"
             ],
             [
              1,
              "#f0f921"
             ]
            ],
            "type": "contour"
           }
          ],
          "contourcarpet": [
           {
            "colorbar": {
             "outlinewidth": 0,
             "ticks": ""
            },
            "type": "contourcarpet"
           }
          ],
          "heatmap": [
           {
            "colorbar": {
             "outlinewidth": 0,
             "ticks": ""
            },
            "colorscale": [
             [
              0,
              "#0d0887"
             ],
             [
              0.1111111111111111,
              "#46039f"
             ],
             [
              0.2222222222222222,
              "#7201a8"
             ],
             [
              0.3333333333333333,
              "#9c179e"
             ],
             [
              0.4444444444444444,
              "#bd3786"
             ],
             [
              0.5555555555555556,
              "#d8576b"
             ],
             [
              0.6666666666666666,
              "#ed7953"
             ],
             [
              0.7777777777777778,
              "#fb9f3a"
             ],
             [
              0.8888888888888888,
              "#fdca26"
             ],
             [
              1,
              "#f0f921"
             ]
            ],
            "type": "heatmap"
           }
          ],
          "heatmapgl": [
           {
            "colorbar": {
             "outlinewidth": 0,
             "ticks": ""
            },
            "colorscale": [
             [
              0,
              "#0d0887"
             ],
             [
              0.1111111111111111,
              "#46039f"
             ],
             [
              0.2222222222222222,
              "#7201a8"
             ],
             [
              0.3333333333333333,
              "#9c179e"
             ],
             [
              0.4444444444444444,
              "#bd3786"
             ],
             [
              0.5555555555555556,
              "#d8576b"
             ],
             [
              0.6666666666666666,
              "#ed7953"
             ],
             [
              0.7777777777777778,
              "#fb9f3a"
             ],
             [
              0.8888888888888888,
              "#fdca26"
             ],
             [
              1,
              "#f0f921"
             ]
            ],
            "type": "heatmapgl"
           }
          ],
          "histogram": [
           {
            "marker": {
             "pattern": {
              "fillmode": "overlay",
              "size": 10,
              "solidity": 0.2
             }
            },
            "type": "histogram"
           }
          ],
          "histogram2d": [
           {
            "colorbar": {
             "outlinewidth": 0,
             "ticks": ""
            },
            "colorscale": [
             [
              0,
              "#0d0887"
             ],
             [
              0.1111111111111111,
              "#46039f"
             ],
             [
              0.2222222222222222,
              "#7201a8"
             ],
             [
              0.3333333333333333,
              "#9c179e"
             ],
             [
              0.4444444444444444,
              "#bd3786"
             ],
             [
              0.5555555555555556,
              "#d8576b"
             ],
             [
              0.6666666666666666,
              "#ed7953"
             ],
             [
              0.7777777777777778,
              "#fb9f3a"
             ],
             [
              0.8888888888888888,
              "#fdca26"
             ],
             [
              1,
              "#f0f921"
             ]
            ],
            "type": "histogram2d"
           }
          ],
          "histogram2dcontour": [
           {
            "colorbar": {
             "outlinewidth": 0,
             "ticks": ""
            },
            "colorscale": [
             [
              0,
              "#0d0887"
             ],
             [
              0.1111111111111111,
              "#46039f"
             ],
             [
              0.2222222222222222,
              "#7201a8"
             ],
             [
              0.3333333333333333,
              "#9c179e"
             ],
             [
              0.4444444444444444,
              "#bd3786"
             ],
             [
              0.5555555555555556,
              "#d8576b"
             ],
             [
              0.6666666666666666,
              "#ed7953"
             ],
             [
              0.7777777777777778,
              "#fb9f3a"
             ],
             [
              0.8888888888888888,
              "#fdca26"
             ],
             [
              1,
              "#f0f921"
             ]
            ],
            "type": "histogram2dcontour"
           }
          ],
          "mesh3d": [
           {
            "colorbar": {
             "outlinewidth": 0,
             "ticks": ""
            },
            "type": "mesh3d"
           }
          ],
          "parcoords": [
           {
            "line": {
             "colorbar": {
              "outlinewidth": 0,
              "ticks": ""
             }
            },
            "type": "parcoords"
           }
          ],
          "pie": [
           {
            "automargin": true,
            "type": "pie"
           }
          ],
          "scatter": [
           {
            "marker": {
             "line": {
              "color": "#283442"
             }
            },
            "type": "scatter"
           }
          ],
          "scatter3d": [
           {
            "line": {
             "colorbar": {
              "outlinewidth": 0,
              "ticks": ""
             }
            },
            "marker": {
             "colorbar": {
              "outlinewidth": 0,
              "ticks": ""
             }
            },
            "type": "scatter3d"
           }
          ],
          "scattercarpet": [
           {
            "marker": {
             "colorbar": {
              "outlinewidth": 0,
              "ticks": ""
             }
            },
            "type": "scattercarpet"
           }
          ],
          "scattergeo": [
           {
            "marker": {
             "colorbar": {
              "outlinewidth": 0,
              "ticks": ""
             }
            },
            "type": "scattergeo"
           }
          ],
          "scattergl": [
           {
            "marker": {
             "line": {
              "color": "#283442"
             }
            },
            "type": "scattergl"
           }
          ],
          "scattermapbox": [
           {
            "marker": {
             "colorbar": {
              "outlinewidth": 0,
              "ticks": ""
             }
            },
            "type": "scattermapbox"
           }
          ],
          "scatterpolar": [
           {
            "marker": {
             "colorbar": {
              "outlinewidth": 0,
              "ticks": ""
             }
            },
            "type": "scatterpolar"
           }
          ],
          "scatterpolargl": [
           {
            "marker": {
             "colorbar": {
              "outlinewidth": 0,
              "ticks": ""
             }
            },
            "type": "scatterpolargl"
           }
          ],
          "scatterternary": [
           {
            "marker": {
             "colorbar": {
              "outlinewidth": 0,
              "ticks": ""
             }
            },
            "type": "scatterternary"
           }
          ],
          "surface": [
           {
            "colorbar": {
             "outlinewidth": 0,
             "ticks": ""
            },
            "colorscale": [
             [
              0,
              "#0d0887"
             ],
             [
              0.1111111111111111,
              "#46039f"
             ],
             [
              0.2222222222222222,
              "#7201a8"
             ],
             [
              0.3333333333333333,
              "#9c179e"
             ],
             [
              0.4444444444444444,
              "#bd3786"
             ],
             [
              0.5555555555555556,
              "#d8576b"
             ],
             [
              0.6666666666666666,
              "#ed7953"
             ],
             [
              0.7777777777777778,
              "#fb9f3a"
             ],
             [
              0.8888888888888888,
              "#fdca26"
             ],
             [
              1,
              "#f0f921"
             ]
            ],
            "type": "surface"
           }
          ],
          "table": [
           {
            "cells": {
             "fill": {
              "color": "#506784"
             },
             "line": {
              "color": "rgb(17,17,17)"
             }
            },
            "header": {
             "fill": {
              "color": "#2a3f5f"
             },
             "line": {
              "color": "rgb(17,17,17)"
             }
            },
            "type": "table"
           }
          ]
         },
         "layout": {
          "annotationdefaults": {
           "arrowcolor": "#f2f5fa",
           "arrowhead": 0,
           "arrowwidth": 1
          },
          "autotypenumbers": "strict",
          "coloraxis": {
           "colorbar": {
            "outlinewidth": 0,
            "ticks": ""
           }
          },
          "colorscale": {
           "diverging": [
            [
             0,
             "#8e0152"
            ],
            [
             0.1,
             "#c51b7d"
            ],
            [
             0.2,
             "#de77ae"
            ],
            [
             0.3,
             "#f1b6da"
            ],
            [
             0.4,
             "#fde0ef"
            ],
            [
             0.5,
             "#f7f7f7"
            ],
            [
             0.6,
             "#e6f5d0"
            ],
            [
             0.7,
             "#b8e186"
            ],
            [
             0.8,
             "#7fbc41"
            ],
            [
             0.9,
             "#4d9221"
            ],
            [
             1,
             "#276419"
            ]
           ],
           "sequential": [
            [
             0,
             "#0d0887"
            ],
            [
             0.1111111111111111,
             "#46039f"
            ],
            [
             0.2222222222222222,
             "#7201a8"
            ],
            [
             0.3333333333333333,
             "#9c179e"
            ],
            [
             0.4444444444444444,
             "#bd3786"
            ],
            [
             0.5555555555555556,
             "#d8576b"
            ],
            [
             0.6666666666666666,
             "#ed7953"
            ],
            [
             0.7777777777777778,
             "#fb9f3a"
            ],
            [
             0.8888888888888888,
             "#fdca26"
            ],
            [
             1,
             "#f0f921"
            ]
           ],
           "sequentialminus": [
            [
             0,
             "#0d0887"
            ],
            [
             0.1111111111111111,
             "#46039f"
            ],
            [
             0.2222222222222222,
             "#7201a8"
            ],
            [
             0.3333333333333333,
             "#9c179e"
            ],
            [
             0.4444444444444444,
             "#bd3786"
            ],
            [
             0.5555555555555556,
             "#d8576b"
            ],
            [
             0.6666666666666666,
             "#ed7953"
            ],
            [
             0.7777777777777778,
             "#fb9f3a"
            ],
            [
             0.8888888888888888,
             "#fdca26"
            ],
            [
             1,
             "#f0f921"
            ]
           ]
          },
          "colorway": [
           "#636efa",
           "#EF553B",
           "#00cc96",
           "#ab63fa",
           "#FFA15A",
           "#19d3f3",
           "#FF6692",
           "#B6E880",
           "#FF97FF",
           "#FECB52"
          ],
          "font": {
           "color": "#f2f5fa"
          },
          "geo": {
           "bgcolor": "rgb(17,17,17)",
           "lakecolor": "rgb(17,17,17)",
           "landcolor": "rgb(17,17,17)",
           "showlakes": true,
           "showland": true,
           "subunitcolor": "#506784"
          },
          "hoverlabel": {
           "align": "left"
          },
          "hovermode": "closest",
          "mapbox": {
           "style": "dark"
          },
          "paper_bgcolor": "rgb(17,17,17)",
          "plot_bgcolor": "rgb(17,17,17)",
          "polar": {
           "angularaxis": {
            "gridcolor": "#506784",
            "linecolor": "#506784",
            "ticks": ""
           },
           "bgcolor": "rgb(17,17,17)",
           "radialaxis": {
            "gridcolor": "#506784",
            "linecolor": "#506784",
            "ticks": ""
           }
          },
          "scene": {
           "xaxis": {
            "backgroundcolor": "rgb(17,17,17)",
            "gridcolor": "#506784",
            "gridwidth": 2,
            "linecolor": "#506784",
            "showbackground": true,
            "ticks": "",
            "zerolinecolor": "#C8D4E3"
           },
           "yaxis": {
            "backgroundcolor": "rgb(17,17,17)",
            "gridcolor": "#506784",
            "gridwidth": 2,
            "linecolor": "#506784",
            "showbackground": true,
            "ticks": "",
            "zerolinecolor": "#C8D4E3"
           },
           "zaxis": {
            "backgroundcolor": "rgb(17,17,17)",
            "gridcolor": "#506784",
            "gridwidth": 2,
            "linecolor": "#506784",
            "showbackground": true,
            "ticks": "",
            "zerolinecolor": "#C8D4E3"
           }
          },
          "shapedefaults": {
           "line": {
            "color": "#f2f5fa"
           }
          },
          "sliderdefaults": {
           "bgcolor": "#C8D4E3",
           "bordercolor": "rgb(17,17,17)",
           "borderwidth": 1,
           "tickwidth": 0
          },
          "ternary": {
           "aaxis": {
            "gridcolor": "#506784",
            "linecolor": "#506784",
            "ticks": ""
           },
           "baxis": {
            "gridcolor": "#506784",
            "linecolor": "#506784",
            "ticks": ""
           },
           "bgcolor": "rgb(17,17,17)",
           "caxis": {
            "gridcolor": "#506784",
            "linecolor": "#506784",
            "ticks": ""
           }
          },
          "title": {
           "x": 0.05
          },
          "updatemenudefaults": {
           "bgcolor": "#506784",
           "borderwidth": 0
          },
          "xaxis": {
           "automargin": true,
           "gridcolor": "#283442",
           "linecolor": "#506784",
           "ticks": "",
           "title": {
            "standoff": 15
           },
           "zerolinecolor": "#283442",
           "zerolinewidth": 2
          },
          "yaxis": {
           "automargin": true,
           "gridcolor": "#283442",
           "linecolor": "#506784",
           "ticks": "",
           "title": {
            "standoff": 15
           },
           "zerolinecolor": "#283442",
           "zerolinewidth": 2
          }
         }
        },
        "title": {
         "text": "Articles about Data Science (light blue) and Business (red)"
        },
        "xaxis": {
         "anchor": "y",
         "autorange": true,
         "domain": [
          0,
          1
         ],
         "range": [
          -68.60912205336149,
          84.47268177626188
         ],
         "title": {
          "text": ""
         },
         "type": "linear",
         "zeroline": false
        },
        "yaxis": {
         "anchor": "x",
         "autorange": true,
         "domain": [
          0,
          1
         ],
         "range": [
          -48.88537055080377,
          55.36667471950494
         ],
         "showticklabels": false,
         "title": {
          "text": ""
         },
         "type": "linear",
         "zeroline": false
        }
       }
      },
      "image/png": "[encoded data removed]",
      "text/html": [
       "<div>                            <div id=\"fc5570ff-3c69-4ea7-a83f-4a335a7ac258\" class=\"plotly-graph-div\" style=\"height:400px; width:100%;\"></div>            <script type=\"text/javascript\">                require([\"plotly\"], function(Plotly) {                    window.PLOTLYENV=window.PLOTLYENV || {};                                    if (document.getElementById(\"fc5570ff-3c69-4ea7-a83f-4a335a7ac258\")) {                    Plotly.newPlot(                        \"fc5570ff-3c69-4ea7-a83f-4a335a7ac258\",                        [{\"customdata\":[[\"color\"],[\"color\"],[\"color\"],[\"color\"],[\"color\"],[\"color\"],[\"color\"],[\"color\"],[\"color\"],[\"color\"],[\"color\"],[\"color\"],[\"color\"],[\"color\"],[\"color\"],[\"color\"],[\"color\"],[\"color\"],[\"color\"],[\"color\"],[\"color\"],[\"color\"],[\"color\"],[\"color\"],[\"color\"],[\"color\"],[\"color\"],[\"color\"],[\"color\"],[\"color\"],[\"color\"],[\"color\"],[\"color\"],[\"color\"],[\"color\"],[\"color\"],[\"color\"],[\"color\"],[\"color\"],[\"color\"],[\"color\"],[\"color\"],[\"color\"],[\"color\"],[\"color\"],[\"color\"],[\"color\"],[\"color\"],[\"color\"],[\"color\"],[\"color\"],[\"color\"],[\"color\"],[\"color\"],[\"color\"],[\"color\"],[\"color\"],[\"color\"],[\"color\"],[\"color\"],[\"color\"],[\"color\"],[\"color\"],[\"color\"],[\"color\"],[\"color\"],[\"color\"],[\"color\"],[\"color\"],[\"color\"],[\"color\"],[\"color\"],[\"color\"],[\"color\"],[\"color\"],[\"color\"],[\"color\"],[\"color\"],[\"color\"],[\"color\"],[\"color\"],[\"color\"],[\"color\"],[\"color\"],[\"color\"],[\"color\"],[\"color\"],[\"color\"],[\"color\"],[\"color\"],[\"color\"],[\"color\"],[\"color\"],[\"color\"],[\"color\"],[\"color\"],[\"color\"],[\"color\"],[\"color\"],[\"color\"],[\"color\"],[\"color\"],[\"color\"],[\"color\"],[\"color\"],[\"color\"],[\"color\"],[\"color\"],[\"color\"],[\"color\"],[\"color\"],[\"color\"],[\"color\"],[\"color\"],[\"color\"],[\"color\"],[\"color\"],[\"color\"],[\"color\"],[\"color\"],[\"color\"],[\"color\"],[\"color\"],[\"color\"],[\"color\"],[\"color\"],[\"color\"],[\"color\"],[\"color\"],[\"color\"],[\"color\"],[\"color\"],[\"color\"],[\"color\"],[\"color\"],[\"color\"],[\"color\"],[\"color\"],[\"color\"],[\"color\"],[\"color\"],[\"color\"],[\"color\"],[\"color\"],[\"color\"],[\"color\"],[\"color\"],[\"color\"],[\"color\"],[\"color\"],[\"color\"],[\"color\"],[\"color\"],[\"color\"],[\"color\"],[\"color\"],[\"color\"],[\"color\"],[\"color\"],[\"color\"],[\"color\"],[\"color\"],[\"color\"],[\"color\"],[\"color\"],[\"color\"],[\"color\"],[\"color\"],[\"color\"],[\"color\"],[\"color\"],[\"color\"],[\"color\"],[\"color\"],[\"color\"],[\"color\"],[\"color\"],[\"color\"],[\"color\"],[\"color\"],[\"color\"],[\"color\"],[\"color\"],[\"color\"],[\"color\"],[\"color\"],[\"color\"],[\"color\"],[\"color\"],[\"color\"],[\"color\"],[\"color\"],[\"color\"],[\"color\"],[\"color\"],[\"color\"],[\"color\"],[\"color\"],[\"color\"],[\"color\"],[\"color\"],[\"color\"],[\"color\"],[\"color\"],[\"color\"],[\"color\"],[\"color\"],[\"color\"],[\"color\"],[\"color\"],[\"color\"],[\"color\"],[\"color\"],[\"color\"],[\"color\"],[\"color\"],[\"color\"],[\"color\"],[\"color\"],[\"color\"],[\"color\"],[\"color\"],[\"color\"],[\"color\"],[\"color\"],[\"color\"],[\"color\"],[\"color\"],[\"color\"],[\"color\"],[\"color\"],[\"color\"],[\"color\"],[\"color\"],[\"color\"],[\"color\"],[\"color\"],[\"color\"],[\"color\"],[\"color\"],[\"color\"],[\"color\"],[\"color\"],[\"color\"],[\"color\"],[\"color\"],[\"color\"],[\"color\"],[\"color\"],[\"color\"],[\"color\"],[\"color\"],[\"color\"],[\"color\"],[\"color\"],[\"color\"],[\"color\"],[\"color\"],[\"color\"],[\"color\"],[\"color\"],[\"color\"],[\"color\"],[\"color\"],[\"color\"],[\"color\"],[\"color\"],[\"color\"],[\"color\"],[\"color\"],[\"color\"],[\"color\"],[\"color\"],[\"color\"],[\"color\"],[\"color\"],[\"color\"],[\"color\"],[\"color\"],[\"color\"],[\"color\"],[\"color\"],[\"color\"],[\"color\"],[\"color\"],[\"color\"],[\"color\"],[\"color\"],[\"color\"],[\"color\"],[\"color\"],[\"color\"],[\"color\"],[\"color\"],[\"color\"],[\"color\"],[\"color\"],[\"color\"],[\"color\"],[\"color\"],[\"color\"],[\"color\"],[\"color\"],[\"color\"],[\"color\"],[\"color\"],[\"color\"],[\"color\"],[\"color\"],[\"color\"],[\"color\"],[\"color\"],[\"color\"],[\"color\"],[\"color\"],[\"color\"],[\"color\"],[\"color\"],[\"color\"],[\"color\"],[\"color\"],[\"color\"],[\"color\"],[\"color\"],[\"color\"],[\"color\"],[\"color\"],[\"color\"],[\"color\"],[\"color\"],[\"color\"],[\"color\"],[\"color\"],[\"color\"],[\"color\"],[\"color\"],[\"color\"],[\"color\"],[\"color\"],[\"color\"],[\"color\"],[\"color\"],[\"color\"],[\"color\"],[\"color\"],[\"color\"],[\"color\"],[\"color\"],[\"color\"],[\"color\"],[\"color\"],[\"color\"],[\"color\"],[\"color\"],[\"color\"],[\"color\"],[\"color\"],[\"color\"],[\"color\"],[\"color\"],[\"color\"],[\"color\"],[\"color\"],[\"color\"],[\"color\"],[\"color\"],[\"color\"],[\"color\"],[\"color\"],[\"color\"],[\"color\"],[\"color\"],[\"color\"],[\"color\"],[\"color\"],[\"color\"],[\"color\"],[\"color\"],[\"color\"],[\"color\"],[\"color\"],[\"color\"],[\"color\"],[\"color\"],[\"color\"],[\"color\"],[\"color\"],[\"color\"],[\"color\"],[\"color\"],[\"color\"],[\"color\"],[\"color\"],[\"color\"],[\"color\"],[\"color\"],[\"color\"],[\"color\"],[\"color\"],[\"color\"]],\"hovertemplate\":\"\\u003cb\\u003e%{hovertext}\\u003c\\u002fb\\u003e\\u003cbr\\u003e\\u003cbr\\u003e=%{customdata[0]}\\u003cextra\\u003e\\u003c\\u002fextra\\u003e\",\"hovertext\":[\"Essential OpenCV Functions to Get You Started into Computer Vision\",\"Data Science for Startups: R -\\u003e Python\",\"How to Customize QuickSight Dashboards for User Specific Data\",\"The answer is blowing in the wind: Harnessing real-time data to predict storm damage\",\"Working Together to Build a Big Data Future\",\"Identifying Outliers\",\"What Are The Benefits Of Cloud Data Warehousing?\",\"Streaming Data from the Universe with Apache Kafka\",\"An Introduction to t-SNE with Python Example\",\"Who is Nightingale for?\",\"Facebook AI Research Found Intersections In Popular QA Datasets\",\"Warning! Unsupervised Neuroscience Ahead\",\"Duck Typing in Python \\u2014 3 Practical Examples\",\"Tutorial: Exploratory Data Analysis (EDA) with Categorical Variables\",\"Data Science Reading List for May 2020\",\"Covid-19 Interactive Visualization\",\"Viewing the E.Coli imbalance dataset in 3D with Python\",\"Catching Up With Giovanni Magni of Accurat Design Studio\",\"Creative and Critical Use of Complex Networks\",\"5 Ways We Misunderstand the Mechanics of COVID-19 Infection\",\"Optimized World. Optimized World: Part 1\",\"A neural data science: how and why\",\"Happy data scientist: How to build a business intelligence app with 10 lines of python code\",\"What is the data science community\\u2019s favourite media source?\",\"Python Project To Improve Your Productivity For The New Year\",\"Tutorial on Data Visualization: Weather Data\",\"How to build an MP3 Music Player with Python\",\"Data Science, Alexander of the Times Ahead\",\"Hyperkops: Scaleable Hyperparameter Tuning of Machine Learning Models Using Bayesian optimisation in Kubernetes\",\"Debug Google Colab and Kaggle\",\"Data Storytelling: Appealing to Logic and Perspective\",\"Designing for AI: Trust\",\"Apache Spark-3.0 Sneek peak\",\"Depth-First Search vs. Breadth-First Search in Python\",\"Getting Started with Plot.ly\",\"Making Grids in Python\",\"Interesting AI\\u002fML Articles On Medium This Week (Dec 5)\",\"Handling Outliers in Clusters using Silhouette Analysis\",\"Exploring the question of whether submarines can swim\",\"Build a Natural Language Classifier With Bert and Tensorflow\",\"Advantages and Disadvantages of Artificial Intelligence\",\"AI Speeds Drug Discovery to fight COVID-19\",\"Stay Healthy. Stay Data-Informed.\",\"RAPIDS Anywhere with Tailscale. It\\u2019s never been easier to get started\\u2026\",\"Transcribe Your Zoom Meetings For Free with AWS!\",\"Applying Deep Learning To Airbnb Search\",\"A Guide to Logistic Regression in SAS\",\"Python Pandas: A Complete Guide for Beginners\",\"Investing in Data and AI \\u2014 When and Why\",\"Class 3: Becoming an AI design expert starts with becoming a data-driven designer\",\"Batch normalization in Neural Networks\",\"Analyzing Data Distributions with Seaborn\",\"DialogRPT With \\ud83e\\udd17 Huggingface Transformers: Which Comments Get More Likes, More Replies and Are More Engaging?\",\"Creating Custom Face Datasets: From Zero To Hero\",\"Image Processing with OpenCV\",\"6 Things to Know to Get Started With Python Data Classes\",\"Creating Python Functions for Exploratory Data Analysis and Data Cleaning\",\"6 Pandas Operations You Should Not Miss\",\"PAIRWISE RANKING : EPL PREDICTION \\u2014 Part2\",\"A gentle introduction to the 5 Google Cloud BigQuery APIs\",\"A guide to IBM\\u2019s complete set of data & AI tools and services\",\"Selling Russian Hackers\",\"General Purpose Tensorflow 2.x Script to train any CSV file\",\"The most impressive Youtube Channels for you to Learn AI, Machine Learning, and Data Science.\",\"53 Python Interview Questions and Answers\",\"Quantum Computing And The Meaning Of Life\\u2014Not Just \\u201842\\u2019\",\"How to facilitate understanding of data? Data visualization [Examples and tools]\",\"An Ultimate Cheat Sheet for Data Visualization in Pandas\",\"From Utopia to Reality: Marketing and the Big Data Revolution\",\"History Warns of the Deadly Threat to Humanity from Artificial Intelligence\",\"Machine Learning \\u2014 How it works. Definitions of AI and ML. What their\\u2026\",\"Best practices for combining data science and design\",\"QC \\u2014 Quantum programming: implementation issues\",\"How To Get Hired At Your Dream Job In Just 11 Lines Of Python Code\",\"Visualising high-dimensional datasets using PCA and t-SNE in Python\",\"The NLP Cypher | 12.20.20\",\"Quantifying hard retinal exudates using Growing Neural Gas algorithms\",\"Create Interactive Dashboards with Panel & Python\",\"Understanding Cosine Similarity And Its Application\",\"How to Master the Art of Storytelling as a Data Scientist?\",\"Here\\u2019s How I Use Natural Language Processing In Stock Price Analysis\",\"Welcoming Dash 1.0.0\",\"Python HOW: Farewell Anaconda! Take Full Control of Your Development Environment\",\"Turing Test vs Chinese Room Argument\",\"Data Visualization with Python HoloViz: Interactive Plots and Widgets in Jupyter\",\"FrankMocap \\u2014 New SOTA for Fast 3D Pose Estimation\",\"Tools for using Kubernetes\",\"\\ud83c\\udf1fIntroducing Dash Cytoscape\\ud83c\\udf1f\",\"The Danger of Humanizing Algorithms\",\"Finally, an intuitive explanation of why ReLU works\",\"What is Deep Learning and How Deep Learning Works?\",\"Python Dash Data Visualization Dashboard Web App Template\",\"Finland\\u2019s New Free AI Courses\",\"Hierarchical Clustering on Categorical Data in R\",\"Dispelling Three Common Myths of Machine Learning Personalization\",\"How to Implement Logging in Your Python Application\",\"GAN \\u2014 CycleGAN (Playing magic with pictures)\",\"How to manage files in Google Drive with Python\",\"Creating awesome (and ethical) experiences with big data\",\"Ten Ways Cognitive Biases Impact Data Design Work\",\"An intro to Cloud Computing for Data Scientists and Data Engineers\",\"Format function in Python\",\"Using FIPS to Visualize in Plotly\",\"Using GCP AI Platform Notebooks as Reproducible Data Science Environments\",\"Interactive Election Visualisations in Python with Altair\",\"No More Basic Plots Please\",\"Introducing you to Big Data and AI\",\"Hierarchical Clustering in Python using Dendrogram and Cophenetic Correlation\",\"Behind the Coronavirus Mortality Rate\",\"Different Types of Normalization in Tensorflow\",\"\\u201cHot\\u2019n\\u2019Pop Song Machine\\u201d: end-to-end Machine Learning classificator project\",\"Transfer Learning SOTA\\u2014 Do Adversarially Robust ImageNet Models Transfer Better?\",\"How Big Data is Helping in Big COVID-19 Pandemic Situation\",\"The best tools for Dashboarding in Python\",\"How I solved a class imbalance problem\",\"11 Visualization Examples to Practice Matplotlib\",\"Exploratory Data Analysis(EDA) From Scratch in Python\",\"Big Data 3 V\\u2019s and 5 V\\u2019s\",\"Too little, too late. COVID-19 is on track to be more severe in the United States\",\"Label Smarter Not More\",\"Silhouette Method \\u2014 Better than Elbow Method to find Optimal Clusters\",\"Data visualization using Pandas\",\"Web scraping com Python\",\"Kannada-MNIST:A new handwritten digits dataset in ML town\",\"Estimating AI Project Costs & Timescales: 4 Rules of Thumb\",\"10 Efficient Ways to Use Python Lists\",\"The Cardio of Audio\",\"Data Journalism Crash Course #5: Advanced Data Search \\u2014 Google\",\"SigNet (Detecting Signature Similarity Using Machine Learning\\u002fDeep Learning): Is This the End of Human Forensic Analysis?\",\"MLOps In Action: Training-serving skew\",\"How to Create Eye-Catching Maps With Python and Kepler.gl\",\"Forecasting with Stochastic Models\",\"Prefect Cloud has Launched! \\ud83c\\udf89\",\"PI and Simulation Art in R\",\"Practical Data Analysis with Pandas and Seaborn\",\"PAKISTAN\\u2019S COVID-19 VISUALIZATION USING POWER BI\",\"How to run Spark\\u002fScala code in Jupyter Notebook\",\"Artificial Intelligence (AI), Data Science, and Analytics\",\"Deepfakes Detection by Heart Rate Prediction\",\"Hadoop Distributed File System\",\"The Why and How of MapReduce\",\"In the brain of Computer vision? (Eng)\",\"Artificiality Bites \\ud83d\\udc8a Issue #10\",\"New beta features of AutoAI in IBM Watson Studio automates feature engineering on multiple datasets\",\"Edge Detection in Python\",\"Building Dashboards using Dash (\\u003c 200 lines of code)\",\"Better Iteration in Python\\u2014 6 Ways to Filter Iterables\",\"Why Integrate Diversity in the Energy Sector with AI and more?\",\"PixieDust 1.0 is here!\",\"8 Things to Know to Master Python Function Arguments\",\"Bokeh 2.2\",\"Work with private repositories and other updates of the FlyElephant platform\",\"Resources to Supercharge your Data Science in 2021\",\"Best Machine Learning Blogs to Follow in 2020\",\"User Management With Firebase and Python\",\"What I\\u2019ve learnt building a Machine Learning project for a medium-sized enterprise\",\"Getting Started with Applied ML Research\",\"The Reason Behind if __name__ == \\u2018__main__\\u2019 in Python\",\"Why Pandas itertuples() Is Faster Than iterrows() and How To Make It Even Faster\",\"Introduction to Technology Hits\",\"Use C# And ML.NET Machine Learning To Predict Taxi Fares In New York\",\"Data science-Create Tailored Algorithms\",\"Building scalable and efficient ML Pipelines\",\"Lesser-known techniques for data exploration\",\"Open Source Dataset for NLP Beginners\",\"Space Science with Python \\u2014 A Data Science Tutorial Series\",\"A Beginner\\u2019s Look at Kaggle\",\"Increasing Accuracy by Converting to a Multivariate Dataset\",\"April Fools\\u2019 2019: Perception-driven data visualization\",\"Training multiple machine learning models and running data tasks in parallel via YARN + Spark + multithreading\",\"A Layman\\u2019s Guide to Data Science: How to Become a (Good) Data Scientist\",\"3 Open Source Tools for Ethical AI\",\"3rd Annual Global Artificial Intelligence Conference [January 23\\u201325th, 2019]\",\"Detect Spam Messages with C# And A CNTK Deep Neural Network\",\"Why Learning Java is a Starting Point For Big Data Developers Of The Future\",\"How much can one make with Airbnb in Bristol, UK: an exploratory analysis\",\"[Chapter-1] The Machine Learning Landscape \\u2014 Part-1\\ud83e\\uddd9\\ud83c\\udffb\\u200d\\u2642\\ufe0f\",\"My data science template for Python\",\"30 Magical Python Tricks to Write Better Code\",\"Draw insights from fiction books with Text Mining\",\"Principal Components Analysis (PCA), Fundamentals, Benefits & Insights for Industry\",\"Image Compression using K-Means Clustering\",\"Using Machine Learning to Predict Subscription to Bank Term Deposits for Clients with Python\",\"How To Build a Payments Data Team\",\"CatBoost: Cross-Validated Bayesian Hyperparameter Tuning\",\"Resampling Methods for Inference Analysis\",\"Why Data Science might just not be worth it\",\"What happened when I predicted on the Titanic dataset with a made from scratch Logistic Regression function\",\"Pangeo 2.0\",\"What is ETL?\",\"Getting started with Google Maps in Python\",\"The Co-op Close-up: Procter & Gamble\",\"13 Conda Commands for Data Scientists\",\"How a beginner should approach Kaggle?\",\"17 Strategies for Dealing with Data, Big Data, and Even Bigger Data\",\"5 Pairs of Magic Methods in Python That You Should Know\",\"Natural Language Processing with spaCy \\u2014 Steps and Examples\",\"From Insight to Action to Stranger Things \\u2014 Acrotrend Solutions\",\"Give it a SPIN!\",\"4 Top AI\\u002fML Github Repositories in November 2020\",\"Loss Aversion \\u2014 how fear influences customer choice\",\"Your Brand is What People Expect From You\",\"Tech Execs Face Congress: 9 Big Takeaways\",\"A Goodbye to Golden Muzzles: Internal Dissent and the Cautionary Tale of Facebook\",\"How are Big Tech Companies Dominating the Markets in the Global Arena?\",\"5 Simple yet Effective Tips for Creating High-Quality Content for Your Content Marketing Strategy\",\"Why Word Placement Is Important in Headlines\",\"Thought Plagiarism and How It Threatens Creative Platforms\",\"10 Easy Fixes for Common Headline Mistakes\",\"How to come up with a name for your new business\",\"The First Time Entrepreneur Myth\",\"23 Traits of Successful Entrepreneurs\",\"Know What Your Audience Wants With Quality Market Research\",\"10 Steps to Win with Blogging in 2021\",\"Supreme, Wegmans and the benefits of resisting greed for your own good\",\"Why You Need to Write More Than One Headline\",\"Could Cloud Computing Be the Missing Piece of the Puzzle That Your Business Needs?\",\"Why Your First Thoughts Make the Best Headlines\",\"How Startups Get Out Of Survival Mode and Into Growth Mode\",\"Not Taking Marketing Seriously Taught Me a Bitter Lesson in my Entrepreneur Journey\",\"Substack Formatting\",\"How to Initiate Innovative Business Collaboration\",\"5 Top Tips for Creating Business Card Designs\",\"I Survived Toxic Startup, Here\\u2019s the Antidote\",\"7 Things I Gave up to Pursue My Entrepreneurial Endeavors\",\"What Being Broke Taught Me About Launching a Successful Business\",\"5 Hats You Need to Wear to Crush Your Entrepreneurial Goals\",\"How To Be Productive and Effective During Social Distancing\",\"The 7 Most Common Analysis Mistakes New Marketers Make\",\"The 3 Most Important Things I Know About Consumers I Learned From Bartending\",\"How Startups Outsource Their Tech Without Going Broke or Getting Screwed\",\"Welcome New Writers\",\"Tips for Startups From Peter Thiel\",\"Essential Roles and Responsibilities of Successful Business Leaders\",\"Why I Write By Hand\",\"32 Headline Tips Every Good Writer Needs to Know\",\"Now Is the Time to Discuss Order Fulfilment\",\"3 Steps to Run Better and More Effective Meetings\",\"5 Quotes by Rick Riordan to Make You a Better Writer\",\"How to use behavioral science to improve your experience\",\"How to Build an Email List of 500 Subscribers in a Month\",\"Should YouTube Have a Dislike Button?\",\"Long or Short: Which Headlines Are Better?\",\"How I Use Data To Build Better Products\",\"5 Powerful Lessons My Dog Taught Me About Writing\",\"11 Book Recommendations from Mark Cuban to Stay at the Top of the Game\",\"My First Product \\u2018Broke\\u2019 Twitter and Then Crashed Hard\",\"How Walmart used psychology to become the world\\u2019s largest retailer\",\"The Evolution of the Business Buzzword, \\u2018AI\\u2019\",\"The Logo Comes Last: Developing an Effective Brand Identity\",\"How Startups Fill Leadership Gaps With Expert Resources\",\"The Two Things You Need to Build an Email List\",\"How to Recover After a Failed Startup\",\"How to Build a No Code Startup Around Your MVP\",\"4 Things Brands Must do Right Now to Prepare for 2021\",\"6 Powerful Headline Principles Inspired by Claude Hopkins\",\"What Words Should Be Capitalized in a Headline?\",\"Tony Hsieh is Dead and Nobody Knows What to Say\",\"How Apps Are Helping Us With Our Mental Health\",\"What Famous Startup Taglines Can Teach You About Headlines\",\"A Cheat Sheet for Choosing the Right Data Visualizations\",\"The Genius Formula of BTS- The K-Pop Phenomenon That Took The World By Storm\",\"A stunning Japanese philosophy that will make you a better marketer, entrepreneur and human.\",\"How to Make Google Love You (Even if You Don\\u2019t Love Google)\",\"Building a Team as a Model for Cooperative Work\",\"How to Make Your Work Stand Out Online\",\"Use the Decoy Effect to Sell More\",\"How to Find Inspiration for Your Business Even in Toughest Times\",\"Think Ahead: Boost Your BI with AI\",\"5 minutes to understand data storytelling!\",\"How To Quit Your Job and Start a Business That Lasts\",\"3 Trends That Are Putting the Power of Business Intelligence in More Hands\",\"3 Engineering Mistakes That Will Botch Scale\",\"How Coursera uses psychology to make education addictive\",\"How I Sold More Membership Cards Than Any Other Store Clerk\",\"Time Management: The Single Most Important Component to My Productivity\",\"Try These 20 CNN Headline Templates to Draw in Readers\",\"7 Business Lessons You Can Learn from Amazon Founder Jeff Bezos\",\"Purge your Followers, Bring an Instagram Account Back to Life\",\"How Unsplash Went From a Tumblr Page To Fully-Fledged Platform\",\"Definitive Guide To Creating Profitable Online Courses\",\"How Technology is Hijacking Your Mind \\u2014 from a Magician and Google Design Ethicist\",\"How \\u2018& Sons\\u2019 Became a Retail Trope \\u2014 and the Cruelest Lie in Branding\",\"Why Psychopaths Outperform Us\",\"The Scam Catching LinkedIn Users Off Guard \\u2014 The Fast Path to 1 Million Followers Which Exploits Jobseekers\",\"Hacking software sales by rethinking team structure\",\"Apple Is Crushing Deep Links That Were Used As Ad-Tracking Devices\",\"Back to basics \\u2014 company law 101 for startups\",\"How Ego Almost Killed My Company\",\"3 Ways To Measure The Effectiveness of Your Leadership\",\"How Failing in Building a Company Heightened my Intellect\",\"A good designer is a good businessperson\",\"How We Increased Revenue By $100k Every Month\",\"From $0 to $100,000: The Business Side of Writing Is the Hardest to Learn and the Easiest to Implement\",\"Two Weeks with a Teen Entrepreneur\",\"How to Not Suck at Design, a 5 Minute Guide for the Non-Designer.\",\"Why Most Entrepreneurs Struggle\",\"BI in Startups\",\"You Need a Co-Founder For Your Startup.\",\"Public Relations: Using the Media as a Third-Party to Influence Your Audience\",\"I Published Six Articles on Vocal\",\"Let\\u2019s Help Each Other Grow\",\"Marketing Fear, Uncertainty, Doubt and, Ultimately, Positivity for Profit\",\"Watch Out!!\",\"Freelance Writing Business: How to Have Early Success\",\"We designers serve others\",\"How to Thrive as a Freelancer Working From Home\",\"Setting Up Your Home Office as a New Freelancer\",\"Would You Buy A Book For $117? Here\\u2019s How I\\u2019ll Sell It\",\"My Favorite Pro Creative Apps for 2021\",\"How to Start a New Brand\",\"Your Punctuality is Reflecting More Than You Know\",\"How Kanye West Built A Multi-Billion Dollar Sneaker Brand\",\"Direct from the investor: 5 lessons for entrepreneurs in 2021\",\"Three Stories Every Entrepreneur Should Know\",\"How To Get Hired At Your Dream Job In Just 11 Lines Of Python Code\",\"How Coronavirus Re-Crowned Corona Beer as the World\\u2019s Leading Lager\",\"Three Types of Business Opportunities with Machine Learning\",\"5 elements of high converting ecommerce product pages\",\"We need 2 things to be great at what we do.\",\"Integrate machine learning and big data into real-time business intelligence with Snowflake and Plotly\\u2019s Dash\",\"Ford is known as one of the greatest entrepreneurs of all time. But was he such a great leader at all? How do you spot a weak leader?Was Henry Ford a Good Leader?\",\"Make LinkedIn Part of Your Content Promotion Strategy to Increase Your Reach\",\"How to Start a Business in an Afternoon Using Python and Dash\",\"Importance and Value of Cross-Pollination in the Workplace\",\"Why I Became a Writer\",\"Stories on ILLUMINATION-Curated \\u2014 All Volumes\",\"Freelance Writer? How to Know When It\\u2019s Time to Fire a Client\",\"Why Startups Need Affordable Help\",\"How to create better Email Signatures\",\"Why Your Startup Isn\\u2019t Cashflow Positive Until You Make A Living Wage\",\"The 7 best business books of 2020 (that I read)\",\"Entrepreneurs: If You\\u2019re Looking for Podcasts in 2020, Pick These\",\"How I \\u201cSanity Check\\u201d Financials For a B2C Business Idea\",\"The Dark Side of Attending an Elite College\",\"How Many Startups Can You Manage At Once?\",\"5 Skills You Need To Perfect To Create Wealth\",\"How Persuasion Knowledge Provides a Defense Mechanism Against Marketing\",\"5 Reasons Why Meetings Are Killing Your Company\",\"Why Startups Fail to Generate Revenue Quickly \\u2014 And What to Do Instead\",\"Video Marketing for Beginners\",\"Why\\u002fHow Should You Treat Your Open-Source Project As a Business\",\"Shoe Dog: A Memoir by the Creator of NIKE \\u2014 a review\",\"Prioritizing Customer Results With A Live Course: What Works For Yes and Yes\\u2019s Sarah Von Bargen\",\"Is it Expected to Work Overtime in a Startup?\",\"What to expect for the rest of 2020, or how will outsourcing save your business?\",\"How To Know You Have a Successful Product Before You Build It\",\"5 Books to Read to Be a Better Entrepreneur\",\"Meeting Jerry Lieber\",\"My Founding of Taski, at 19, and Its Growth Into a Six-Figure Business\",\"How Tolstoy Prepared Me For Running a Startup\",\"Everyone Deserves a Piece of the Profit\",\"How Amazon Innovates\",\"What I learned from Damon Dash\",\"6 Marketing \\u2018Post-COVID\\u2019 trends in 2021.\",\"Head-on collisions: Lessons from the storage industry\",\"The History Of Your QWERTY Keyboard\",\"The Ultimate Shortcut to Entrepreneurial Success\",\"How To Launch Your Brand Like a Successful Instagram Influencer\",\"Ikigai For Entrepreneurs\",\"What Works for Spaceship Builder & Herbalist Lisa Akers: How She Melds Disparate Passions And Manages Her Workload\",\"How O2 Conditioned Its Customers With Emotions\",\"Plotly and NVIDIA Partner to Integrate Dash and RAPIDS\",\"The evolution of consumer behavior in the digital age\",\"How To Properly Vet Vendors for a Two-Sided Marketplace Startup\",\"How To Do Less and Still Grow Your Business\",\"How Much Does It Cost To Make An Mobile App Like UberEats and Deliveroo\",\"I Strived to Be an Instagram Influencer, Now I Write\",\"5 Things You\\u2019ll Never Hear From a Successful Entrepreneur\",\"The Four Words That Made Her a Billionaire\",\"Self-employed vs. Employed: Pros & Cons\",\"Joining a Professional Association as a Freelancer\",\"Why Flutter is the Future Trend in Mobile App Development?\",\"Everything You Know About Productivity is a Lie\",\"Machine Learning Classification Models\",\"Top A\\u002fB Mobile Testing Services and Tools to Adopt in 2020\\u201321\",\"This 20 Year Old Made 1 Million in 8 Minutes. How Can You Replicate That?\",\"How to Raise Your First Fund With Right Side Capital Management\\u2019s Dave Lambert\",\"A Template for Writing Blog Posts That Earn Passive Income\",\"Artificial Intelligence (AI), Data Science, and Analytics\",\"First Rule of Entrepreneurship: Always Have Multiple Revenue Streams\",\"Why Domino\\u2019s Pizza Was Ready to Give Free Pizza for 100 Years\",\"How to Make Your First $10,000 as a Freelance Writer\",\"How I Make an Extra $1,344 Passive Income a Month Online \\u2014Even Though I Started Out Clueless\",\"RFPs done right\",\"5 Email Marketing Metrics Every Ecommerce Business Should Track\",\"Why Do Most Prices End in 99?\",\"How a Good Night\\u2019s Sleep Boosts Productivity\",\"Here\\u2019s All You Need To Know About How to Market to Your Audience\",\"New beta features of AutoAI in IBM Watson Studio automates feature engineering on multiple datasets\",\"Why I Rebranded my Company 4 months After Launching It\",\"5 Powerful Lessons I Learned Teaching A Blogging Workshop For a Year\",\"The Best Platforms to Build Your Personal Brand\",\"The Biggest Hurdle for Young Entrepreneurs\",\"\\u2018You\\u2019ve Done The Impossible!\\u2019 Declares Bitcoin.com Host to Richard Heart, Founder of HEX\",\"3 Meaningful Ways to Begin Your Business While Working a Full-Time Job\",\"Why Startups Need To Follow the Hard Product Path\",\"How To Be A Successful Business Owner?\",\"How I Launched a Successful Gig Business with Only Gig Workers\",\"A Layman\\u2019s Guide to Data Science: How to Become a (Good) Data Scientist\"],\"legendgroup\":\"color\",\"marker\":{\"color\":[\"#19D3F3\",\"#19D3F3\",\"#19D3F3\",\"#19D3F3\",\"#19D3F3\",\"#19D3F3\",\"#19D3F3\",\"#19D3F3\",\"#19D3F3\",\"#19D3F3\",\"#19D3F3\",\"#19D3F3\",\"#19D3F3\",\"#19D3F3\",\"#19D3F3\",\"#19D3F3\",\"#19D3F3\",\"#19D3F3\",\"#19D3F3\",\"#19D3F3\",\"#19D3F3\",\"#19D3F3\",\"#19D3F3\",\"#19D3F3\",\"#19D3F3\",\"#19D3F3\",\"#19D3F3\",\"#19D3F3\",\"#19D3F3\",\"#19D3F3\",\"#19D3F3\",\"#19D3F3\",\"#19D3F3\",\"#19D3F3\",\"#19D3F3\",\"#19D3F3\",\"#19D3F3\",\"#19D3F3\",\"#19D3F3\",\"#19D3F3\",\"#19D3F3\",\"#19D3F3\",\"#19D3F3\",\"#19D3F3\",\"#19D3F3\",\"#19D3F3\",\"#19D3F3\",\"#19D3F3\",\"#19D3F3\",\"#19D3F3\",\"#19D3F3\",\"#19D3F3\",\"#19D3F3\",\"#19D3F3\",\"#19D3F3\",\"#19D3F3\",\"#19D3F3\",\"#19D3F3\",\"#19D3F3\",\"#19D3F3\",\"#19D3F3\",\"#19D3F3\",\"#19D3F3\",\"#19D3F3\",\"#19D3F3\",\"#19D3F3\",\"#19D3F3\",\"#19D3F3\",\"#19D3F3\",\"#19D3F3\",\"#19D3F3\",\"#19D3F3\",\"#19D3F3\",\"#19D3F3\",\"#19D3F3\",\"#19D3F3\",\"#19D3F3\",\"#19D3F3\",\"#19D3F3\",\"#19D3F3\",\"#19D3F3\",\"#19D3F3\",\"#19D3F3\",\"#19D3F3\",\"#19D3F3\",\"#19D3F3\",\"#19D3F3\",\"#19D3F3\",\"#19D3F3\",\"#19D3F3\",\"#19D3F3\",\"#19D3F3\",\"#19D3F3\",\"#19D3F3\",\"#19D3F3\",\"#19D3F3\",\"#19D3F3\",\"#19D3F3\",\"#19D3F3\",\"#19D3F3\",\"#19D3F3\",\"#19D3F3\",\"#19D3F3\",\"#19D3F3\",\"#19D3F3\",\"#19D3F3\",\"#19D3F3\",\"#19D3F3\",\"#19D3F3\",\"#19D3F3\",\"#19D3F3\",\"#19D3F3\",\"#19D3F3\",\"#19D3F3\",\"#19D3F3\",\"#19D3F3\",\"#19D3F3\",\"#19D3F3\",\"#19D3F3\",\"#19D3F3\",\"#19D3F3\",\"#19D3F3\",\"#19D3F3\",\"#19D3F3\",\"#19D3F3\",\"#19D3F3\",\"#19D3F3\",\"#19D3F3\",\"#19D3F3\",\"#19D3F3\",\"#19D3F3\",\"#19D3F3\",\"#19D3F3\",\"#19D3F3\",\"#19D3F3\",\"#19D3F3\",\"#19D3F3\",\"#19D3F3\",\"#19D3F3\",\"#19D3F3\",\"#19D3F3\",\"#19D3F3\",\"#19D3F3\",\"#19D3F3\",\"#19D3F3\",\"#19D3F3\",\"#19D3F3\",\"#19D3F3\",\"#19D3F3\",\"#19D3F3\",\"#19D3F3\",\"#19D3F3\",\"#19D3F3\",\"#19D3F3\",\"#19D3F3\",\"#19D3F3\",\"#19D3F3\",\"#19D3F3\",\"#19D3F3\",\"#19D3F3\",\"#19D3F3\",\"#19D3F3\",\"#19D3F3\",\"#19D3F3\",\"#19D3F3\",\"#19D3F3\",\"#19D3F3\",\"#19D3F3\",\"#19D3F3\",\"#19D3F3\",\"#19D3F3\",\"#19D3F3\",\"#19D3F3\",\"#19D3F3\",\"#19D3F3\",\"#19D3F3\",\"#19D3F3\",\"#19D3F3\",\"#19D3F3\",\"#19D3F3\",\"#19D3F3\",\"#19D3F3\",\"#19D3F3\",\"#19D3F3\",\"#19D3F3\",\"#19D3F3\",\"#19D3F3\",\"#19D3F3\",\"#19D3F3\",\"#19D3F3\",\"#19D3F3\",\"#19D3F3\",\"#19D3F3\",\"#19D3F3\",\"#19D3F3\",\"#19D3F3\",\"#19D3F3\",\"#19D3F3\",\"#19D3F3\",\"#19D3F3\",\"#EF553B\",\"#EF553B\",\"#EF553B\",\"#EF553B\",\"#EF553B\",\"#EF553B\",\"#EF553B\",\"#EF553B\",\"#EF553B\",\"#EF553B\",\"#EF553B\",\"#EF553B\",\"#EF553B\",\"#EF553B\",\"#EF553B\",\"#EF553B\",\"#EF553B\",\"#EF553B\",\"#EF553B\",\"#EF553B\",\"#EF553B\",\"#EF553B\",\"#EF553B\",\"#EF553B\",\"#EF553B\",\"#EF553B\",\"#EF553B\",\"#EF553B\",\"#EF553B\",\"#EF553B\",\"#EF553B\",\"#EF553B\",\"#EF553B\",\"#EF553B\",\"#EF553B\",\"#EF553B\",\"#EF553B\",\"#EF553B\",\"#EF553B\",\"#EF553B\",\"#EF553B\",\"#EF553B\",\"#EF553B\",\"#EF553B\",\"#EF553B\",\"#EF553B\",\"#EF553B\",\"#EF553B\",\"#EF553B\",\"#EF553B\",\"#EF553B\",\"#EF553B\",\"#EF553B\",\"#EF553B\",\"#EF553B\",\"#EF553B\",\"#EF553B\",\"#EF553B\",\"#EF553B\",\"#EF553B\",\"#EF553B\",\"#EF553B\",\"#EF553B\",\"#EF553B\",\"#EF553B\",\"#EF553B\",\"#EF553B\",\"#EF553B\",\"#EF553B\",\"#EF553B\",\"#EF553B\",\"#EF553B\",\"#EF553B\",\"#EF553B\",\"#EF553B\",\"#EF553B\",\"#EF553B\",\"#EF553B\",\"#EF553B\",\"#EF553B\",\"#EF553B\",\"#EF553B\",\"#EF553B\",\"#EF553B\",\"#EF553B\",\"#EF553B\",\"#EF553B\",\"#EF553B\",\"#EF553B\",\"#EF553B\",\"#EF553B\",\"#EF553B\",\"#EF553B\",\"#EF553B\",\"#EF553B\",\"#EF553B\",\"#EF553B\",\"#EF553B\",\"#EF553B\",\"#EF553B\",\"#EF553B\",\"#EF553B\",\"#EF553B\",\"#EF553B\",\"#EF553B\",\"#EF553B\",\"#EF553B\",\"#EF553B\",\"#EF553B\",\"#EF553B\",\"#EF553B\",\"#EF553B\",\"#EF553B\",\"#EF553B\",\"#EF553B\",\"#EF553B\",\"#EF553B\",\"#EF553B\",\"#EF553B\",\"#EF553B\",\"#EF553B\",\"#EF553B\",\"#EF553B\",\"#EF553B\",\"#EF553B\",\"#EF553B\",\"#EF553B\",\"#EF553B\",\"#EF553B\",\"#EF553B\",\"#EF553B\",\"#EF553B\",\"#EF553B\",\"#EF553B\",\"#EF553B\",\"#EF553B\",\"#EF553B\",\"#EF553B\",\"#EF553B\",\"#EF553B\",\"#EF553B\",\"#EF553B\",\"#EF553B\",\"#EF553B\",\"#EF553B\",\"#EF553B\",\"#EF553B\",\"#EF553B\",\"#EF553B\",\"#EF553B\",\"#EF553B\",\"#EF553B\",\"#EF553B\",\"#EF553B\",\"#EF553B\",\"#EF553B\",\"#EF553B\",\"#EF553B\",\"#EF553B\",\"#EF553B\",\"#EF553B\",\"#EF553B\",\"#EF553B\",\"#EF553B\",\"#EF553B\",\"#EF553B\",\"#EF553B\",\"#EF553B\",\"#EF553B\",\"#EF553B\",\"#EF553B\",\"#EF553B\",\"#EF553B\",\"#EF553B\",\"#EF553B\",\"#EF553B\",\"#EF553B\",\"#EF553B\",\"#EF553B\",\"#EF553B\",\"#EF553B\",\"#EF553B\",\"#EF553B\",\"#EF553B\",\"#EF553B\",\"#EF553B\",\"#EF553B\",\"#EF553B\",\"#EF553B\",\"#EF553B\",\"#EF553B\",\"#EF553B\",\"#EF553B\",\"#EF553B\",\"#EF553B\",\"#EF553B\",\"#EF553B\",\"#EF553B\",\"#EF553B\",\"#EF553B\"],\"symbol\":\"circle\"},\"mode\":\"markers\",\"name\":\"color\",\"orientation\":\"v\",\"showlegend\":true,\"x\":[40.482688903808594,39.288055419921875,55.148681640625,31.519981384277344,8.129388809204102,60.700584411621094,18.64121437072754,37.98723220825195,40.126014709472656,-0.33480599522590637,21.075464248657227,55.37965774536133,73.99774932861328,61.58388137817383,10.184697151184082,4.912699222564697,50.57394027709961,-2.332820177078247,-0.4233590364456177,1.1368969678878784,73.83975982666016,39.44105529785156,38.884395599365234,17.306501388549805,72.85176086425781,53.13147735595703,68.6059799194336,10.941740036010742,37.5272216796875,27.778823852539062,-2.9363901615142822,2.9002106189727783,37.8788948059082,69.7612533569336,55.3400764465332,57.82084655761719,15.987706184387207,52.670143127441406,14.918209075927734,26.863750457763672,-1.7976539134979248,2.532827138900757,-19.0085391998291,26.088520050048828,-49.94993209838867,9.234041213989258,44.958038330078125,59.53876876831055,9.081968307495117,6.476773738861084,44.59020233154297,54.59264373779297,27.301204681396484,38.48215103149414,39.596561431884766,71.9384994506836,68.31502532958984,61.63669967651367,38.31053924560547,27.78394317626953,-12.94377613067627,-28.16071319580078,34.79647445678711,13.200385093688965,73.19147491455078,-3.6760799884796143,6.833951950073242,56.758140563964844,-14.722572326660156,-3.146819591522217,6.582257270812988,1.5670899152755737,-3.468806266784668,-36.82392501831055,51.67933654785156,21.144243240356445,42.185874938964844,56.32295608520508,32.40334701538086,-4.128169059753418,32.62537384033203,52.7253532409668,31.14634895324707,-1.9344830513000488,47.764305114746094,37.227134704589844,31.255319595336914,58.44940185546875,9.846522331237793,41.297706604003906,5.555051803588867,57.45222473144531,12.248662948608398,54.52668762207031,11.838288307189941,72.73440551757812,39.58661651611328,28.7060546875,5.910155296325684,-3.28139066696167,20.37241554260254,76.173583984375,52.95094299316406,28.616107940673828,53.89567565917969,57.38762283325195,11.413529396057129,54.01467514038086,2.0666987895965576,45.18185806274414,17.155925750732422,38.911590576171875,1.7837938070297241,54.99037551879883,18.71035385131836,55.88291931152344,63.1739387512207,12.584742546081543,1.1227132081985474,-20.249378204345703,52.41160202026367,57.496761322021484,59.8712158203125,38.24211120605469,6.4792704582214355,74.7747573852539,16.58514976501465,19.890090942382812,31.93335723876953,36.70624542236328,53.28655242919922,32.07208251953125,23.917577743530273,44.656883239746094,57.441795349121094,4.1971564292907715,37.61984634399414,7.4190592765808105,38.418190002441406,36.573211669921875,35.94184112548828,38.62187194824219,14.407011985778809,37.41291427612305,40.879417419433594,57.47246170043945,75.6548080444336,-4.405411243438721,55.81954574584961,72.54113006591797,49.94844055175781,26.242298126220703,46.52162551879883,16.33559226989746,28.02055549621582,15.216849327087402,15.684508323669434,70.63880920410156,69.4960708618164,-37.860145568847656,14.527867317199707,9.14590835571289,31.702547073364258,53.749820709228516,18.29711151123047,44.533626556396484,60.98894500732422,59.05339431762695,-2.1762378215789795,36.56962203979492,10.042386054992676,3.5203096866607666,9.871145248413086,22.305368423461914,16.902761459350586,8.232051849365234,7.671723365783691,45.14188766479492,75.89278411865234,15.644489288330078,50.72138214111328,52.02940368652344,15.719343185424805,-27.92969512939453,37.96734619140625,63.11283874511719,10.366385459899902,43.663330078125,26.172510147094727,15.047319412231445,30.26957893371582,-49.3519287109375,30.248287200927734,42.316749572753906,70.19388580322266,71.2988510131836,26.594697952270508,6.0447845458984375,51.857643127441406,18.07026481628418,-17.9293155670166,-37.280982971191406,-24.592365264892578,-25.35976791381836,-23.840160369873047,-52.77406311035156,-45.5897102355957,-30.47296905517578,-43.578346252441406,-21.634084701538086,-49.89158248901367,-54.09523391723633,-38.62939453125,-19.944927215576172,-15.958356857299805,-42.12985610961914,21.609766006469727,-42.96706771850586,-51.66344451904297,-42.431373596191406,72.7641830444336,-31.83201789855957,-19.537939071655273,-48.03105926513672,-39.81949234008789,-42.315330505371094,-52.99798583984375,-33.24596405029297,-5.1922454833984375,-20.894367218017578,-43.552467346191406,-37.10634231567383,-48.332763671875,-58.29463577270508,-36.261436462402344,-41.66466522216797,-13.18710994720459,-59.86128616333008,-34.0699462890625,-20.160400390625,-40.44610595703125,-10.518752098083496,-45.4945182800293,8.527478218078613,-44.731407165527344,-39.10008239746094,-30.44541358947754,-16.0775089263916,15.20263385772705,-22.597986221313477,-56.73967361450195,-41.81302261352539,-54.44678497314453,-30.069021224975586,-48.916507720947266,-44.169063568115234,-47.23971939086914,-49.14493942260742,-32.389522552490234,-42.714569091796875,51.411800384521484,-14.890352249145508,-19.936996459960938,-10.189990997314453,-46.95454025268555,-34.04646301269531,-13.95909309387207,-40.63364028930664,16.526601791381836,-1.3359280824661255,-41.99766159057617,17.96315574645996,-20.892244338989258,-22.55506706237793,-33.823089599609375,-34.704559326171875,-39.83427047729492,-35.130184173583984,-27.447967529296875,-32.032249450683594,-21.877920150756836,-5.106749057769775,-28.892826080322266,-47.13625717163086,-23.458972930908203,-32.80701446533203,4.860778331756592,-55.83637237548828,-45.613067626953125,-53.258060455322266,-54.51296615600586,-14.714790344238281,-43.22373580932617,-53.90821838378906,-37.60821533203125,-18.00275993347168,-48.743526458740234,15.49353313446045,-55.31929016113281,-22.693073272705078,-39.82386779785156,-29.335567474365234,-17.251220703125,-43.06840896606445,-53.68016815185547,-15.388656616210938,-36.89232635498047,-38.333534240722656,-45.9989128112793,72.8741683959961,-22.553661346435547,-44.77587890625,-34.16552734375,-49.7563362121582,-49.55653762817383,-36.82392501831055,-2.050605058670044,16.098867416381836,-11.821895599365234,-33.16292953491211,16.175519943237305,-59.56793975830078,-22.424150466918945,58.633636474609375,-5.107669830322266,-46.113773345947266,-36.614234924316406,-54.20760726928711,-50.44624710083008,-43.014610290527344,-49.499454498291016,-42.67481994628906,-37.205257415771484,-13.35531234741211,-57.0341796875,-53.47919845581055,-56.42142105102539,-21.108501434326172,-60.31002426147461,-49.825313568115234,-20.88681983947754,-28.237863540649414,-42.87007522583008,-22.909223556518555,-43.25691604614258,-42.798553466796875,-49.163333892822266,-43.5937614440918,-16.13147735595703,-40.811424255371094,-44.86663055419922,-50.42467498779297,-34.620582580566406,-15.68729019165039,-10.39359188079834,-19.164026260375977,-2.8422060012817383,-44.90962600708008,-29.600360870361328,-53.16989517211914,-21.26521873474121,-17.685888290405273,54.191917419433594,-20.640056610107422,-20.081937789916992,-43.60634231567383,2.4601035118103027,-29.137800216674805,-51.71488571166992,-44.686126708984375,-37.64297866821289,-53.10800552368164,3.5956368446350098,-31.634572982788086,17.368139266967773,3.4495184421539307,-32.5255012512207,-52.83232116699219,-18.319961547851562,7.003493309020996,-48.7237663269043,-27.37832260131836,-53.869937896728516,-17.20075225830078,-54.53506851196289,-12.044964790344238,-17.36387825012207,-36.935001373291016,-45.242435455322266,37.41291427612305,-44.21914291381836,-45.97714614868164,-21.337203979492188,-54.238983154296875,-34.72364044189453,-40.87883377075195,-29.14771842956543,-55.668663024902344,-39.96487808227539,9.640691757202148],\"xaxis\":\"x\",\"y\":[-39.90531921386719,1.4713330268859863,13.244123458862305,-22.18963050842285,-9.6444730758667,-13.427730560302734,-1.1258796453475952,8.158690452575684,-27.606109619140625,-4.424928188323975,22.953536987304688,-39.06639862060547,-5.096567630767822,-17.013540267944336,4.240076065063477,18.391380310058594,-15.323907852172852,-3.556358814239502,-8.808035850524902,18.396215438842773,-1.4211010932922363,-26.229440689086914,0.08858267217874527,-22.71472930908203,5.524372577667236,-7.43110466003418,1.8926701545715332,-0.19272401928901672,-10.331951141357422,-2.085082769393921,-6.686169624328613,2.9538440704345703,5.417189598083496,-1.8967093229293823,-8.099509239196777,0.473921537399292,-25.334436416625977,-41.500850677490234,23.87495231628418,24.62748146057129,-21.532915115356445,15.633877754211426,-0.9203172922134399,3.9995005130767822,12.604168891906738,-37.19804763793945,-4.140969276428223,-12.698563575744629,-9.148094177246094,28.367984771728516,-30.63397979736328,-14.262680053710938,25.84239387512207,-37.34084701538086,-39.042076110839844,-6.524467468261719,-12.296039581298828,-16.134658813476562,-12.802685737609863,-4.931527614593506,-3.853516101837158,14.270782470703125,2.7893128395080566,-23.30013656616211,-4.472960472106934,-27.073347091674805,-2.2864742279052734,-9.43370246887207,8.306346893310547,-19.239700317382812,-20.72211265563965,-3.8717734813690186,-26.42853355407715,-27.302562713623047,-15.841022491455078,21.745569229125977,-27.526830673217773,8.904611587524414,-41.03225326538086,-6.995993137359619,-20.694721221923828,11.597240447998047,1.2965377569198608,-22.38511848449707,-5.1677446365356445,-35.686275482177734,7.3427934646606445,1.568450689315796,-16.483877182006836,-28.16729736328125,-20.80352783203125,9.46165657043457,-23.24827003479004,-37.905330657958984,-17.69584083557129,3.9401800632476807,-32.487525939941406,-5.592885494232178,-1.6666908264160156,-2.538299798965454,-0.46804389357566833,0.7045639157295227,-3.5129947662353516,0.8850622177124023,-4.535772323608398,-8.274389266967773,-16.253618240356445,-38.50981140136719,19.82102394104004,-30.764339447021484,18.519067764282227,-32.63151168823242,17.016965866088867,9.833227157592773,-33.61435317993164,-9.783620834350586,-15.908175468444824,0.014713520184159279,19.848241806030273,-20.86009407043457,-40.609561920166016,-10.689918518066406,2.8745944499969482,-30.076574325561523,-10.005857467651367,-6.499456882476807,17.045228958129883,22.055845260620117,-40.69783020019531,-8.976086616516113,-6.278880596160889,-21.827037811279297,0.48874345421791077,-21.950347900390625,-14.963295936584473,17.99738121032715,3.8694586753845215,-17.468534469604492,-34.85478973388672,9.420310974121094,9.143414497375488,-39.213748931884766,-20.62839698791504,19.736465454101562,-41.01165008544922,11.034608840942383,-4.430790901184082,-17.426223754882812,-4.607771396636963,-0.6584067344665527,-18.99048614501953,1.9852617979049683,3.805814266204834,-23.910133361816406,-6.303731441497803,-31.632349014282227,-27.47284698486328,0.9749650359153748,-12.182039260864258,30.997819900512695,-34.96315002441406,-15.171738624572754,6.889054298400879,-14.231411933898926,20.324787139892578,4.750724792480469,-18.522180557250977,-20.279571533203125,-0.7060285806655884,3.6724469661712646,-1.7697525024414062,2.4042437076568604,-11.193833351135254,20.0227108001709,-1.129525065422058,-37.594215393066406,-20.71144676208496,4.450597286224365,0.015363454818725586,23.18222999572754,-17.435029983520508,-39.436824798583984,-33.93136978149414,1.6771981716156006,-11.725552558898926,-18.876415252685547,3.1740493774414062,-3.1911191940307617,0.5064761638641357,-5.863956451416016,-5.562830924987793,-21.391427993774414,1.2328550815582275,-1.7855135202407837,-12.60793399810791,0.2822100818157196,23.98016929626465,28.93979835510254,-1.7615536451339722,-23.678037643432617,33.7196044921875,33.40476989746094,13.42750358581543,14.411031723022461,12.33724308013916,35.49634552001953,47.22471237182617,25.119285583496094,42.267547607421875,-8.334577560424805,-3.3416385650634766,1.8680142164230347,32.42167663574219,23.310428619384766,10.147838592529297,41.099876403808594,-0.0932532325387001,43.34171676635742,-11.892541885375977,-3.5083959102630615,9.105621337890625,21.00840950012207,-7.686971664428711,9.719139099121094,-8.706839561462402,0.7674432396888733,-4.8736371994018555,46.050662994384766,-7.2039384841918945,0.9506902694702148,-18.732900619506836,28.764501571655273,-0.736133873462677,2.9915266036987305,44.70197296142578,44.214115142822266,22.80519676208496,39.033145904541016,41.28731155395508,33.710811614990234,29.581323623657227,27.157615661621094,47.866214752197266,-4.52650260925293,22.18474006652832,9.508626937866211,19.479026794433594,11.035760879516602,-9.50327205657959,-7.2692413330078125,-0.5305534601211548,28.9075927734375,-10.898859977722168,0.4706927537918091,-8.676594734191895,41.049591064453125,47.982154846191406,10.91140079498291,46.673309326171875,45.184391021728516,-1.0298904180526733,38.061119079589844,-0.8235673904418945,26.277711868286133,22.351404190063477,15.087348937988281,20.275102615356445,1.2413963079452515,-10.608918190002441,-6.473566055297852,-10.159944534301758,-7.7992262840271,5.544017791748047,-21.22068214416504,-0.5232791900634766,44.96968460083008,44.47501754760742,9.346141815185547,25.85429573059082,26.458274841308594,-19.460201263427734,-1.9196257591247559,13.859465599060059,5.845060348510742,25.59486961364746,-0.4077993631362915,30.818567276000977,-14.518598556518555,-4.50408935546875,36.001800537109375,-10.049830436706543,-3.9570980072021484,-10.440611839294434,27.566816329956055,45.77137756347656,-7.313633441925049,-2.6195497512817383,-7.690016269683838,-13.053598403930664,33.011905670166016,32.9122314453125,20.600439071655273,8.491727828979492,1.2738304138183594,25.110063552856445,-4.236470699310303,-11.742067337036133,-13.790976524353027,38.03643035888672,6.94156551361084,-8.351140975952148,3.897019147872925,13.399285316467285,0.7681893706321716,-11.642858505249023,-27.302562713623047,19.536537170410156,-32.05670166015625,21.794761657714844,41.12839126586914,-9.319602966308594,3.766080856323242,25.30323600769043,9.166650772094727,-16.855600357055664,19.750879287719727,28.215713500976562,28.784711837768555,-14.598343849182129,28.45585823059082,-16.222379684448242,7.981578350067139,11.075530052185059,18.821020126342773,-3.5937588214874268,-19.07206916809082,2.059447765350342,33.547176361083984,38.75593566894531,-13.701346397399902,-17.918458938598633,-2.98087215423584,11.404144287109375,-19.55257225036621,-17.755733489990234,-20.58333396911621,-6.678628444671631,9.878216743469238,39.9960823059082,-16.65435791015625,10.042011260986328,-19.564931869506836,8.436952590942383,38.52706527709961,22.804414749145508,8.009986877441406,-24.5261287689209,-5.395384788513184,22.349897384643555,-2.370738983154297,-2.3482487201690674,34.63819885253906,11.272209167480469,10.10228443145752,7.869510173797607,2.4740378856658936,35.41691207885742,23.729578018188477,-2.8982114791870117,15.878471374511719,-9.116782188415527,23.419179916381836,35.76829528808594,40.54032516479492,-32.965702056884766,34.79909896850586,11.328131675720215,-19.437211990356445,21.86672019958496,-17.12547492980957,-14.118491172790527,23.23941421508789,25.901220321655273,21.21724510192871,31.15740966796875,18.522130966186523,11.947672843933105,-10.812908172607422,39.359962463378906,19.736465454101562,-2.7970540523529053,21.590301513671875,24.6809139251709,-3.017115592956543,11.022212982177734,-9.919047355651855,0.7307019829750061,1.2755166292190552,-13.823312759399414,-1.3588224649429321],\"yaxis\":\"y\",\"type\":\"scatter\"}],                        {\"template\":{\"data\":{\"barpolar\":[{\"marker\":{\"line\":{\"color\":\"rgb(17,17,17)\",\"width\":0.5},\"pattern\":{\"fillmode\":\"overlay\",\"size\":10,\"solidity\":0.2}},\"type\":\"barpolar\"}],\"bar\":[{\"error_x\":{\"color\":\"#f2f5fa\"},\"error_y\":{\"color\":\"#f2f5fa\"},\"marker\":{\"line\":{\"color\":\"rgb(17,17,17)\",\"width\":0.5},\"pattern\":{\"fillmode\":\"overlay\",\"size\":10,\"solidity\":0.2}},\"type\":\"bar\"}],\"carpet\":[{\"aaxis\":{\"endlinecolor\":\"#A2B1C6\",\"gridcolor\":\"#506784\",\"linecolor\":\"#506784\",\"minorgridcolor\":\"#506784\",\"startlinecolor\":\"#A2B1C6\"},\"baxis\":{\"endlinecolor\":\"#A2B1C6\",\"gridcolor\":\"#506784\",\"linecolor\":\"#506784\",\"minorgridcolor\":\"#506784\",\"startlinecolor\":\"#A2B1C6\"},\"type\":\"carpet\"}],\"choropleth\":[{\"colorbar\":{\"outlinewidth\":0,\"ticks\":\"\"},\"type\":\"choropleth\"}],\"contourcarpet\":[{\"colorbar\":{\"outlinewidth\":0,\"ticks\":\"\"},\"type\":\"contourcarpet\"}],\"contour\":[{\"colorbar\":{\"outlinewidth\":0,\"ticks\":\"\"},\"colorscale\":[[0.0,\"#0d0887\"],[0.1111111111111111,\"#46039f\"],[0.2222222222222222,\"#7201a8\"],[0.3333333333333333,\"#9c179e\"],[0.4444444444444444,\"#bd3786\"],[0.5555555555555556,\"#d8576b\"],[0.6666666666666666,\"#ed7953\"],[0.7777777777777778,\"#fb9f3a\"],[0.8888888888888888,\"#fdca26\"],[1.0,\"#f0f921\"]],\"type\":\"contour\"}],\"heatmapgl\":[{\"colorbar\":{\"outlinewidth\":0,\"ticks\":\"\"},\"colorscale\":[[0.0,\"#0d0887\"],[0.1111111111111111,\"#46039f\"],[0.2222222222222222,\"#7201a8\"],[0.3333333333333333,\"#9c179e\"],[0.4444444444444444,\"#bd3786\"],[0.5555555555555556,\"#d8576b\"],[0.6666666666666666,\"#ed7953\"],[0.7777777777777778,\"#fb9f3a\"],[0.8888888888888888,\"#fdca26\"],[1.0,\"#f0f921\"]],\"type\":\"heatmapgl\"}],\"heatmap\":[{\"colorbar\":{\"outlinewidth\":0,\"ticks\":\"\"},\"colorscale\":[[0.0,\"#0d0887\"],[0.1111111111111111,\"#46039f\"],[0.2222222222222222,\"#7201a8\"],[0.3333333333333333,\"#9c179e\"],[0.4444444444444444,\"#bd3786\"],[0.5555555555555556,\"#d8576b\"],[0.6666666666666666,\"#ed7953\"],[0.7777777777777778,\"#fb9f3a\"],[0.8888888888888888,\"#fdca26\"],[1.0,\"#f0f921\"]],\"type\":\"heatmap\"}],\"histogram2dcontour\":[{\"colorbar\":{\"outlinewidth\":0,\"ticks\":\"\"},\"colorscale\":[[0.0,\"#0d0887\"],[0.1111111111111111,\"#46039f\"],[0.2222222222222222,\"#7201a8\"],[0.3333333333333333,\"#9c179e\"],[0.4444444444444444,\"#bd3786\"],[0.5555555555555556,\"#d8576b\"],[0.6666666666666666,\"#ed7953\"],[0.7777777777777778,\"#fb9f3a\"],[0.8888888888888888,\"#fdca26\"],[1.0,\"#f0f921\"]],\"type\":\"histogram2dcontour\"}],\"histogram2d\":[{\"colorbar\":{\"outlinewidth\":0,\"ticks\":\"\"},\"colorscale\":[[0.0,\"#0d0887\"],[0.1111111111111111,\"#46039f\"],[0.2222222222222222,\"#7201a8\"],[0.3333333333333333,\"#9c179e\"],[0.4444444444444444,\"#bd3786\"],[0.5555555555555556,\"#d8576b\"],[0.6666666666666666,\"#ed7953\"],[0.7777777777777778,\"#fb9f3a\"],[0.8888888888888888,\"#fdca26\"],[1.0,\"#f0f921\"]],\"type\":\"histogram2d\"}],\"histogram\":[{\"marker\":{\"pattern\":{\"fillmode\":\"overlay\",\"size\":10,\"solidity\":0.2}},\"type\":\"histogram\"}],\"mesh3d\":[{\"colorbar\":{\"outlinewidth\":0,\"ticks\":\"\"},\"type\":\"mesh3d\"}],\"parcoords\":[{\"line\":{\"colorbar\":{\"outlinewidth\":0,\"ticks\":\"\"}},\"type\":\"parcoords\"}],\"pie\":[{\"automargin\":true,\"type\":\"pie\"}],\"scatter3d\":[{\"line\":{\"colorbar\":{\"outlinewidth\":0,\"ticks\":\"\"}},\"marker\":{\"colorbar\":{\"outlinewidth\":0,\"ticks\":\"\"}},\"type\":\"scatter3d\"}],\"scattercarpet\":[{\"marker\":{\"colorbar\":{\"outlinewidth\":0,\"ticks\":\"\"}},\"type\":\"scattercarpet\"}],\"scattergeo\":[{\"marker\":{\"colorbar\":{\"outlinewidth\":0,\"ticks\":\"\"}},\"type\":\"scattergeo\"}],\"scattergl\":[{\"marker\":{\"line\":{\"color\":\"#283442\"}},\"type\":\"scattergl\"}],\"scattermapbox\":[{\"marker\":{\"colorbar\":{\"outlinewidth\":0,\"ticks\":\"\"}},\"type\":\"scattermapbox\"}],\"scatterpolargl\":[{\"marker\":{\"colorbar\":{\"outlinewidth\":0,\"ticks\":\"\"}},\"type\":\"scatterpolargl\"}],\"scatterpolar\":[{\"marker\":{\"colorbar\":{\"outlinewidth\":0,\"ticks\":\"\"}},\"type\":\"scatterpolar\"}],\"scatter\":[{\"marker\":{\"line\":{\"color\":\"#283442\"}},\"type\":\"scatter\"}],\"scatterternary\":[{\"marker\":{\"colorbar\":{\"outlinewidth\":0,\"ticks\":\"\"}},\"type\":\"scatterternary\"}],\"surface\":[{\"colorbar\":{\"outlinewidth\":0,\"ticks\":\"\"},\"colorscale\":[[0.0,\"#0d0887\"],[0.1111111111111111,\"#46039f\"],[0.2222222222222222,\"#7201a8\"],[0.3333333333333333,\"#9c179e\"],[0.4444444444444444,\"#bd3786\"],[0.5555555555555556,\"#d8576b\"],[0.6666666666666666,\"#ed7953\"],[0.7777777777777778,\"#fb9f3a\"],[0.8888888888888888,\"#fdca26\"],[1.0,\"#f0f921\"]],\"type\":\"surface\"}],\"table\":[{\"cells\":{\"fill\":{\"color\":\"#506784\"},\"line\":{\"color\":\"rgb(17,17,17)\"}},\"header\":{\"fill\":{\"color\":\"#2a3f5f\"},\"line\":{\"color\":\"rgb(17,17,17)\"}},\"type\":\"table\"}]},\"layout\":{\"annotationdefaults\":{\"arrowcolor\":\"#f2f5fa\",\"arrowhead\":0,\"arrowwidth\":1},\"autotypenumbers\":\"strict\",\"coloraxis\":{\"colorbar\":{\"outlinewidth\":0,\"ticks\":\"\"}},\"colorscale\":{\"diverging\":[[0,\"#8e0152\"],[0.1,\"#c51b7d\"],[0.2,\"#de77ae\"],[0.3,\"#f1b6da\"],[0.4,\"#fde0ef\"],[0.5,\"#f7f7f7\"],[0.6,\"#e6f5d0\"],[0.7,\"#b8e186\"],[0.8,\"#7fbc41\"],[0.9,\"#4d9221\"],[1,\"#276419\"]],\"sequential\":[[0.0,\"#0d0887\"],[0.1111111111111111,\"#46039f\"],[0.2222222222222222,\"#7201a8\"],[0.3333333333333333,\"#9c179e\"],[0.4444444444444444,\"#bd3786\"],[0.5555555555555556,\"#d8576b\"],[0.6666666666666666,\"#ed7953\"],[0.7777777777777778,\"#fb9f3a\"],[0.8888888888888888,\"#fdca26\"],[1.0,\"#f0f921\"]],\"sequentialminus\":[[0.0,\"#0d0887\"],[0.1111111111111111,\"#46039f\"],[0.2222222222222222,\"#7201a8\"],[0.3333333333333333,\"#9c179e\"],[0.4444444444444444,\"#bd3786\"],[0.5555555555555556,\"#d8576b\"],[0.6666666666666666,\"#ed7953\"],[0.7777777777777778,\"#fb9f3a\"],[0.8888888888888888,\"#fdca26\"],[1.0,\"#f0f921\"]]},\"colorway\":[\"#636efa\",\"#EF553B\",\"#00cc96\",\"#ab63fa\",\"#FFA15A\",\"#19d3f3\",\"#FF6692\",\"#B6E880\",\"#FF97FF\",\"#FECB52\"],\"font\":{\"color\":\"#f2f5fa\"},\"geo\":{\"bgcolor\":\"rgb(17,17,17)\",\"lakecolor\":\"rgb(17,17,17)\",\"landcolor\":\"rgb(17,17,17)\",\"showlakes\":true,\"showland\":true,\"subunitcolor\":\"#506784\"},\"hoverlabel\":{\"align\":\"left\"},\"hovermode\":\"closest\",\"mapbox\":{\"style\":\"dark\"},\"paper_bgcolor\":\"rgb(17,17,17)\",\"plot_bgcolor\":\"rgb(17,17,17)\",\"polar\":{\"angularaxis\":{\"gridcolor\":\"#506784\",\"linecolor\":\"#506784\",\"ticks\":\"\"},\"bgcolor\":\"rgb(17,17,17)\",\"radialaxis\":{\"gridcolor\":\"#506784\",\"linecolor\":\"#506784\",\"ticks\":\"\"}},\"scene\":{\"xaxis\":{\"backgroundcolor\":\"rgb(17,17,17)\",\"gridcolor\":\"#506784\",\"gridwidth\":2,\"linecolor\":\"#506784\",\"showbackground\":true,\"ticks\":\"\",\"zerolinecolor\":\"#C8D4E3\"},\"yaxis\":{\"backgroundcolor\":\"rgb(17,17,17)\",\"gridcolor\":\"#506784\",\"gridwidth\":2,\"linecolor\":\"#506784\",\"showbackground\":true,\"ticks\":\"\",\"zerolinecolor\":\"#C8D4E3\"},\"zaxis\":{\"backgroundcolor\":\"rgb(17,17,17)\",\"gridcolor\":\"#506784\",\"gridwidth\":2,\"linecolor\":\"#506784\",\"showbackground\":true,\"ticks\":\"\",\"zerolinecolor\":\"#C8D4E3\"}},\"shapedefaults\":{\"line\":{\"color\":\"#f2f5fa\"}},\"sliderdefaults\":{\"bgcolor\":\"#C8D4E3\",\"bordercolor\":\"rgb(17,17,17)\",\"borderwidth\":1,\"tickwidth\":0},\"ternary\":{\"aaxis\":{\"gridcolor\":\"#506784\",\"linecolor\":\"#506784\",\"ticks\":\"\"},\"baxis\":{\"gridcolor\":\"#506784\",\"linecolor\":\"#506784\",\"ticks\":\"\"},\"bgcolor\":\"rgb(17,17,17)\",\"caxis\":{\"gridcolor\":\"#506784\",\"linecolor\":\"#506784\",\"ticks\":\"\"}},\"title\":{\"x\":0.05},\"updatemenudefaults\":{\"bgcolor\":\"#506784\",\"borderwidth\":0},\"xaxis\":{\"automargin\":true,\"gridcolor\":\"#283442\",\"linecolor\":\"#506784\",\"ticks\":\"\",\"title\":{\"standoff\":15},\"zerolinecolor\":\"#283442\",\"zerolinewidth\":2},\"yaxis\":{\"automargin\":true,\"gridcolor\":\"#283442\",\"linecolor\":\"#506784\",\"ticks\":\"\",\"title\":{\"standoff\":15},\"zerolinecolor\":\"#283442\",\"zerolinewidth\":2}}},\"xaxis\":{\"anchor\":\"y\",\"domain\":[0.0,1.0],\"title\":{\"text\":\"\"},\"zeroline\":false},\"yaxis\":{\"anchor\":\"x\",\"domain\":[0.0,1.0],\"title\":{\"text\":\"\"},\"showticklabels\":false,\"zeroline\":false},\"legend\":{\"title\":{\"text\":\"\"},\"tracegroupgap\":0},\"title\":{\"text\":\"Articles about Data Science (light blue) and Business (red)\"},\"height\":400,\"showlegend\":false,\"plot_bgcolor\":\"black\",\"paper_bgcolor\":\"black\"},                        {\"responsive\": true}                    ).then(function(){\n",
       "                            \n",
       "var gd = document.getElementById('fc5570ff-3c69-4ea7-a83f-4a335a7ac258');\n",
       "var x = new MutationObserver(function (mutations, observer) {{\n",
       "        var display = window.getComputedStyle(gd).display;\n",
       "        if (!display || display === 'none') {{\n",
       "            console.log([gd, 'removed!']);\n",
       "            Plotly.purge(gd);\n",
       "            observer.disconnect();\n",
       "        }}\n",
       "}});\n",
       "\n",
       "// Listen for the removal of the full notebook cells\n",
       "var notebookContainer = gd.closest('#notebook-container');\n",
       "if (notebookContainer) {{\n",
       "    x.observe(notebookContainer, {childList: true});\n",
       "}}\n",
       "\n",
       "// Listen for the clearing of the current output cell\n",
       "var outputEl = gd.closest('.output');\n",
       "if (outputEl) {{\n",
       "    x.observe(outputEl, {childList: true});\n",
       "}}\n",
       "\n",
       "                        })                };                });            </script>        </div>"
      ]
     },
     "metadata": {},
     "output_type": "display_data"
    }
   ],
   "source": [
    "# Use Plotly to create a scatter plot using the 2 dimensional data Pt.2\n",
    "\n",
    "# Plot Construction\n",
    "labels = {\n",
    "    \"x\": \"\", # label for x-axis\n",
    "    \"y\": \"\", # label for y-axis\n",
    "    \"color\": \"\" # label for the color representation in the plot\n",
    "}\n",
    "hover_data = {\n",
    "    \"x\": False, \n",
    "    \"y\": False,\n",
    "    \"color\": True\n",
    "}\n",
    "# ^ specifies what information is displayed when hovering over points in a plot \n",
    "# ^ all true or false: setting to false will stop that information from appearing \n",
    "color_discrete_map = {\n",
    "    \"color\": [\n",
    "        px.colors.qualitative.Plotly[5] # light blue\n",
    "        if i < len(x_dimension) / 2 # assigns light blue to first half of data points\n",
    "        else px.colors.qualitative.Plotly[1] # red\n",
    "        for i in range(len(x_dimension)) # assigns red to second half of data points\n",
    "    ]\n",
    "}\n",
    "# ^ creates a list of colors for the \"color\" attribute in the x_dimension \n",
    "# ^ colors the plots on the graph\n",
    "# ^ px.colors.qualitative.Plotly is a color palette list\n",
    "title = \"Articles about Data Science (light blue) and Business (red)\"\n",
    "fig = px.scatter(\n",
    "    df_tsne, # DataFrame containing data to be plotted\n",
    "    x=\"x\", # Determines column from DataFrame for x-coords\n",
    "    y=\"y\", # Determines column from DataFrame for y-coords\n",
    "    hover_name=\"title\", # Determines the column from DataFrame used to label points\n",
    "    labels=labels, # Sets axis labels and legend title\n",
    "    hover_data=hover_data, # Controls what information is displayed when hovering over data points\n",
    "    color=\"color\", # Determine column from DataFrame to assign a color to each point\n",
    "    color_discrete_map=color_discrete_map, # Maps discrete colors to specific data values\n",
    "    height=400, # Sets height of the plot\n",
    "    template=\"plotly_dark\", # Chooses theme (dark) for the plot\n",
    "    title=title # Sets the title of the plot\n",
    ")\n",
    "fig.update_yaxes(showticklabels=False)\n",
    "fig.update_xaxes(zeroline=False)\n",
    "fig.update_yaxes(zeroline=False)\n",
    "fig.update_layout(showlegend=False)\n",
    "fig.update_layout({\n",
    "    \"plot_bgcolor\": \"black\",\n",
    "    \"paper_bgcolor\": \"black\"\n",
    "})\n",
    "# ^ change background colors\n",
    "\n",
    "# Display Plot\n",
    "fig.show()"
   ]
  },
  {
   "cell_type": "markdown",
   "id": "6adee14d-ff33-49e8-887b-4a53fb7e1c07",
   "metadata": {},
   "source": [
    "## Bag of Words vs Embeddings: Pros and Cons\n",
    "\n",
    "<u>Bag of Words:</u>\n",
    "* Models must be fit on a training set.\n",
    "* Cannot disambiguate homonyms (same word multiple meanings).\n",
    "* can be faster than embedding.\n",
    "\n",
    "<u>Embeddings:</u>\n",
    "* Can use pre-trained models mostly without further training.\n",
    "* Can be fine-tuned on a specific dataset with the benefits of being priorly trained on an extensive dataset.\n",
    "* Can disambiguate homonyms (same word multiple meanings) with unique embeddings.\n",
    "    * Specifically context-dependent embedding models.\n",
    "* Embeddings from neural models require more processing power (slower than vectorizers)."
   ]
  }
 ],
 "metadata": {
  "kernelspec": {
   "display_name": "Python 3 (ipykernel)",
   "language": "python",
   "name": "python3"
  },
  "language_info": {
   "codemirror_mode": {
    "name": "ipython",
    "version": 3
   },
   "file_extension": ".py",
   "mimetype": "text/x-python",
   "name": "python",
   "nbconvert_exporter": "python",
   "pygments_lexer": "ipython3",
   "version": "3.10.12"
  }
 },
 "nbformat": 4,
 "nbformat_minor": 5
}
