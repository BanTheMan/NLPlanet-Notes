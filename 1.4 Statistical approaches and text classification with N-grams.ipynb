{
 "cells": [
  {
   "cell_type": "markdown",
   "id": "5f413150-cfb7-434e-9001-767d41adf740",
   "metadata": {},
   "source": [
    "## Credit\n",
    "\n",
    "Notes are taken from NLPlanet Practical NLP with Python course section 1.4 Statistical Approaches and Text Classification with N-grams.\n",
    "* https://www.nlplanet.org/course-practical-nlp/01-intro-to-nlp/04-n-grams\n",
    "\n",
    "Authored by Fabio Chiusano\n",
    "* https://medium.com/@chiusanofabio94\n",
    "\n",
    "**All quotes '' are sourced from the NLPlanet course.**"
   ]
  },
  {
   "cell_type": "markdown",
   "id": "394a65c0",
   "metadata": {},
   "source": [
    "**Expert System vs Statistical Approach**\n",
    "\n",
    "<u>Expert System:<u>\n",
    "* Manually building sets of rules in collaboration with experts in the field. Requires extensive trial and error.\n",
    "    \n",
    "<u>Statistical Approach:<u>\n",
    "* Machine Learning (ML) through grouping like-subjects (typically two groups of what IS wanted and what is NOT wanted) and letting algorithms derive rules to discern between the groups."
   ]
  },
  {
   "cell_type": "markdown",
   "id": "8a4e8146",
   "metadata": {},
   "source": [
    "**Text Classification with N-grams**\n",
    "\n",
    "<u>Vectorization:<u>\n",
    "* The process of converting text into a numerical vector that most machine learning models can understand. \n",
    "* Can be done in multiple ways: the easiest being counting a word's recurrences.\n",
    "    \n",
    "<u>N-Grams:<u>\n",
    "* Made of N consecutive words. Serves as tokens to be vectorized.\n",
    "* Unigrams (1 word), bigrams (2 words), trigrams (3 words), etc.\n",
    "    \n",
    "<u>Bag of Words:<u>\n",
    "* A way of representing texts with a set of numbers. \n",
    "* Can be used as input into ML models.\n",
    "\n",
    "<u>Sparse Matrix:<u>\n",
    "* A matrix in which most elements are zero.\n",
    "    \n",
    "<u>Dense Matrix:<u>\n",
    "* A matrix where most elements are non-zero."
   ]
  },
  {
   "cell_type": "markdown",
   "id": "b059f8ce",
   "metadata": {},
   "source": [
    "**Making a logistic regression model:**\n",
    "* A model that estimates the probability of an outcome based on independent variables"
   ]
  },
  {
   "cell_type": "code",
   "execution_count": 1,
   "id": "9b842f0e",
   "metadata": {},
   "outputs": [],
   "source": [
    "import pandas as pd\n",
    "# Used to show tables with dataframes\n",
    "from sklearn.feature_extraction.text import CountVectorizer\n",
    "# CountVectorizer class is used to vectorize texts by counting the occurrences of each word\n",
    "from sklearn.linear_model import LogisticRegression\n",
    "# Class can be used for logistic regression machine learning tasks"
   ]
  },
  {
   "cell_type": "code",
   "execution_count": 4,
   "id": "856dfad1",
   "metadata": {},
   "outputs": [
    {
     "data": {
      "text/plain": [
       "matrix([[1, 1, 0, 1, 0, 0, 1, 0, 1, 1, 1, 0, 1, 1, 1, 1, 0, 0, 0, 1, 1,\n",
       "         0],\n",
       "        [0, 0, 1, 0, 1, 1, 1, 1, 0, 0, 1, 2, 1, 0, 0, 1, 1, 1, 1, 0, 0,\n",
       "         2]])"
      ]
     },
     "execution_count": 4,
     "metadata": {},
     "output_type": "execute_result"
    }
   ],
   "source": [
    "# Creating a small dataset of texts (realistically require hundreds or thousands of examples)\n",
    "\n",
    "# Dataset\n",
    "texts = [\n",
    "    \"Programming is the process of creating virtual logic systems by communicating with a machine.\",\n",
    "    \"Writing is the process of using a writing device or utensil to convey knowledge or expression.\"\n",
    "]\n",
    "\n",
    "labels = [1, 0] \n",
    "# 1 = Programming\n",
    "# 0 = Writing\n",
    "\n",
    "# Fit vectorizer on texts\n",
    "vectorizer = CountVectorizer(ngram_range=(1, 1))\n",
    "# ngram_range=(min_n, max_n) considers a specified range of grams (unigrams in this line)\n",
    "vectorizer.fit(texts) \n",
    "# .fit() method counts words in texts\n",
    "\n",
    "# Vectorize texts into bag of words\n",
    "ngrams = vectorizer.transform(texts)\n",
    "# .transform() method converts texts into a matrix of token counts\n",
    "# ngrams is a sparse matrix\n",
    "ngrams.todense()\n",
    "# .todense() method converts a sparse matrix into a dense matrix"
   ]
  },
  {
   "cell_type": "code",
   "execution_count": 9,
   "id": "ed5d3b92",
   "metadata": {},
   "outputs": [
    {
     "data": {
      "text/plain": [
       "{'programming': 13,\n",
       " 'is': 6,\n",
       " 'the': 15,\n",
       " 'process': 12,\n",
       " 'of': 10,\n",
       " 'creating': 3,\n",
       " 'virtual': 19,\n",
       " 'logic': 8,\n",
       " 'systems': 14,\n",
       " 'by': 0,\n",
       " 'communicating': 1,\n",
       " 'with': 20,\n",
       " 'machine': 9,\n",
       " 'writing': 21,\n",
       " 'using': 17,\n",
       " 'device': 4,\n",
       " 'or': 11,\n",
       " 'utensil': 18,\n",
       " 'to': 16,\n",
       " 'convey': 2,\n",
       " 'knowledge': 7,\n",
       " 'expression': 5}"
      ]
     },
     "execution_count": 9,
     "metadata": {},
     "output_type": "execute_result"
    }
   ],
   "source": [
    "# Vocabulary dictionary from fitting\n",
    "vectorizer.vocabulary_\n",
    "# Contains a mapping of terms (ngrams) to their indicies in the matrix"
   ]
  },
  {
   "cell_type": "code",
   "execution_count": 29,
   "id": "9b89f429",
   "metadata": {},
   "outputs": [
    {
     "name": "stdout",
     "output_type": "stream",
     "text": [
      "vocab_dict:\n",
      "dict_items([('programming', 13), ('is', 6), ('the', 15), ('process', 12), ('of', 10), ('creating', 3), ('virtual', 19), ('logic', 8), ('systems', 14), ('by', 0), ('communicating', 1), ('with', 20), ('machine', 9), ('writing', 21), ('using', 17), ('device', 4), ('or', 11), ('utensil', 18), ('to', 16), ('convey', 2), ('knowledge', 7), ('expression', 5)])\n",
      "\n",
      "dict_sorted:\n",
      "[('by', 0), ('communicating', 1), ('convey', 2), ('creating', 3), ('device', 4), ('expression', 5), ('is', 6), ('knowledge', 7), ('logic', 8), ('machine', 9), ('of', 10), ('or', 11), ('process', 12), ('programming', 13), ('systems', 14), ('the', 15), ('to', 16), ('using', 17), ('utensil', 18), ('virtual', 19), ('with', 20), ('writing', 21)]\n",
      "\n",
      "keys_values_sorted:\n",
      "[('by', 'communicating', 'convey', 'creating', 'device', 'expression', 'is', 'knowledge', 'logic', 'machine', 'of', 'or', 'process', 'programming', 'systems', 'the', 'to', 'using', 'utensil', 'virtual', 'with', 'writing'), (0, 1, 2, 3, 4, 5, 6, 7, 8, 9, 10, 11, 12, 13, 14, 15, 16, 17, 18, 19, 20, 21)]\n",
      "\n",
      "keys:\n",
      "('by', 'communicating', 'convey', 'creating', 'device', 'expression', 'is', 'knowledge', 'logic', 'machine', 'of', 'or', 'process', 'programming', 'systems', 'the', 'to', 'using', 'utensil', 'virtual', 'with', 'writing')\n",
      "\n"
     ]
    },
    {
     "data": {
      "text/html": [
       "<div>\n",
       "<style scoped>\n",
       "    .dataframe tbody tr th:only-of-type {\n",
       "        vertical-align: middle;\n",
       "    }\n",
       "\n",
       "    .dataframe tbody tr th {\n",
       "        vertical-align: top;\n",
       "    }\n",
       "\n",
       "    .dataframe thead th {\n",
       "        text-align: right;\n",
       "    }\n",
       "</style>\n",
       "<table border=\"1\" class=\"dataframe\">\n",
       "  <thead>\n",
       "    <tr style=\"text-align: right;\">\n",
       "      <th></th>\n",
       "      <th>by</th>\n",
       "      <th>communicating</th>\n",
       "      <th>convey</th>\n",
       "      <th>creating</th>\n",
       "      <th>device</th>\n",
       "      <th>expression</th>\n",
       "      <th>is</th>\n",
       "      <th>knowledge</th>\n",
       "      <th>logic</th>\n",
       "      <th>machine</th>\n",
       "      <th>...</th>\n",
       "      <th>process</th>\n",
       "      <th>programming</th>\n",
       "      <th>systems</th>\n",
       "      <th>the</th>\n",
       "      <th>to</th>\n",
       "      <th>using</th>\n",
       "      <th>utensil</th>\n",
       "      <th>virtual</th>\n",
       "      <th>with</th>\n",
       "      <th>writing</th>\n",
       "    </tr>\n",
       "  </thead>\n",
       "  <tbody>\n",
       "    <tr>\n",
       "      <th>0</th>\n",
       "      <td>1</td>\n",
       "      <td>1</td>\n",
       "      <td>0</td>\n",
       "      <td>1</td>\n",
       "      <td>0</td>\n",
       "      <td>0</td>\n",
       "      <td>1</td>\n",
       "      <td>0</td>\n",
       "      <td>1</td>\n",
       "      <td>1</td>\n",
       "      <td>...</td>\n",
       "      <td>1</td>\n",
       "      <td>1</td>\n",
       "      <td>1</td>\n",
       "      <td>1</td>\n",
       "      <td>0</td>\n",
       "      <td>0</td>\n",
       "      <td>0</td>\n",
       "      <td>1</td>\n",
       "      <td>1</td>\n",
       "      <td>0</td>\n",
       "    </tr>\n",
       "    <tr>\n",
       "      <th>1</th>\n",
       "      <td>0</td>\n",
       "      <td>0</td>\n",
       "      <td>1</td>\n",
       "      <td>0</td>\n",
       "      <td>1</td>\n",
       "      <td>1</td>\n",
       "      <td>1</td>\n",
       "      <td>1</td>\n",
       "      <td>0</td>\n",
       "      <td>0</td>\n",
       "      <td>...</td>\n",
       "      <td>1</td>\n",
       "      <td>0</td>\n",
       "      <td>0</td>\n",
       "      <td>1</td>\n",
       "      <td>1</td>\n",
       "      <td>1</td>\n",
       "      <td>1</td>\n",
       "      <td>0</td>\n",
       "      <td>0</td>\n",
       "      <td>2</td>\n",
       "    </tr>\n",
       "  </tbody>\n",
       "</table>\n",
       "<p>2 rows × 22 columns</p>\n",
       "</div>"
      ],
      "text/plain": [
       "   by  communicating  convey  creating  device  expression  is  knowledge  \\\n",
       "0   1              1       0         1       0           0   1          0   \n",
       "1   0              0       1         0       1           1   1          1   \n",
       "\n",
       "   logic  machine  ...  process  programming  systems  the  to  using  \\\n",
       "0      1        1  ...        1            1        1    1   0      0   \n",
       "1      0        0  ...        1            0        0    1   1      1   \n",
       "\n",
       "   utensil  virtual  with  writing  \n",
       "0        0        1     1        0  \n",
       "1        1        0     0        2  \n",
       "\n",
       "[2 rows x 22 columns]"
      ]
     },
     "execution_count": 29,
     "metadata": {},
     "output_type": "execute_result"
    }
   ],
   "source": [
    "# Create a pandas dataframe that shows the unigrams in each text\n",
    "\n",
    "vocab_dict = vectorizer.vocabulary_.items()\n",
    "# Retrieve vocab dictionary of grams and matrix indicies\n",
    "print(f\"vocab_dict:\\n{vocab_dict}\\n\")\n",
    "\n",
    "dict_sorted = sorted(list(vocab_dict))\n",
    "# Convert into a list ordered numerically based on dict values\n",
    "print(f\"dict_sorted:\\n{dict_sorted}\\n\")\n",
    "\n",
    "keys_values_sorted = list(zip(*dict_sorted))\n",
    "# Convert into a list of 2 sets with correlating grams and matrix indicies\n",
    "print(f\"keys_values_sorted:\\n{keys_values_sorted}\\n\")\n",
    "\n",
    "keys = keys_sorted[0]\n",
    "# Retrieve each word\n",
    "print(f\"keys:\\n{keys}\\n\")\n",
    "\n",
    "ngrams_matrix = ngrams.todense()\n",
    "df = pd.DataFrame(ngrams_matrix, columns=keys)\n",
    "# .DataFrame(data, index, columns) method creates a Pandas DataFrame\n",
    "# data as dictionary: keys represent column names, values represent data in columns\n",
    "# data as list or NumPy array: represents the the values in the DataFrame. Rows and Columns will be indexed by default\n",
    "# data as another DataFrame: can be used to create a new DataFrame based on the existing DataFrame's data\n",
    "# index: row labels. Default = integer index (0, 1, 2,...)\n",
    "# columns: defines column labels. Default = inferred from input data or integer index\n",
    "df"
   ]
  },
  {
   "cell_type": "markdown",
   "id": "ce5eece9",
   "metadata": {},
   "source": [
    "**Model Training and Feature Weights** "
   ]
  },
  {
   "cell_type": "code",
   "execution_count": 44,
   "id": "82c83473",
   "metadata": {},
   "outputs": [
    {
     "data": {
      "text/plain": [
       "{'by': 0.0998966450672437,\n",
       " 'communicating': 0.0998966450672437,\n",
       " 'convey': 0.0998966450672437,\n",
       " 'creating': 0.0998966450672437,\n",
       " 'device': -0.09993530868610438,\n",
       " 'expression': -0.09993530868610438,\n",
       " 'is': 0.0998966450672437,\n",
       " 'knowledge': 0.0998966450672437,\n",
       " 'logic': -0.09993530868610438,\n",
       " 'machine': -0.09993530868610438,\n",
       " 'of': -0.09993530868610438,\n",
       " 'or': -3.866361886065603e-05,\n",
       " 'process': -3.866361886065603e-05,\n",
       " 'programming': -0.09993530868610438,\n",
       " 'systems': -0.09993530868610438,\n",
       " 'the': 0.0998966450672437,\n",
       " 'to': 0.0998966450672437,\n",
       " 'using': 0.0998966450672437,\n",
       " 'utensil': -3.866361886065603e-05,\n",
       " 'virtual': 0.0998966450672437,\n",
       " 'with': -0.09993530868610438,\n",
       " 'writing': -0.19987061737220876}"
      ]
     },
     "execution_count": 44,
     "metadata": {},
     "output_type": "execute_result"
    }
   ],
   "source": [
    "# Train logistic regression model using gathered ngrams (unigrams)\n",
    "\n",
    "model = LogisticRegression()\n",
    "model.fit(ngrams, labels)\n",
    "# ngrams typically represents the matrix obtained from the text data after applying the CountVectorizer method\n",
    "# row: coresponds to text document\n",
    "# column: count of particular unigram in the document\n",
    "# labels contains the corresponding target labels for each text document\n",
    "\n",
    "# Show logistic regression weights\n",
    "\n",
    "unigram_weight = dict(zip(keys, model.coef_[0]))\n",
    "# model.coef_[0] retrieves the weights learned by the logistic regression model after training\n",
    "# weights represent the importance of each feature (unigram) in determining the target class (specific category or label)\n",
    "unigram_weight"
   ]
  },
  {
   "cell_type": "markdown",
   "id": "2c8fd658",
   "metadata": {},
   "source": [
    "**Bigrams**\n",
    "* Made of two consecutive words"
   ]
  },
  {
   "cell_type": "code",
   "execution_count": 45,
   "id": "5c0f9826",
   "metadata": {},
   "outputs": [
    {
     "data": {
      "text/plain": [
       "matrix([[1, 1, 1, 1, 0, 0, 1, 1, 0, 0, 0, 1, 1, 0, 0, 1, 1, 1, 1, 1, 0,\n",
       "         0, 0, 0, 1, 1, 1, 1, 1, 1, 1, 1, 0, 0, 0, 0, 0, 0, 1, 1, 1, 1,\n",
       "         0, 0, 0],\n",
       "        [0, 0, 0, 0, 1, 1, 0, 0, 1, 1, 1, 1, 1, 1, 1, 0, 0, 0, 1, 0, 1,\n",
       "         2, 1, 1, 1, 1, 0, 0, 0, 0, 1, 1, 1, 1, 1, 1, 1, 1, 0, 0, 0, 0,\n",
       "         2, 1, 1]])"
      ]
     },
     "execution_count": 45,
     "metadata": {},
     "output_type": "execute_result"
    }
   ],
   "source": [
    "# Fit vectorizer on texts\n",
    "vectorizer = CountVectorizer(ngram_range=(1, 2))\n",
    "# vectorizer object considers a minimum of unigram and maximum of bigram\n",
    "\n",
    "vectorizer.fit(texts) \n",
    "# build ngram dictionary\n",
    "# dict stored in vocabulary_\n",
    "\n",
    "# vectorize texts into bag of words\n",
    "ngrams = vectorizer.transform(texts)\n",
    "ngrams.todense()"
   ]
  },
  {
   "cell_type": "code",
   "execution_count": 46,
   "id": "8d1255e2",
   "metadata": {},
   "outputs": [
    {
     "data": {
      "text/plain": [
       "{'programming': 26,\n",
       " 'is': 11,\n",
       " 'the': 30,\n",
       " 'process': 24,\n",
       " 'of': 18,\n",
       " 'creating': 6,\n",
       " 'virtual': 38,\n",
       " 'logic': 15,\n",
       " 'systems': 28,\n",
       " 'by': 0,\n",
       " 'communicating': 2,\n",
       " 'with': 40,\n",
       " 'machine': 17,\n",
       " 'programming is': 27,\n",
       " 'is the': 12,\n",
       " 'the process': 31,\n",
       " 'process of': 25,\n",
       " 'of creating': 19,\n",
       " 'creating virtual': 7,\n",
       " 'virtual logic': 39,\n",
       " 'logic systems': 16,\n",
       " 'systems by': 29,\n",
       " 'by communicating': 1,\n",
       " 'communicating with': 3,\n",
       " 'with machine': 41,\n",
       " 'writing': 42,\n",
       " 'using': 34,\n",
       " 'device': 8,\n",
       " 'or': 21,\n",
       " 'utensil': 36,\n",
       " 'to': 32,\n",
       " 'convey': 4,\n",
       " 'knowledge': 13,\n",
       " 'expression': 10,\n",
       " 'writing is': 44,\n",
       " 'of using': 20,\n",
       " 'using writing': 35,\n",
       " 'writing device': 43,\n",
       " 'device or': 9,\n",
       " 'or utensil': 23,\n",
       " 'utensil to': 37,\n",
       " 'to convey': 33,\n",
       " 'convey knowledge': 5,\n",
       " 'knowledge or': 14,\n",
       " 'or expression': 22}"
      ]
     },
     "execution_count": 46,
     "metadata": {},
     "output_type": "execute_result"
    }
   ],
   "source": [
    "# Vocabulary dictionary from fitting\n",
    "vectorizer.vocabulary_\n",
    "# Contains a mapping of terms (ngrams) to their indicies in the matrix"
   ]
  },
  {
   "cell_type": "code",
   "execution_count": 57,
   "id": "885f4a1e",
   "metadata": {},
   "outputs": [
    {
     "data": {
      "text/plain": [
       "{'by': 0.0998966450672437,\n",
       " 'by communicating': 0.0998966450672437,\n",
       " 'communicating': 0.0998966450672437,\n",
       " 'communicating with': 0.0998966450672437,\n",
       " 'convey': -0.09993530868610438,\n",
       " 'convey knowledge': -0.09993530868610438,\n",
       " 'creating': 0.0998966450672437,\n",
       " 'creating virtual': 0.0998966450672437,\n",
       " 'device': -0.09993530868610438,\n",
       " 'device or': -0.09993530868610438,\n",
       " 'expression': -0.09993530868610438,\n",
       " 'is': -3.866361886065603e-05,\n",
       " 'is the': -3.866361886065603e-05,\n",
       " 'knowledge': -0.09993530868610438,\n",
       " 'knowledge or': -0.09993530868610438,\n",
       " 'logic': 0.0998966450672437,\n",
       " 'logic systems': 0.0998966450672437,\n",
       " 'machine': 0.0998966450672437,\n",
       " 'of': -3.866361886065603e-05,\n",
       " 'of creating': 0.0998966450672437,\n",
       " 'of using': -0.09993530868610438,\n",
       " 'or': -0.19987061737220876,\n",
       " 'or expression': -0.09993530868610438,\n",
       " 'or utensil': -0.09993530868610438,\n",
       " 'process': -3.866361886065603e-05,\n",
       " 'process of': -3.866361886065603e-05,\n",
       " 'programming': 0.0998966450672437,\n",
       " 'programming is': 0.0998966450672437,\n",
       " 'systems': 0.0998966450672437,\n",
       " 'systems by': 0.0998966450672437,\n",
       " 'the': -3.866361886065603e-05,\n",
       " 'the process': -3.866361886065603e-05,\n",
       " 'to': -0.09993530868610438,\n",
       " 'to convey': -0.09993530868610438,\n",
       " 'using': -0.09993530868610438,\n",
       " 'using writing': -0.09993530868610438,\n",
       " 'utensil': -0.09993530868610438,\n",
       " 'utensil to': -0.09993530868610438,\n",
       " 'virtual': 0.0998966450672437,\n",
       " 'virtual logic': 0.0998966450672437,\n",
       " 'with': 0.0998966450672437,\n",
       " 'with machine': 0.0998966450672437,\n",
       " 'writing': -0.19987061737220876,\n",
       " 'writing device': -0.09993530868610438,\n",
       " 'writing is': -0.09993530868610438}"
      ]
     },
     "execution_count": 57,
     "metadata": {},
     "output_type": "execute_result"
    }
   ],
   "source": [
    "# Train logistic regression model using gathered ngrams (unigrams and bigrams)\n",
    "model = LogisticRegression()\n",
    "model.fit(ngrams, labels)\n",
    "\n",
    "# Show ngram weights after training\n",
    "vocab_dict = vectorizer.vocabulary_.items()\n",
    "dict_sorted = sorted(list(vocab_dict))\n",
    "keys_values_sorted = list(zip(*dict_sorted))\n",
    "keys = keys_values_sorted[0]\n",
    "ngram_weight = dict(zip(keys, model.coef_[0]))\n",
    "ngram_weight"
   ]
  }
 ],
 "metadata": {
  "kernelspec": {
   "display_name": "Python 3 (ipykernel)",
   "language": "python",
   "name": "python3"
  },
  "language_info": {
   "codemirror_mode": {
    "name": "ipython",
    "version": 3
   },
   "file_extension": ".py",
   "mimetype": "text/x-python",
   "name": "python",
   "nbconvert_exporter": "python",
   "pygments_lexer": "ipython3",
   "version": "3.10.12"
  }
 },
 "nbformat": 4,
 "nbformat_minor": 5
}
