{
 "cells": [
  {
   "cell_type": "markdown",
   "id": "6b5ed745-02ab-4003-bc25-51fb6e384d87",
   "metadata": {},
   "source": [
    "## Credit\n",
    "\n",
    "Notes are taken from NLPlanet Practical NLP with Python course section 2.18 Text Summarization\n",
    "* https://www.nlplanet.org/course-practical-nlp/02-practical-nlp-first-tasks/18-text-summarization\n",
    "\n",
    "Authored by Fabio Chiusano\n",
    "* https://medium.com/@chiusanofabio94\n",
    "\n",
    "**All quotes '' are sourced from the NLPlanet course.**"
   ]
  },
  {
   "cell_type": "markdown",
   "id": "145361b9-3699-46b2-8487-910a0d219907",
   "metadata": {},
   "source": [
    "## Text Summarization\n",
    "<u>Approaches:</u>\n",
    "* Extraction-based summarization\n",
    "    * 'A subset of words or sentences that represent the most important points is pulled from the long text and combined to make a summary. The results may not be grammatically accurate.'\n",
    "* Abstraction-based summarization\n",
    "    * 'Advanced deep learning techniques (mainly in seq-to-seq models) are applied to paraphrase and shorten the original document.'\n",
    "    * 'Abstractive machine learning algorithms can generate new phrases and sentences that represent the most important information' which helps overcome grammatical inadequacy.\n",
    " \n",
    "<u>Example Datasets:</u>\n",
    "* Gigaword dataset\n",
    "    * 'Contains ~4 million articles with their headlines, which are treated as a summary for the whole article.'\n",
    "* Extreme Summarization (XSum) dataset\n",
    "    * 'Consists of ~200k BBC news articles covering a variety of domains, accompanied by a one-sentence summary.'\n",
    " \n",
    "<u>Metrics:</u>\n",
    "* ROUGE\n",
    "    * (Recall-Oriented Understudy for Gisting Evaluation)\n",
    "    * 'A set of metrics and a software package specifically designed for evaluating automatic summarization.'\n",
    "    * Can be used for machine translation\n",
    "    * 'The metrics compare an automatically produced summary or translation against reference (high-quality and human-produced) summaries or translations.'"
   ]
  },
  {
   "cell_type": "markdown",
   "id": "5e6f4f93-6046-4047-aa68-8391473f1004",
   "metadata": {},
   "source": [
    "## Text Summarization in Python"
   ]
  },
  {
   "cell_type": "code",
   "execution_count": null,
   "id": "19dd8745-88b5-466c-a395-ae0736ba9490",
   "metadata": {},
   "outputs": [],
   "source": [
    "# Install transformers library\n",
    "!pip install transformers"
   ]
  },
  {
   "cell_type": "code",
   "execution_count": 1,
   "id": "dd745c35-cd3a-4133-871b-2585ca5f2011",
   "metadata": {},
   "outputs": [],
   "source": [
    "# Imports\n",
    "from transformers import pipeline"
   ]
  },
  {
   "cell_type": "code",
   "execution_count": 5,
   "id": "dbcdd772-06be-4551-b769-e5f92f6aa254",
   "metadata": {},
   "outputs": [
    {
     "name": "stderr",
     "output_type": "stream",
     "text": [
      "No model was supplied, defaulted to sshleifer/distilbart-cnn-12-6 and revision a4f8f3e (https://huggingface.co/sshleifer/distilbart-cnn-12-6).\n",
      "Using a pipeline without specifying a model name and revision in production is not recommended.\n"
     ]
    },
    {
     "name": "stdout",
     "output_type": "stream",
     "text": [
      "Summary:\n",
      " Microsoft announces general availability of Azure OpenAI Service . GPT-3.5, Codex, and DALL•E 2 models are among the most advanced AI models in the world . Customers will also be able to access ChatGPT, a fine-tuned version of GPT that has been trained and runs inference on Azure AI infrastructure .\n"
     ]
    }
   ],
   "source": [
    "# Text Summarization Example\n",
    "\n",
    "# Download default pre-trained text summarization model\n",
    "sum_model = pipeline(\"summarization\")\n",
    "\n",
    "# text from https://azure.microsoft.com/en-us/blog/general-availability-of-azure-openai-service-expands-access-to-large-advanced-ai-models-with-added-enterprise-benefits/\n",
    "text = \"Large language models are quickly becoming an essential platform for people \" \\\n",
    "\"to innovate, apply AI to solve big problems, and imagine what’s possible. Today, \" \\\n",
    "\"we are excited to announce the general availability of Azure OpenAI Service as part \" \\\n",
    "\"of Microsoft’s continued commitment to democratizing AI, and ongoing partnership with \" \\\n",
    "\"OpenAI. With Azure OpenAI Service now generally available, more businesses can apply \" \\\n",
    "\"for access to the most advanced AI models in the world—including GPT-3.5, Codex, \" \\\n",
    "\"and DALL•E 2—backed by the trusted enterprise-grade capabilities and AI-optimized \" \\\n",
    "\"infrastructure of Microsoft Azure, to create cutting-edge applications. Customers \" \\\n",
    "\"will also be able to access ChatGPT—a fine-tuned version of GPT-3.5 that has been \" \\\n",
    "\"trained and runs inference on Azure AI infrastructure—through Azure OpenAI Service soon.\"\n",
    "\n",
    "resp = sum_model(text)[0]\n",
    "# returns a list of a dictionary with 1 key -> 'summary_text'\n",
    "print(f\"Summary:\\n{resp['summary_text']}\")"
   ]
  },
  {
   "cell_type": "code",
   "execution_count": null,
   "id": "a1ae9dc9-f1c1-466f-aff1-f39e977fe755",
   "metadata": {},
   "outputs": [],
   "source": []
  }
 ],
 "metadata": {
  "kernelspec": {
   "display_name": "Python 3 (ipykernel)",
   "language": "python",
   "name": "python3"
  },
  "language_info": {
   "codemirror_mode": {
    "name": "ipython",
    "version": 3
   },
   "file_extension": ".py",
   "mimetype": "text/x-python",
   "name": "python",
   "nbconvert_exporter": "python",
   "pygments_lexer": "ipython3",
   "version": "3.10.12"
  }
 },
 "nbformat": 4,
 "nbformat_minor": 5
}
