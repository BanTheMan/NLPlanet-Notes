{
 "cells": [
  {
   "cell_type": "markdown",
   "id": "e0a65b0e-64f7-4a2d-ab50-a98ec9fd4459",
   "metadata": {},
   "source": [
    "## Credit\n",
    "\n",
    "Notes are taken from NLPlanet Practical NLP with Python course section 2.10 Semantic Search on Big Data\n",
    "* https://www.nlplanet.org/course-practical-nlp/02-practical-nlp-first-tasks/10-semantic-search-big-data\n",
    "\n",
    "Authored by Fabio Chiusano\n",
    "* https://medium.com/@chiusanofabio94\n",
    "\n",
    "**All quotes '' are sourced from the NLPlanet course.**"
   ]
  },
  {
   "cell_type": "markdown",
   "id": "560416e8-681f-4553-ab8b-ca90a93694dd",
   "metadata": {},
   "source": [
    "## Semantic Search Recap\n",
    "\n",
    "<u>Recap:</u>\n",
    "* All the documents are embedded using the embedding model.\n",
    "* The query is embedded using the same model, producing the query embedding.\n",
    "* A similarity between the query embedding and the embedding of each document is computed.\n",
    "* The document with the highest similarity is returned as the best result"
   ]
  },
  {
   "cell_type": "markdown",
   "id": "9506a57b-d4a1-442c-88b5-3fb29bf968a5",
   "metadata": {},
   "source": [
    "## Speeding up Semantic Search using Faiss"
   ]
  },
  {
   "cell_type": "code",
   "execution_count": null,
   "id": "7db99af6-7844-41a1-888b-659a90b85788",
   "metadata": {},
   "outputs": [],
   "source": [
    "# Install faiss library\n",
    "!pip install faiss-cpu\n",
    "# also a GPU version available: faiss-gpu"
   ]
  },
  {
   "cell_type": "markdown",
   "id": "8de81583-6e97-45fc-8e95-6ffeb65c084f",
   "metadata": {},
   "source": [
    "### Generate Vectors"
   ]
  },
  {
   "cell_type": "code",
   "execution_count": 1,
   "id": "b7420da6-021c-442a-9dcc-a51efcb52a7e",
   "metadata": {},
   "outputs": [
    {
     "name": "stdout",
     "output_type": "stream",
     "text": [
      "[[0.01417776 0.04605334 0.03240402 ... 0.00286546 0.05125616 0.0352571 ]\n",
      " [0.01299159 0.00484864 0.0024733  ... 0.04634576 0.01395291 0.03983717]\n",
      " [0.05602823 0.07297722 0.04174635 ... 0.04760421 0.00648946 0.0560016 ]\n",
      " ...\n",
      " [0.04004947 0.02678304 0.02726158 ... 0.07530405 0.07019431 0.06849267]\n",
      " [0.07222328 0.07369468 0.0300264  ... 0.04832328 0.00220381 0.06468705]\n",
      " [0.06522474 0.02248333 0.04374786 ... 0.03468747 0.04629404 0.03798534]]\n"
     ]
    }
   ],
   "source": [
    "# 500k vectors of 512 dimensions\n",
    "\n",
    "import numpy as np\n",
    "# used for manipulating data\n",
    "from sklearn.preprocessing import normalize\n",
    "# normalize function used for normalizing arrays or vectors\n",
    "\n",
    "np.random.seed(1234)\n",
    "# sets seed for NumPy random number generator\n",
    "\n",
    "num_dimensions = 512\n",
    "number_of_vectors = 10**5 * 5\n",
    "\n",
    "vectors = np.random.random((number_of_vectors, num_dimensions)).astype('float32')\n",
    "# np.random.random() generates random numbers in a provided range\n",
    "# (vectors, dimensions) specifies the shape of the generated array\n",
    "# .astype('float32') method converts the data type of the generated array into float32\n",
    "    # a data type representing 32-bit floating-point numbers\n",
    "vectors = normalize(vectors)\n",
    "# normalizes vectors along an axis (a dimension)\n",
    "print(vectors[:10])"
   ]
  },
  {
   "cell_type": "markdown",
   "id": "f8bcdcbe-8e69-46f6-ac5b-0583748b3f09",
   "metadata": {},
   "source": [
    "### Brute-force Search (Slow)"
   ]
  },
  {
   "cell_type": "code",
   "execution_count": 15,
   "id": "8ee60961-bebf-41e9-8528-5fc83f34ac8b",
   "metadata": {},
   "outputs": [],
   "source": [
    "import faiss\n",
    "# Facebook AI similarity Search\n",
    "# Effifient in similarity search and the clustering of dense vectors\n",
    "\n",
    "# Create Index\n",
    "index = faiss.IndexFlatL2(num_dimensions)\n",
    "# Creates an IndexFlatL2 in a space with a specified number of dimensions\n",
    "# A flat index is an index where all values are stored without hierarchy \n",
    "    # (all vectors have the same level of priority)\n",
    "# L2 is a similarity metric that queries for nearest neighbors \n",
    "    # (similar vectors with the least distance from eachother)\n",
    "index.add(vectors)\n",
    "\n",
    "# Unused:\n",
    "retrieved_vector = index.reconstruct(0)\n",
    "# .reconstruct retrieves a single data point from the index based on the provided position/index (0)"
   ]
  },
  {
   "cell_type": "code",
   "execution_count": 16,
   "id": "38f5f0ea-78b7-48b9-b28c-27910c99d20e",
   "metadata": {},
   "outputs": [
    {
     "name": "stdout",
     "output_type": "stream",
     "text": [
      "[[0.3934843  0.3936579  0.39374584 0.39577028]]\n",
      "[[421983 173520 400525 455621]]\n"
     ]
    }
   ],
   "source": [
    "# Creating a random query vector to find its 4 nearest neighbors\n",
    "\n",
    "# Create Query Vector\n",
    "query_vector = np.random.random((1, num_dimensions)).astype('float32')\n",
    "# creates a single vectors with 512 dimensions\n",
    "query_vector = normalize(query_vector)\n",
    "# changes the vector's magnitude to the L2 norm while the direction stays the same\n",
    "# L2 norm is a measure of the magnitude of a vector \n",
    "    # OR\n",
    "    # |v| = sqrt((c1)^2 + (c2)^2 + ... + (cn)^2)\n",
    "    # where all c are components of the vector\n",
    "# L1 norm measures the absolute sum of all components in a vector\n",
    "\n",
    "# Nearest Neighbor Search\n",
    "num_neighbors = 4\n",
    "distances, indices = index.search(query_vector, num_neighbors)\n",
    "# .search() performs a nearest neighbor search provided:\n",
    "    # A starting point (query_vector)\n",
    "    # A number of neighbors to find (4)\n",
    "# Finds 1st, 2nd, 3rd, and 4th closest vectors to the query_vector\n",
    "# Returns:\n",
    "    # the distances between the vector and the query_vector\n",
    "    # the index of each vectors inside of the IndexFlatL2 obj\n",
    "\n",
    "print(distances)\n",
    "print(indices)"
   ]
  },
  {
   "cell_type": "markdown",
   "id": "6959aab9-6dab-4115-9bd3-861c7efaa251",
   "metadata": {},
   "source": [
    "### Search with Space-partitioning Index (Fast)"
   ]
  },
  {
   "cell_type": "code",
   "execution_count": 20,
   "id": "4bb3d1a9-7ce9-4a3b-9ef3-94b62ea31e50",
   "metadata": {},
   "outputs": [],
   "source": [
    "import faiss\n",
    "# Facebook AI similarity Search\n",
    "# Effifient in similarity search and the clustering of dense vectors\n",
    "\n",
    "# create index\n",
    "n_cells = 500\n",
    "quantizer = faiss.IndexFlatL2(num_dimensions)\n",
    "# Creates a flat index object\n",
    "index = faiss.IndexIVFFlat(quantizer, num_dimensions, n_cells)\n",
    "# Inverted File with Flat Index\n",
    "    # partitions the vector space into smaller cells (or clusters) of vectors\n",
    "    # each cell contains a subset of vectors based on their proximity (or similarity)\n",
    "# The quantizer Index serves as a coarse quantizer\n",
    "    # which retrieves an initial candidate set, then searches within this set for nearest neighbors\n",
    "# num_dimensions needs to be specified to maintain vectors with the same dimensions\n",
    "\n",
    "index.train(vectors)\n",
    "# trains the index using the vectors dataset\n",
    "# prepares the data structure for efficient search\n",
    "index.add(vectors)\n",
    "# adds the vectors to the index structure\n",
    "# the vectors are partitioned in cells based on the quantizer to be used for nearest neighbor searches"
   ]
  },
  {
   "cell_type": "code",
   "execution_count": 22,
   "id": "6fa0da07-afe5-48d2-ac6b-fe005535161c",
   "metadata": {},
   "outputs": [
    {
     "name": "stdout",
     "output_type": "stream",
     "text": [
      "[[0.39594385 0.40824294 0.40859386 0.41268638]]\n",
      "[[411930 188744 286482 319469]]\n"
     ]
    }
   ],
   "source": [
    "# Explained under brute-force method\n",
    "\n",
    "# Create query vector\n",
    "query_vector = np.random.random((1, num_dimensions)).astype('float32')\n",
    "query_vector = normalize(query_vector)\n",
    "\n",
    "# Nearest Neighbor Search\n",
    "num_neighbors = 4\n",
    "distances, indexes = index.search(query_vector, num_neighbors)\n",
    "\n",
    "print(distances)\n",
    "print(indexes)"
   ]
  }
 ],
 "metadata": {
  "kernelspec": {
   "display_name": "Python 3 (ipykernel)",
   "language": "python",
   "name": "python3"
  },
  "language_info": {
   "codemirror_mode": {
    "name": "ipython",
    "version": 3
   },
   "file_extension": ".py",
   "mimetype": "text/x-python",
   "name": "python",
   "nbconvert_exporter": "python",
   "pygments_lexer": "ipython3",
   "version": "3.10.12"
  }
 },
 "nbformat": 4,
 "nbformat_minor": 5
}
